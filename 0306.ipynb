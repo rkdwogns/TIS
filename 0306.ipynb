{
  "nbformat": 4,
  "nbformat_minor": 0,
  "metadata": {
    "colab": {
      "provenance": [],
      "authorship_tag": "ABX9TyN4OivSUyZZd8nMtELQf8NU",
      "include_colab_link": true
    },
    "kernelspec": {
      "name": "python3",
      "display_name": "Python 3"
    },
    "language_info": {
      "name": "python"
    }
  },
  "cells": [
    {
      "cell_type": "markdown",
      "metadata": {
        "id": "view-in-github",
        "colab_type": "text"
      },
      "source": [
        "<a href=\"https://colab.research.google.com/github/rkdwogns/TIS/blob/main/0306.ipynb\" target=\"_parent\"><img src=\"https://colab.research.google.com/assets/colab-badge.svg\" alt=\"Open In Colab\"/></a>"
      ]
    },
    {
      "cell_type": "code",
      "execution_count": null,
      "metadata": {
        "id": "VOrKiJrInx5w"
      },
      "outputs": [],
      "source": [
        "import numpy as np\n",
        "import pandas as pd\n",
        "from sklearn import datasets\n",
        "iris = datasets.load_iris()\n",
        "\n",
        "np.random.seed(5)\n",
        "\n",
        "X = iris.data # 입력 데이터\n",
        "Y = iris.target # 타깃 데이터\n",
        "\n",
        "from sklearn.model_selection import train_test_split\n",
        "train_input, test_input, train_target, test_target = train_test_split(X, Y, test_size=0.2, random_state=42)"
      ]
    },
    {
      "cell_type": "code",
      "source": [
        "from sklearn.model_selection import cross_validate\n",
        "from sklearn.ensemble import RandomForestClassifier\n",
        "\n",
        "rf = RandomForestClassifier(n_jobs=-1, random_state=42)\n",
        "scores = cross_validate(rf, train_input, train_target, return_train_score=True, n_jobs=-1)\n",
        "\n",
        "print(np.mean(scores['train_score']), np.mean(scores['test_score']))"
      ],
      "metadata": {
        "colab": {
          "base_uri": "https://localhost:8080/"
        },
        "id": "_GOu0ZIWodjc",
        "outputId": "a5edd8be-83ab-469c-bbb0-c414a1ba7e38"
      },
      "execution_count": null,
      "outputs": [
        {
          "output_type": "stream",
          "name": "stdout",
          "text": [
            "1.0 0.9416666666666667\n"
          ]
        }
      ]
    },
    {
      "cell_type": "code",
      "source": [
        "rf.fit(train_input, train_target)\n",
        "print(rf.feature_importances_)"
      ],
      "metadata": {
        "colab": {
          "base_uri": "https://localhost:8080/"
        },
        "id": "CvNncSKAq7Bd",
        "outputId": "01e9b411-d944-4bd0-f84d-c9c422615d53"
      },
      "execution_count": null,
      "outputs": [
        {
          "output_type": "stream",
          "name": "stdout",
          "text": [
            "[0.10809762 0.03038681 0.43999397 0.42152159]\n"
          ]
        }
      ]
    },
    {
      "cell_type": "code",
      "source": [
        "rf = RandomForestClassifier(oob_score=True, n_jobs=-1, random_state=42)\n",
        "\n",
        "rf.fit(train_input, train_target)\n",
        "print(rf.oob_score_)"
      ],
      "metadata": {
        "colab": {
          "base_uri": "https://localhost:8080/"
        },
        "id": "U9QPc1DerPmj",
        "outputId": "fa63dce0-5ae5-4f8d-da12-31673287def6"
      },
      "execution_count": null,
      "outputs": [
        {
          "output_type": "stream",
          "name": "stdout",
          "text": [
            "0.9166666666666666\n"
          ]
        }
      ]
    },
    {
      "cell_type": "code",
      "source": [
        "from lightgbm import LGBMClassifier\n",
        "\n",
        "lgb = LGBMClassifier(random_state=42)\n",
        "scores = cross_validate(lgb, train_input, train_target, return_train_score=True, n_jobs=-1)\n",
        "\n",
        "print(np.mean(scores['train_score']), np.mean(scores['test_score']))"
      ],
      "metadata": {
        "colab": {
          "base_uri": "https://localhost:8080/"
        },
        "id": "1xhB1OmwrVjY",
        "outputId": "07a3a0aa-5181-471f-add3-8d02950cbb1e"
      },
      "execution_count": null,
      "outputs": [
        {
          "output_type": "stream",
          "name": "stdout",
          "text": [
            "0.9895833333333334 0.9416666666666668\n"
          ]
        }
      ]
    },
    {
      "cell_type": "code",
      "source": [
        "from sklearn.model_selection import GridSearchCV\n",
        "\n",
        "gs = GridSearchCV(RandomForestClassifier(random_state=42), rf, n_jobs=-1)"
      ],
      "metadata": {
        "id": "0VFQaesdrhXk"
      },
      "execution_count": null,
      "outputs": []
    },
    {
      "cell_type": "code",
      "source": [
        "from sklearn.model_selection import GridSearchCV\n",
        "\n",
        "gs = GridSearchCV(LGBMClassifier(random_state=42), rf, n_jobs=-1)"
      ],
      "metadata": {
        "id": "ROczmSURRjtU"
      },
      "execution_count": null,
      "outputs": []
    },
    {
      "cell_type": "code",
      "source": [
        "# 사진을 '낮'과 '밤', '실내'와 '실외'로 구분하려는 문제는 각각 두 개의 이진 분류 문제입니다. \n",
        "# 따라서 로지스틱 회귀 분류 모델을 두 개 만들거나, 하나의 소프트맥스 회귀 분류 모델을 만들어서 두 개의 문제를 한 번에 해결할 수 있습니다.\n",
        "\n",
        "# 로지스틱 회귀 분류 모델을 두 개 만들 경우, 하나는 '낮'과 '밤'을 구분하는 이진 분류 모델이 되고, 다른 하나는 '실내'와 '실외'를 구분하는 이진 분류 모델이 됩니다. \n",
        "# 이 경우, 두 모델은 독립적으로 학습되고 예측되므로, 한 모델의 학습 결과가 다른 모델에 영향을 미치지 않습니다.\n",
        "\n",
        "# 반면, 소프트맥스 회귀 분류 모델을 만들 경우, '낮', '밤', '실내', '실외'를 포함한 4개의 클래스를 가지는 다중 분류 문제로 해결됩니다. \n",
        "# 이 경우, 하나의 모델에서 4개의 클래스에 대한 예측을 동시에 수행할 수 있습니다."
      ],
      "metadata": {
        "id": "QoHJ7mv7uKiQ"
      },
      "execution_count": null,
      "outputs": []
    },
    {
      "cell_type": "code",
      "source": [
        "from tensorflow import keras\n",
        "\n",
        "(train_input, train_target), (test_input, test_target) = keras.datasets.mnist.load_data()"
      ],
      "metadata": {
        "colab": {
          "base_uri": "https://localhost:8080/"
        },
        "id": "9dohe7ktv6k0",
        "outputId": "d3466962-b203-4f8f-8b5f-8b63a693ec8b"
      },
      "execution_count": null,
      "outputs": [
        {
          "output_type": "stream",
          "name": "stdout",
          "text": [
            "Downloading data from https://storage.googleapis.com/tensorflow/tf-keras-datasets/mnist.npz\n",
            "11490434/11490434 [==============================] - 0s 0us/step\n"
          ]
        }
      ]
    },
    {
      "cell_type": "code",
      "source": [
        "print(train_input.shape, train_target.shape)"
      ],
      "metadata": {
        "colab": {
          "base_uri": "https://localhost:8080/"
        },
        "id": "llU3lnuIwCay",
        "outputId": "345c9b95-b769-4cfd-ebd3-48c3996c0958"
      },
      "execution_count": null,
      "outputs": [
        {
          "output_type": "stream",
          "name": "stdout",
          "text": [
            "(60000, 28, 28) (60000,)\n"
          ]
        }
      ]
    },
    {
      "cell_type": "code",
      "source": [
        "print(test_input.shape, test_target.shape)"
      ],
      "metadata": {
        "colab": {
          "base_uri": "https://localhost:8080/"
        },
        "id": "K_6AzX2qwYBK",
        "outputId": "956c42aa-7135-44ee-809c-3b5156805ecc"
      },
      "execution_count": null,
      "outputs": [
        {
          "output_type": "stream",
          "name": "stdout",
          "text": [
            "(10000, 28, 28) (10000,)\n"
          ]
        }
      ]
    },
    {
      "cell_type": "code",
      "source": [
        "import matplotlib.pyplot as plt\n",
        "fig, axs = plt.subplots(3, 10, figsize=(10,2))\n",
        "\n",
        "for i in range(3):\n",
        "  for j in range(10):\n",
        "    axs[i,j].imshow(train_input[i*10+j], cmap='gray_r')\n",
        "    axs[i,j].axis('off')\n",
        "plt.show()"
      ],
      "metadata": {
        "colab": {
          "base_uri": "https://localhost:8080/",
          "height": 140
        },
        "id": "Yz-ygh3xwq8w",
        "outputId": "06348edc-ac8e-4d2b-868c-5960dcd809c4"
      },
      "execution_count": null,
      "outputs": [
        {
          "output_type": "display_data",
          "data": {
            "text/plain": [
              "<Figure size 720x144 with 30 Axes>"
            ],
            "image/png": "[encoded data removed]"
          },
          "metadata": {
            "needs_background": "light"
          }
        }
      ]
    },
    {
      "cell_type": "code",
      "source": [
        "train_scaled = train_input / 255.0\n",
        "train_scaled = train_scaled.reshape(-1, 28*28)"
      ],
      "metadata": {
        "id": "uFhBsLPoxBtQ"
      },
      "execution_count": null,
      "outputs": []
    },
    {
      "cell_type": "code",
      "source": [
        "from sklearn.model_selection import train_test_split\n",
        "\n",
        "train_scaled, val_scaled, train_target, val_target = train_test_split(\n",
        "    train_scaled, train_target, test_size=0.25, random_state=42)"
      ],
      "metadata": {
        "id": "4YdLAQ9fxjUj"
      },
      "execution_count": null,
      "outputs": []
    },
    {
      "cell_type": "code",
      "source": [
        "print(val_scaled.shape, val_target.shape)"
      ],
      "metadata": {
        "colab": {
          "base_uri": "https://localhost:8080/"
        },
        "id": "hjg7NFi6xvBH",
        "outputId": "2e98398f-0ad8-4dc5-d65e-67fe1034cc3a"
      },
      "execution_count": null,
      "outputs": [
        {
          "output_type": "stream",
          "name": "stdout",
          "text": [
            "(15000, 784) (15000,)\n"
          ]
        }
      ]
    },
    {
      "cell_type": "code",
      "source": [
        "dense1 = keras.layers.Dense(100, activation='sigmoid', input_shape=(784,))\n",
        "dense2 = keras.layers.Dense(10, activation='softmax')"
      ],
      "metadata": {
        "id": "rMPwDZOCx0zr"
      },
      "execution_count": null,
      "outputs": []
    },
    {
      "cell_type": "code",
      "source": [
        "dense3 = keras.layers.Dense(100, activation='relu', input_shape=(784,))\n",
        "dense4 = keras.layers.Dense(10, activation='softmax')"
      ],
      "metadata": {
        "id": "p_gAkwWHyEEx"
      },
      "execution_count": null,
      "outputs": []
    },
    {
      "cell_type": "code",
      "source": [
        "model = keras.Sequential([dense1, dense2])"
      ],
      "metadata": {
        "id": "dqXBgRIXyZ_z"
      },
      "execution_count": null,
      "outputs": []
    },
    {
      "cell_type": "code",
      "source": [
        "model.summary()"
      ],
      "metadata": {
        "colab": {
          "base_uri": "https://localhost:8080/"
        },
        "id": "yc14v1FBya4q",
        "outputId": "f492d3dc-3998-41b7-ab5e-a092d3d8fab7"
      },
      "execution_count": null,
      "outputs": [
        {
          "output_type": "stream",
          "name": "stdout",
          "text": [
            "Model: \"sequential\"\n",
            "_________________________________________________________________\n",
            " Layer (type)                Output Shape              Param #   \n",
            "=================================================================\n",
            " dense (Dense)               (None, 100)               78500     \n",
            "                                                                 \n",
            " dense_1 (Dense)             (None, 10)                1010      \n",
            "                                                                 \n",
            "=================================================================\n",
            "Total params: 79,510\n",
            "Trainable params: 79,510\n",
            "Non-trainable params: 0\n",
            "_________________________________________________________________\n"
          ]
        }
      ]
    },
    {
      "cell_type": "code",
      "source": [
        "model2 = keras.Sequential([dense3, dense4])"
      ],
      "metadata": {
        "id": "8b_8sz3mylgR"
      },
      "execution_count": null,
      "outputs": []
    },
    {
      "cell_type": "code",
      "source": [
        "model2.summary()"
      ],
      "metadata": {
        "colab": {
          "base_uri": "https://localhost:8080/"
        },
        "id": "YzfSqpqoyn19",
        "outputId": "934532f5-3024-4dae-d49c-34ffc0b27d35"
      },
      "execution_count": null,
      "outputs": [
        {
          "output_type": "stream",
          "name": "stdout",
          "text": [
            "Model: \"sequential_1\"\n",
            "_________________________________________________________________\n",
            " Layer (type)                Output Shape              Param #   \n",
            "=================================================================\n",
            " dense_2 (Dense)             (None, 100)               78500     \n",
            "                                                                 \n",
            " dense_3 (Dense)             (None, 10)                1010      \n",
            "                                                                 \n",
            "=================================================================\n",
            "Total params: 79,510\n",
            "Trainable params: 79,510\n",
            "Non-trainable params: 0\n",
            "_________________________________________________________________\n"
          ]
        }
      ]
    },
    {
      "cell_type": "code",
      "source": [
        "model.compile(loss='sparse_categorical_crossentropy', metrics='accuracy')\n",
        "\n",
        "model.fit(train_scaled, train_target, epochs=5)"
      ],
      "metadata": {
        "colab": {
          "base_uri": "https://localhost:8080/"
        },
        "id": "r_BvAr3Nyo1q",
        "outputId": "9541321b-ee5c-402b-8f1b-407944159da1"
      },
      "execution_count": null,
      "outputs": [
        {
          "output_type": "stream",
          "name": "stdout",
          "text": [
            "Epoch 1/5\n",
            "1407/1407 [==============================] - 4s 3ms/step - loss: 0.1091 - accuracy: 0.9684\n",
            "Epoch 2/5\n",
            "1407/1407 [==============================] - 4s 3ms/step - loss: 0.0955 - accuracy: 0.9719\n",
            "Epoch 3/5\n",
            "1407/1407 [==============================] - 5s 3ms/step - loss: 0.0851 - accuracy: 0.9760\n",
            "Epoch 4/5\n",
            "1407/1407 [==============================] - 4s 3ms/step - loss: 0.0768 - accuracy: 0.9784\n",
            "Epoch 5/5\n",
            "1407/1407 [==============================] - 4s 3ms/step - loss: 0.0691 - accuracy: 0.9810\n"
          ]
        },
        {
          "output_type": "execute_result",
          "data": {
            "text/plain": [
              "<keras.callbacks.History at 0x7fa7acbd5eb0>"
            ]
          },
          "metadata": {},
          "execution_count": 28
        }
      ]
    },
    {
      "cell_type": "code",
      "source": [
        "model.evaluate(val_scaled, val_target)"
      ],
      "metadata": {
        "colab": {
          "base_uri": "https://localhost:8080/"
        },
        "id": "xm8XimLOy6d2",
        "outputId": "dd372288-834c-4526-d2ed-ff41b44420de"
      },
      "execution_count": null,
      "outputs": [
        {
          "output_type": "stream",
          "name": "stdout",
          "text": [
            "469/469 [==============================] - 2s 3ms/step - loss: 0.1021 - accuracy: 0.9695\n"
          ]
        },
        {
          "output_type": "execute_result",
          "data": {
            "text/plain": [
              "[0.10205806791782379, 0.9695333242416382]"
            ]
          },
          "metadata": {},
          "execution_count": 29
        }
      ]
    },
    {
      "cell_type": "code",
      "source": [
        "model2.compile(loss='sparse_categorical_crossentropy', metrics='accuracy')\n",
        "\n",
        "model2.fit(train_scaled, train_target, epochs=5)"
      ],
      "metadata": {
        "colab": {
          "base_uri": "https://localhost:8080/"
        },
        "id": "vxgT0hq7zLdX",
        "outputId": "b67278d4-bff6-4af9-c414-2a5ba132dc1e"
      },
      "execution_count": null,
      "outputs": [
        {
          "output_type": "stream",
          "name": "stdout",
          "text": [
            "Epoch 1/5\n",
            "1407/1407 [==============================] - 5s 3ms/step - loss: 0.3044 - accuracy: 0.9133\n",
            "Epoch 2/5\n",
            "1407/1407 [==============================] - 4s 3ms/step - loss: 0.1493 - accuracy: 0.9566\n",
            "Epoch 3/5\n",
            "1407/1407 [==============================] - 4s 3ms/step - loss: 0.1081 - accuracy: 0.9692\n",
            "Epoch 4/5\n",
            "1407/1407 [==============================] - 5s 3ms/step - loss: 0.0849 - accuracy: 0.9763\n",
            "Epoch 5/5\n",
            "1407/1407 [==============================] - 4s 3ms/step - loss: 0.0694 - accuracy: 0.9796\n"
          ]
        },
        {
          "output_type": "execute_result",
          "data": {
            "text/plain": [
              "<keras.callbacks.History at 0x7fa7acbe2580>"
            ]
          },
          "metadata": {},
          "execution_count": 25
        }
      ]
    },
    {
      "cell_type": "code",
      "source": [
        "model2.evaluate(val_scaled, val_target)"
      ],
      "metadata": {
        "colab": {
          "base_uri": "https://localhost:8080/"
        },
        "id": "7AysJbkxzPRw",
        "outputId": "28b01f24-e7a7-431c-fae1-459c53e72a88"
      },
      "execution_count": null,
      "outputs": [
        {
          "output_type": "stream",
          "name": "stdout",
          "text": [
            "469/469 [==============================] - 1s 2ms/step - loss: 0.1041 - accuracy: 0.9720\n"
          ]
        },
        {
          "output_type": "execute_result",
          "data": {
            "text/plain": [
              "[0.10407049208879471, 0.972000002861023]"
            ]
          },
          "metadata": {},
          "execution_count": 26
        }
      ]
    },
    {
      "cell_type": "code",
      "source": [
        "import tensorflow as tf\n",
        "import numpy as np\n",
        "from tensorflow.keras import Sequential\n",
        "from tensorflow.keras.layers import Dense\n",
        "\n",
        "dense = Dense(units=1, input_shape=[1])\n",
        "model3 = Sequential([dense])\n",
        "\n",
        "model3.compile(optimizer='sgd', loss='mean_squared_error')\n",
        "\n",
        "xs = np.array([8.4, 13.7, 15.0, 16.2, 17.4, 18.0, 18.7, 19.0, 19.6, 20.0, \n",
        "     21.0, 21.0, 21.0, 21.3, 22.0, 22.0, 22.0, 22.0, 22.0, 22.5, \n",
        "     22.5, 22.7, 23.0, 23.5, 24.0, 24.0, 24.6, 25.0, 25.6, 26.5, \n",
        "     27.3, 27.5, 27.5, 27.5, 28.0, 28.7, 30.0, 32.8, 34.5, 35.0, \n",
        "     36.5, 36.0, 37.0, 37.0, 39.0, 39.0, 39.0, 40.0, 40.0, 40.0, \n",
        "     40.0, 42.0, 43.0, 43.0, 43.5, 44.0], dtype=float)\n",
        "ys = np.array([5.9, 32.0, 40.0, 51.5, 70.0, 100.0, 78.0, 80.0, 85.0, 85.0, \n",
        "     110.0, 115.0, 125.0, 130.0, 120.0, 120.0, 130.0, 135.0, 110.0, \n",
        "     130.0, 150.0, 145.0, 150.0, 170.0, 225.0, 145.0, 188.0, 180.0, \n",
        "     197.0, 218.0, 300.0, 260.0, 265.0, 250.0, 250.0, 300.0, 320.0, \n",
        "     514.0, 556.0, 840.0, 685.0, 700.0, 700.0, 690.0, 900.0, 650.0, \n",
        "     820.0, 850.0, 900.0, 1015.0, 820.0, 1100.0, 1000.0, 1100.0, \n",
        "     1000.0, 1000.0], dtype=float)\n",
        "\n",
        "model3.fit(xs, ys, epochs=500)"
      ],
      "metadata": {
        "colab": {
          "base_uri": "https://localhost:8080/"
        },
        "id": "X2Q3WL2rzX2E",
        "outputId": "eedd943d-6bec-47cf-93bf-8a14782c723e"
      },
      "execution_count": null,
      "outputs": [
        {
          "output_type": "stream",
          "name": "stdout",
          "text": [
            "Epoch 1/500\n",
            "2/2 [==============================] - 0s 7ms/step - loss: 27262404.0000\n",
            "Epoch 2/500\n",
            "2/2 [==============================] - 0s 6ms/step - loss: 1947161722880.0000\n",
            "Epoch 3/500\n",
            "2/2 [==============================] - 0s 5ms/step - loss: 126200183699537920.0000\n",
            "Epoch 4/500\n",
            "2/2 [==============================] - 0s 5ms/step - loss: 10606394831322956693504.0000\n",
            "Epoch 5/500\n",
            "2/2 [==============================] - 0s 6ms/step - loss: 677028785431449516338315264.0000\n",
            "Epoch 6/500\n",
            "2/2 [==============================] - 0s 5ms/step - loss: 45806827946624499036787855851520.0000\n",
            "Epoch 7/500\n",
            "2/2 [==============================] - 0s 5ms/step - loss: 3427761132670688406783575504147447808.0000\n",
            "Epoch 8/500\n",
            "2/2 [==============================] - 0s 11ms/step - loss: inf\n",
            "Epoch 9/500\n",
            "2/2 [==============================] - 0s 5ms/step - loss: inf\n",
            "Epoch 10/500\n",
            "2/2 [==============================] - 0s 5ms/step - loss: inf\n",
            "Epoch 11/500\n",
            "2/2 [==============================] - 0s 7ms/step - loss: inf\n",
            "Epoch 12/500\n",
            "2/2 [==============================] - 0s 6ms/step - loss: inf\n",
            "Epoch 13/500\n",
            "2/2 [==============================] - 0s 6ms/step - loss: inf\n",
            "Epoch 14/500\n",
            "2/2 [==============================] - 0s 5ms/step - loss: inf\n",
            "Epoch 15/500\n",
            "2/2 [==============================] - 0s 5ms/step - loss: inf\n",
            "Epoch 16/500\n",
            "2/2 [==============================] - 0s 5ms/step - loss: nan\n",
            "Epoch 17/500\n",
            "2/2 [==============================] - 0s 5ms/step - loss: nan\n",
            "Epoch 18/500\n",
            "2/2 [==============================] - 0s 5ms/step - loss: nan\n",
            "Epoch 19/500\n",
            "2/2 [==============================] - 0s 5ms/step - loss: nan\n",
            "Epoch 20/500\n",
            "2/2 [==============================] - 0s 5ms/step - loss: nan\n",
            "Epoch 21/500\n",
            "2/2 [==============================] - 0s 5ms/step - loss: nan\n",
            "Epoch 22/500\n",
            "2/2 [==============================] - 0s 5ms/step - loss: nan\n",
            "Epoch 23/500\n",
            "2/2 [==============================] - 0s 6ms/step - loss: nan\n",
            "Epoch 24/500\n",
            "2/2 [==============================] - 0s 5ms/step - loss: nan\n",
            "Epoch 25/500\n",
            "2/2 [==============================] - 0s 5ms/step - loss: nan\n",
            "Epoch 26/500\n",
            "2/2 [==============================] - 0s 5ms/step - loss: nan\n",
            "Epoch 27/500\n",
            "2/2 [==============================] - 0s 5ms/step - loss: nan\n",
            "Epoch 28/500\n",
            "2/2 [==============================] - 0s 5ms/step - loss: nan\n",
            "Epoch 29/500\n",
            "2/2 [==============================] - 0s 5ms/step - loss: nan\n",
            "Epoch 30/500\n",
            "2/2 [==============================] - 0s 6ms/step - loss: nan\n",
            "Epoch 31/500\n",
            "2/2 [==============================] - 0s 6ms/step - loss: nan\n",
            "Epoch 32/500\n",
            "2/2 [==============================] - 0s 6ms/step - loss: nan\n",
            "Epoch 33/500\n",
            "2/2 [==============================] - 0s 5ms/step - loss: nan\n",
            "Epoch 34/500\n",
            "2/2 [==============================] - 0s 5ms/step - loss: nan\n",
            "Epoch 35/500\n",
            "2/2 [==============================] - 0s 5ms/step - loss: nan\n",
            "Epoch 36/500\n",
            "2/2 [==============================] - 0s 5ms/step - loss: nan\n",
            "Epoch 37/500\n",
            "2/2 [==============================] - 0s 5ms/step - loss: nan\n",
            "Epoch 38/500\n",
            "2/2 [==============================] - 0s 5ms/step - loss: nan\n",
            "Epoch 39/500\n",
            "2/2 [==============================] - 0s 5ms/step - loss: nan\n",
            "Epoch 40/500\n",
            "2/2 [==============================] - 0s 6ms/step - loss: nan\n",
            "Epoch 41/500\n",
            "2/2 [==============================] - 0s 5ms/step - loss: nan\n",
            "Epoch 42/500\n",
            "2/2 [==============================] - 0s 5ms/step - loss: nan\n",
            "Epoch 43/500\n",
            "2/2 [==============================] - 0s 5ms/step - loss: nan\n",
            "Epoch 44/500\n",
            "2/2 [==============================] - 0s 6ms/step - loss: nan\n",
            "Epoch 45/500\n",
            "2/2 [==============================] - 0s 5ms/step - loss: nan\n",
            "Epoch 46/500\n",
            "2/2 [==============================] - 0s 6ms/step - loss: nan\n",
            "Epoch 47/500\n",
            "2/2 [==============================] - 0s 5ms/step - loss: nan\n",
            "Epoch 48/500\n",
            "2/2 [==============================] - 0s 4ms/step - loss: nan\n",
            "Epoch 49/500\n",
            "2/2 [==============================] - 0s 5ms/step - loss: nan\n",
            "Epoch 50/500\n",
            "2/2 [==============================] - 0s 5ms/step - loss: nan\n",
            "Epoch 51/500\n",
            "2/2 [==============================] - 0s 7ms/step - loss: nan\n",
            "Epoch 52/500\n",
            "2/2 [==============================] - 0s 5ms/step - loss: nan\n",
            "Epoch 53/500\n",
            "2/2 [==============================] - 0s 5ms/step - loss: nan\n",
            "Epoch 54/500\n",
            "2/2 [==============================] - 0s 5ms/step - loss: nan\n",
            "Epoch 55/500\n",
            "2/2 [==============================] - 0s 7ms/step - loss: nan\n",
            "Epoch 56/500\n",
            "2/2 [==============================] - 0s 5ms/step - loss: nan\n",
            "Epoch 57/500\n",
            "2/2 [==============================] - 0s 6ms/step - loss: nan\n",
            "Epoch 58/500\n",
            "2/2 [==============================] - 0s 8ms/step - loss: nan\n",
            "Epoch 59/500\n",
            "2/2 [==============================] - 0s 5ms/step - loss: nan\n",
            "Epoch 60/500\n",
            "2/2 [==============================] - 0s 5ms/step - loss: nan\n",
            "Epoch 61/500\n",
            "2/2 [==============================] - 0s 7ms/step - loss: nan\n",
            "Epoch 62/500\n",
            "2/2 [==============================] - 0s 5ms/step - loss: nan\n",
            "Epoch 63/500\n",
            "2/2 [==============================] - 0s 5ms/step - loss: nan\n",
            "Epoch 64/500\n",
            "2/2 [==============================] - 0s 4ms/step - loss: nan\n",
            "Epoch 65/500\n",
            "2/2 [==============================] - 0s 8ms/step - loss: nan\n",
            "Epoch 66/500\n",
            "2/2 [==============================] - 0s 5ms/step - loss: nan\n",
            "Epoch 67/500\n",
            "2/2 [==============================] - 0s 5ms/step - loss: nan\n",
            "Epoch 68/500\n",
            "2/2 [==============================] - 0s 7ms/step - loss: nan\n",
            "Epoch 69/500\n",
            "2/2 [==============================] - 0s 6ms/step - loss: nan\n",
            "Epoch 70/500\n",
            "2/2 [==============================] - 0s 6ms/step - loss: nan\n",
            "Epoch 71/500\n",
            "2/2 [==============================] - 0s 6ms/step - loss: nan\n",
            "Epoch 72/500\n",
            "2/2 [==============================] - 0s 5ms/step - loss: nan\n",
            "Epoch 73/500\n",
            "2/2 [==============================] - 0s 6ms/step - loss: nan\n",
            "Epoch 74/500\n",
            "2/2 [==============================] - 0s 5ms/step - loss: nan\n",
            "Epoch 75/500\n",
            "2/2 [==============================] - 0s 7ms/step - loss: nan\n",
            "Epoch 76/500\n",
            "2/2 [==============================] - 0s 6ms/step - loss: nan\n",
            "Epoch 77/500\n",
            "2/2 [==============================] - 0s 10ms/step - loss: nan\n",
            "Epoch 78/500\n",
            "2/2 [==============================] - 0s 5ms/step - loss: nan\n",
            "Epoch 79/500\n",
            "2/2 [==============================] - 0s 5ms/step - loss: nan\n",
            "Epoch 80/500\n",
            "2/2 [==============================] - 0s 5ms/step - loss: nan\n",
            "Epoch 81/500\n",
            "2/2 [==============================] - 0s 5ms/step - loss: nan\n",
            "Epoch 82/500\n",
            "2/2 [==============================] - 0s 5ms/step - loss: nan\n",
            "Epoch 83/500\n",
            "2/2 [==============================] - 0s 5ms/step - loss: nan\n",
            "Epoch 84/500\n",
            "2/2 [==============================] - 0s 6ms/step - loss: nan\n",
            "Epoch 85/500\n",
            "2/2 [==============================] - 0s 6ms/step - loss: nan\n",
            "Epoch 86/500\n",
            "2/2 [==============================] - 0s 6ms/step - loss: nan\n",
            "Epoch 87/500\n",
            "2/2 [==============================] - 0s 5ms/step - loss: nan\n",
            "Epoch 88/500\n",
            "2/2 [==============================] - 0s 5ms/step - loss: nan\n",
            "Epoch 89/500\n",
            "2/2 [==============================] - 0s 6ms/step - loss: nan\n",
            "Epoch 90/500\n",
            "2/2 [==============================] - 0s 5ms/step - loss: nan\n",
            "Epoch 91/500\n",
            "2/2 [==============================] - 0s 5ms/step - loss: nan\n",
            "Epoch 92/500\n",
            "2/2 [==============================] - 0s 5ms/step - loss: nan\n",
            "Epoch 93/500\n",
            "2/2 [==============================] - 0s 8ms/step - loss: nan\n",
            "Epoch 94/500\n",
            "2/2 [==============================] - 0s 6ms/step - loss: nan\n",
            "Epoch 95/500\n",
            "2/2 [==============================] - 0s 5ms/step - loss: nan\n",
            "Epoch 96/500\n",
            "2/2 [==============================] - 0s 5ms/step - loss: nan\n",
            "Epoch 97/500\n",
            "2/2 [==============================] - 0s 6ms/step - loss: nan\n",
            "Epoch 98/500\n",
            "2/2 [==============================] - 0s 5ms/step - loss: nan\n",
            "Epoch 99/500\n",
            "2/2 [==============================] - 0s 5ms/step - loss: nan\n",
            "Epoch 100/500\n",
            "2/2 [==============================] - 0s 5ms/step - loss: nan\n",
            "Epoch 101/500\n",
            "2/2 [==============================] - 0s 6ms/step - loss: nan\n",
            "Epoch 102/500\n",
            "2/2 [==============================] - 0s 6ms/step - loss: nan\n",
            "Epoch 103/500\n",
            "2/2 [==============================] - 0s 6ms/step - loss: nan\n",
            "Epoch 104/500\n",
            "2/2 [==============================] - 0s 7ms/step - loss: nan\n",
            "Epoch 105/500\n",
            "2/2 [==============================] - 0s 5ms/step - loss: nan\n",
            "Epoch 106/500\n",
            "2/2 [==============================] - 0s 6ms/step - loss: nan\n",
            "Epoch 107/500\n",
            "2/2 [==============================] - 0s 6ms/step - loss: nan\n",
            "Epoch 108/500\n",
            "2/2 [==============================] - 0s 6ms/step - loss: nan\n",
            "Epoch 109/500\n",
            "2/2 [==============================] - 0s 5ms/step - loss: nan\n",
            "Epoch 110/500\n",
            "2/2 [==============================] - 0s 8ms/step - loss: nan\n",
            "Epoch 111/500\n",
            "2/2 [==============================] - 0s 6ms/step - loss: nan\n",
            "Epoch 112/500\n",
            "2/2 [==============================] - 0s 5ms/step - loss: nan\n",
            "Epoch 113/500\n",
            "2/2 [==============================] - 0s 5ms/step - loss: nan\n",
            "Epoch 114/500\n",
            "2/2 [==============================] - 0s 8ms/step - loss: nan\n",
            "Epoch 115/500\n",
            "2/2 [==============================] - 0s 4ms/step - loss: nan\n",
            "Epoch 116/500\n",
            "2/2 [==============================] - 0s 5ms/step - loss: nan\n",
            "Epoch 117/500\n",
            "2/2 [==============================] - 0s 5ms/step - loss: nan\n",
            "Epoch 118/500\n",
            "2/2 [==============================] - 0s 6ms/step - loss: nan\n",
            "Epoch 119/500\n",
            "2/2 [==============================] - 0s 7ms/step - loss: nan\n",
            "Epoch 120/500\n",
            "2/2 [==============================] - 0s 6ms/step - loss: nan\n",
            "Epoch 121/500\n",
            "2/2 [==============================] - 0s 4ms/step - loss: nan\n",
            "Epoch 122/500\n",
            "2/2 [==============================] - 0s 7ms/step - loss: nan\n",
            "Epoch 123/500\n",
            "2/2 [==============================] - 0s 5ms/step - loss: nan\n",
            "Epoch 124/500\n",
            "2/2 [==============================] - 0s 4ms/step - loss: nan\n",
            "Epoch 125/500\n",
            "2/2 [==============================] - 0s 5ms/step - loss: nan\n",
            "Epoch 126/500\n",
            "2/2 [==============================] - 0s 5ms/step - loss: nan\n",
            "Epoch 127/500\n",
            "2/2 [==============================] - 0s 5ms/step - loss: nan\n",
            "Epoch 128/500\n",
            "2/2 [==============================] - 0s 5ms/step - loss: nan\n",
            "Epoch 129/500\n",
            "2/2 [==============================] - 0s 5ms/step - loss: nan\n",
            "Epoch 130/500\n",
            "2/2 [==============================] - 0s 5ms/step - loss: nan\n",
            "Epoch 131/500\n",
            "2/2 [==============================] - 0s 5ms/step - loss: nan\n",
            "Epoch 132/500\n",
            "2/2 [==============================] - 0s 5ms/step - loss: nan\n",
            "Epoch 133/500\n",
            "2/2 [==============================] - 0s 5ms/step - loss: nan\n",
            "Epoch 134/500\n",
            "2/2 [==============================] - 0s 5ms/step - loss: nan\n",
            "Epoch 135/500\n",
            "2/2 [==============================] - 0s 5ms/step - loss: nan\n",
            "Epoch 136/500\n",
            "2/2 [==============================] - 0s 5ms/step - loss: nan\n",
            "Epoch 137/500\n",
            "2/2 [==============================] - 0s 5ms/step - loss: nan\n",
            "Epoch 138/500\n",
            "2/2 [==============================] - 0s 5ms/step - loss: nan\n",
            "Epoch 139/500\n",
            "2/2 [==============================] - 0s 5ms/step - loss: nan\n",
            "Epoch 140/500\n",
            "2/2 [==============================] - 0s 5ms/step - loss: nan\n",
            "Epoch 141/500\n",
            "2/2 [==============================] - 0s 5ms/step - loss: nan\n",
            "Epoch 142/500\n",
            "2/2 [==============================] - 0s 5ms/step - loss: nan\n",
            "Epoch 143/500\n",
            "2/2 [==============================] - 0s 5ms/step - loss: nan\n",
            "Epoch 144/500\n",
            "2/2 [==============================] - 0s 5ms/step - loss: nan\n",
            "Epoch 145/500\n",
            "2/2 [==============================] - 0s 5ms/step - loss: nan\n",
            "Epoch 146/500\n",
            "2/2 [==============================] - 0s 5ms/step - loss: nan\n",
            "Epoch 147/500\n",
            "2/2 [==============================] - 0s 5ms/step - loss: nan\n",
            "Epoch 148/500\n",
            "2/2 [==============================] - 0s 8ms/step - loss: nan\n",
            "Epoch 149/500\n",
            "2/2 [==============================] - 0s 5ms/step - loss: nan\n",
            "Epoch 150/500\n",
            "2/2 [==============================] - 0s 5ms/step - loss: nan\n",
            "Epoch 151/500\n",
            "2/2 [==============================] - 0s 5ms/step - loss: nan\n",
            "Epoch 152/500\n",
            "2/2 [==============================] - 0s 6ms/step - loss: nan\n",
            "Epoch 153/500\n",
            "2/2 [==============================] - 0s 5ms/step - loss: nan\n",
            "Epoch 154/500\n",
            "2/2 [==============================] - 0s 5ms/step - loss: nan\n",
            "Epoch 155/500\n",
            "2/2 [==============================] - 0s 5ms/step - loss: nan\n",
            "Epoch 156/500\n",
            "2/2 [==============================] - 0s 5ms/step - loss: nan\n",
            "Epoch 157/500\n",
            "2/2 [==============================] - 0s 5ms/step - loss: nan\n",
            "Epoch 158/500\n",
            "2/2 [==============================] - 0s 5ms/step - loss: nan\n",
            "Epoch 159/500\n",
            "2/2 [==============================] - 0s 5ms/step - loss: nan\n",
            "Epoch 160/500\n",
            "2/2 [==============================] - 0s 6ms/step - loss: nan\n",
            "Epoch 161/500\n",
            "2/2 [==============================] - 0s 5ms/step - loss: nan\n",
            "Epoch 162/500\n",
            "2/2 [==============================] - 0s 5ms/step - loss: nan\n",
            "Epoch 163/500\n",
            "2/2 [==============================] - 0s 5ms/step - loss: nan\n",
            "Epoch 164/500\n",
            "2/2 [==============================] - 0s 5ms/step - loss: nan\n",
            "Epoch 165/500\n",
            "2/2 [==============================] - 0s 5ms/step - loss: nan\n",
            "Epoch 166/500\n",
            "2/2 [==============================] - 0s 5ms/step - loss: nan\n",
            "Epoch 167/500\n",
            "2/2 [==============================] - 0s 5ms/step - loss: nan\n",
            "Epoch 168/500\n",
            "2/2 [==============================] - 0s 5ms/step - loss: nan\n",
            "Epoch 169/500\n",
            "2/2 [==============================] - 0s 5ms/step - loss: nan\n",
            "Epoch 170/500\n",
            "2/2 [==============================] - 0s 5ms/step - loss: nan\n",
            "Epoch 171/500\n",
            "2/2 [==============================] - 0s 5ms/step - loss: nan\n",
            "Epoch 172/500\n",
            "2/2 [==============================] - 0s 5ms/step - loss: nan\n",
            "Epoch 173/500\n",
            "2/2 [==============================] - 0s 5ms/step - loss: nan\n",
            "Epoch 174/500\n",
            "2/2 [==============================] - 0s 5ms/step - loss: nan\n",
            "Epoch 175/500\n",
            "2/2 [==============================] - 0s 5ms/step - loss: nan\n",
            "Epoch 176/500\n",
            "2/2 [==============================] - 0s 5ms/step - loss: nan\n",
            "Epoch 177/500\n",
            "2/2 [==============================] - 0s 5ms/step - loss: nan\n",
            "Epoch 178/500\n",
            "2/2 [==============================] - 0s 5ms/step - loss: nan\n",
            "Epoch 179/500\n",
            "2/2 [==============================] - 0s 5ms/step - loss: nan\n",
            "Epoch 180/500\n",
            "2/2 [==============================] - 0s 5ms/step - loss: nan\n",
            "Epoch 181/500\n",
            "2/2 [==============================] - 0s 5ms/step - loss: nan\n",
            "Epoch 182/500\n",
            "2/2 [==============================] - 0s 5ms/step - loss: nan\n",
            "Epoch 183/500\n",
            "2/2 [==============================] - 0s 5ms/step - loss: nan\n",
            "Epoch 184/500\n",
            "2/2 [==============================] - 0s 5ms/step - loss: nan\n",
            "Epoch 185/500\n",
            "2/2 [==============================] - 0s 6ms/step - loss: nan\n",
            "Epoch 186/500\n",
            "2/2 [==============================] - 0s 6ms/step - loss: nan\n",
            "Epoch 187/500\n",
            "2/2 [==============================] - 0s 5ms/step - loss: nan\n",
            "Epoch 188/500\n",
            "2/2 [==============================] - 0s 5ms/step - loss: nan\n",
            "Epoch 189/500\n",
            "2/2 [==============================] - 0s 5ms/step - loss: nan\n",
            "Epoch 190/500\n",
            "2/2 [==============================] - 0s 5ms/step - loss: nan\n",
            "Epoch 191/500\n",
            "2/2 [==============================] - 0s 5ms/step - loss: nan\n",
            "Epoch 192/500\n",
            "2/2 [==============================] - 0s 5ms/step - loss: nan\n",
            "Epoch 193/500\n",
            "2/2 [==============================] - 0s 5ms/step - loss: nan\n",
            "Epoch 194/500\n",
            "2/2 [==============================] - 0s 5ms/step - loss: nan\n",
            "Epoch 195/500\n",
            "2/2 [==============================] - 0s 5ms/step - loss: nan\n",
            "Epoch 196/500\n",
            "2/2 [==============================] - 0s 5ms/step - loss: nan\n",
            "Epoch 197/500\n",
            "2/2 [==============================] - 0s 5ms/step - loss: nan\n",
            "Epoch 198/500\n",
            "2/2 [==============================] - 0s 6ms/step - loss: nan\n",
            "Epoch 199/500\n",
            "2/2 [==============================] - 0s 13ms/step - loss: nan\n",
            "Epoch 200/500\n",
            "2/2 [==============================] - 0s 5ms/step - loss: nan\n",
            "Epoch 201/500\n",
            "2/2 [==============================] - 0s 5ms/step - loss: nan\n",
            "Epoch 202/500\n",
            "2/2 [==============================] - 0s 5ms/step - loss: nan\n",
            "Epoch 203/500\n",
            "2/2 [==============================] - 0s 5ms/step - loss: nan\n",
            "Epoch 204/500\n",
            "2/2 [==============================] - 0s 5ms/step - loss: nan\n",
            "Epoch 205/500\n",
            "2/2 [==============================] - 0s 5ms/step - loss: nan\n",
            "Epoch 206/500\n",
            "2/2 [==============================] - 0s 5ms/step - loss: nan\n",
            "Epoch 207/500\n",
            "2/2 [==============================] - 0s 5ms/step - loss: nan\n",
            "Epoch 208/500\n",
            "2/2 [==============================] - 0s 5ms/step - loss: nan\n",
            "Epoch 209/500\n",
            "2/2 [==============================] - 0s 5ms/step - loss: nan\n",
            "Epoch 210/500\n",
            "2/2 [==============================] - 0s 5ms/step - loss: nan\n",
            "Epoch 211/500\n",
            "2/2 [==============================] - 0s 5ms/step - loss: nan\n",
            "Epoch 212/500\n",
            "2/2 [==============================] - 0s 5ms/step - loss: nan\n",
            "Epoch 213/500\n",
            "2/2 [==============================] - 0s 5ms/step - loss: nan\n",
            "Epoch 214/500\n",
            "2/2 [==============================] - 0s 5ms/step - loss: nan\n",
            "Epoch 215/500\n",
            "2/2 [==============================] - 0s 5ms/step - loss: nan\n",
            "Epoch 216/500\n",
            "2/2 [==============================] - 0s 5ms/step - loss: nan\n",
            "Epoch 217/500\n",
            "2/2 [==============================] - 0s 5ms/step - loss: nan\n",
            "Epoch 218/500\n",
            "2/2 [==============================] - 0s 5ms/step - loss: nan\n",
            "Epoch 219/500\n",
            "2/2 [==============================] - 0s 5ms/step - loss: nan\n",
            "Epoch 220/500\n",
            "2/2 [==============================] - 0s 6ms/step - loss: nan\n",
            "Epoch 221/500\n",
            "2/2 [==============================] - 0s 5ms/step - loss: nan\n",
            "Epoch 222/500\n",
            "2/2 [==============================] - 0s 5ms/step - loss: nan\n",
            "Epoch 223/500\n",
            "2/2 [==============================] - 0s 5ms/step - loss: nan\n",
            "Epoch 224/500\n",
            "2/2 [==============================] - 0s 5ms/step - loss: nan\n",
            "Epoch 225/500\n",
            "2/2 [==============================] - 0s 5ms/step - loss: nan\n",
            "Epoch 226/500\n",
            "2/2 [==============================] - 0s 5ms/step - loss: nan\n",
            "Epoch 227/500\n",
            "2/2 [==============================] - 0s 5ms/step - loss: nan\n",
            "Epoch 228/500\n",
            "2/2 [==============================] - 0s 5ms/step - loss: nan\n",
            "Epoch 229/500\n",
            "2/2 [==============================] - 0s 5ms/step - loss: nan\n",
            "Epoch 230/500\n",
            "2/2 [==============================] - 0s 5ms/step - loss: nan\n",
            "Epoch 231/500\n",
            "2/2 [==============================] - 0s 6ms/step - loss: nan\n",
            "Epoch 232/500\n",
            "2/2 [==============================] - 0s 5ms/step - loss: nan\n",
            "Epoch 233/500\n",
            "2/2 [==============================] - 0s 5ms/step - loss: nan\n",
            "Epoch 234/500\n",
            "2/2 [==============================] - 0s 5ms/step - loss: nan\n",
            "Epoch 235/500\n",
            "2/2 [==============================] - 0s 5ms/step - loss: nan\n",
            "Epoch 236/500\n",
            "2/2 [==============================] - 0s 5ms/step - loss: nan\n",
            "Epoch 237/500\n",
            "2/2 [==============================] - 0s 5ms/step - loss: nan\n",
            "Epoch 238/500\n",
            "2/2 [==============================] - 0s 5ms/step - loss: nan\n",
            "Epoch 239/500\n",
            "2/2 [==============================] - 0s 4ms/step - loss: nan\n",
            "Epoch 240/500\n",
            "2/2 [==============================] - 0s 5ms/step - loss: nan\n",
            "Epoch 241/500\n",
            "2/2 [==============================] - 0s 5ms/step - loss: nan\n",
            "Epoch 242/500\n",
            "2/2 [==============================] - 0s 5ms/step - loss: nan\n",
            "Epoch 243/500\n",
            "2/2 [==============================] - 0s 5ms/step - loss: nan\n",
            "Epoch 244/500\n",
            "2/2 [==============================] - 0s 5ms/step - loss: nan\n",
            "Epoch 245/500\n",
            "2/2 [==============================] - 0s 5ms/step - loss: nan\n",
            "Epoch 246/500\n",
            "2/2 [==============================] - 0s 5ms/step - loss: nan\n",
            "Epoch 247/500\n",
            "2/2 [==============================] - 0s 5ms/step - loss: nan\n",
            "Epoch 248/500\n",
            "2/2 [==============================] - 0s 5ms/step - loss: nan\n",
            "Epoch 249/500\n",
            "2/2 [==============================] - 0s 5ms/step - loss: nan\n",
            "Epoch 250/500\n",
            "2/2 [==============================] - 0s 5ms/step - loss: nan\n",
            "Epoch 251/500\n",
            "2/2 [==============================] - 0s 8ms/step - loss: nan\n",
            "Epoch 252/500\n",
            "2/2 [==============================] - 0s 5ms/step - loss: nan\n",
            "Epoch 253/500\n",
            "2/2 [==============================] - 0s 5ms/step - loss: nan\n",
            "Epoch 254/500\n",
            "2/2 [==============================] - 0s 5ms/step - loss: nan\n",
            "Epoch 255/500\n",
            "2/2 [==============================] - 0s 5ms/step - loss: nan\n",
            "Epoch 256/500\n",
            "2/2 [==============================] - 0s 5ms/step - loss: nan\n",
            "Epoch 257/500\n",
            "2/2 [==============================] - 0s 5ms/step - loss: nan\n",
            "Epoch 258/500\n",
            "2/2 [==============================] - 0s 7ms/step - loss: nan\n",
            "Epoch 259/500\n",
            "2/2 [==============================] - 0s 5ms/step - loss: nan\n",
            "Epoch 260/500\n",
            "2/2 [==============================] - 0s 6ms/step - loss: nan\n",
            "Epoch 261/500\n",
            "2/2 [==============================] - 0s 5ms/step - loss: nan\n",
            "Epoch 262/500\n",
            "2/2 [==============================] - 0s 5ms/step - loss: nan\n",
            "Epoch 263/500\n",
            "2/2 [==============================] - 0s 5ms/step - loss: nan\n",
            "Epoch 264/500\n",
            "2/2 [==============================] - 0s 5ms/step - loss: nan\n",
            "Epoch 265/500\n",
            "2/2 [==============================] - 0s 5ms/step - loss: nan\n",
            "Epoch 266/500\n",
            "2/2 [==============================] - 0s 5ms/step - loss: nan\n",
            "Epoch 267/500\n",
            "2/2 [==============================] - 0s 5ms/step - loss: nan\n",
            "Epoch 268/500\n",
            "2/2 [==============================] - 0s 5ms/step - loss: nan\n",
            "Epoch 269/500\n",
            "2/2 [==============================] - 0s 5ms/step - loss: nan\n",
            "Epoch 270/500\n",
            "2/2 [==============================] - 0s 5ms/step - loss: nan\n",
            "Epoch 271/500\n",
            "2/2 [==============================] - 0s 5ms/step - loss: nan\n",
            "Epoch 272/500\n",
            "2/2 [==============================] - 0s 5ms/step - loss: nan\n",
            "Epoch 273/500\n",
            "2/2 [==============================] - 0s 5ms/step - loss: nan\n",
            "Epoch 274/500\n",
            "2/2 [==============================] - 0s 5ms/step - loss: nan\n",
            "Epoch 275/500\n",
            "2/2 [==============================] - 0s 5ms/step - loss: nan\n",
            "Epoch 276/500\n",
            "2/2 [==============================] - 0s 6ms/step - loss: nan\n",
            "Epoch 277/500\n",
            "2/2 [==============================] - 0s 5ms/step - loss: nan\n",
            "Epoch 278/500\n",
            "2/2 [==============================] - 0s 5ms/step - loss: nan\n",
            "Epoch 279/500\n",
            "2/2 [==============================] - 0s 5ms/step - loss: nan\n",
            "Epoch 280/500\n",
            "2/2 [==============================] - 0s 5ms/step - loss: nan\n",
            "Epoch 281/500\n",
            "2/2 [==============================] - 0s 5ms/step - loss: nan\n",
            "Epoch 282/500\n",
            "2/2 [==============================] - 0s 6ms/step - loss: nan\n",
            "Epoch 283/500\n",
            "2/2 [==============================] - 0s 5ms/step - loss: nan\n",
            "Epoch 284/500\n",
            "2/2 [==============================] - 0s 5ms/step - loss: nan\n",
            "Epoch 285/500\n",
            "2/2 [==============================] - 0s 6ms/step - loss: nan\n",
            "Epoch 286/500\n",
            "2/2 [==============================] - 0s 5ms/step - loss: nan\n",
            "Epoch 287/500\n",
            "2/2 [==============================] - 0s 5ms/step - loss: nan\n",
            "Epoch 288/500\n",
            "2/2 [==============================] - 0s 8ms/step - loss: nan\n",
            "Epoch 289/500\n",
            "2/2 [==============================] - 0s 6ms/step - loss: nan\n",
            "Epoch 290/500\n",
            "2/2 [==============================] - 0s 6ms/step - loss: nan\n",
            "Epoch 291/500\n",
            "2/2 [==============================] - 0s 5ms/step - loss: nan\n",
            "Epoch 292/500\n",
            "2/2 [==============================] - 0s 6ms/step - loss: nan\n",
            "Epoch 293/500\n",
            "2/2 [==============================] - 0s 5ms/step - loss: nan\n",
            "Epoch 294/500\n",
            "2/2 [==============================] - 0s 5ms/step - loss: nan\n",
            "Epoch 295/500\n",
            "2/2 [==============================] - 0s 5ms/step - loss: nan\n",
            "Epoch 296/500\n",
            "2/2 [==============================] - 0s 5ms/step - loss: nan\n",
            "Epoch 297/500\n",
            "2/2 [==============================] - 0s 5ms/step - loss: nan\n",
            "Epoch 298/500\n",
            "2/2 [==============================] - 0s 5ms/step - loss: nan\n",
            "Epoch 299/500\n",
            "2/2 [==============================] - 0s 5ms/step - loss: nan\n",
            "Epoch 300/500\n",
            "2/2 [==============================] - 0s 8ms/step - loss: nan\n",
            "Epoch 301/500\n",
            "2/2 [==============================] - 0s 5ms/step - loss: nan\n",
            "Epoch 302/500\n",
            "2/2 [==============================] - 0s 5ms/step - loss: nan\n",
            "Epoch 303/500\n",
            "2/2 [==============================] - 0s 5ms/step - loss: nan\n",
            "Epoch 304/500\n",
            "2/2 [==============================] - 0s 5ms/step - loss: nan\n",
            "Epoch 305/500\n",
            "2/2 [==============================] - 0s 5ms/step - loss: nan\n",
            "Epoch 306/500\n",
            "2/2 [==============================] - 0s 5ms/step - loss: nan\n",
            "Epoch 307/500\n",
            "2/2 [==============================] - 0s 5ms/step - loss: nan\n",
            "Epoch 308/500\n",
            "2/2 [==============================] - 0s 5ms/step - loss: nan\n",
            "Epoch 309/500\n",
            "2/2 [==============================] - 0s 6ms/step - loss: nan\n",
            "Epoch 310/500\n",
            "2/2 [==============================] - 0s 5ms/step - loss: nan\n",
            "Epoch 311/500\n",
            "2/2 [==============================] - 0s 5ms/step - loss: nan\n",
            "Epoch 312/500\n",
            "2/2 [==============================] - 0s 5ms/step - loss: nan\n",
            "Epoch 313/500\n",
            "2/2 [==============================] - 0s 5ms/step - loss: nan\n",
            "Epoch 314/500\n",
            "2/2 [==============================] - 0s 5ms/step - loss: nan\n",
            "Epoch 315/500\n",
            "2/2 [==============================] - 0s 5ms/step - loss: nan\n",
            "Epoch 316/500\n",
            "2/2 [==============================] - 0s 5ms/step - loss: nan\n",
            "Epoch 317/500\n",
            "2/2 [==============================] - 0s 5ms/step - loss: nan\n",
            "Epoch 318/500\n",
            "2/2 [==============================] - 0s 5ms/step - loss: nan\n",
            "Epoch 319/500\n",
            "2/2 [==============================] - 0s 5ms/step - loss: nan\n",
            "Epoch 320/500\n",
            "2/2 [==============================] - 0s 5ms/step - loss: nan\n",
            "Epoch 321/500\n",
            "2/2 [==============================] - 0s 5ms/step - loss: nan\n",
            "Epoch 322/500\n",
            "2/2 [==============================] - 0s 5ms/step - loss: nan\n",
            "Epoch 323/500\n",
            "2/2 [==============================] - 0s 5ms/step - loss: nan\n",
            "Epoch 324/500\n",
            "2/2 [==============================] - 0s 5ms/step - loss: nan\n",
            "Epoch 325/500\n",
            "2/2 [==============================] - 0s 5ms/step - loss: nan\n",
            "Epoch 326/500\n",
            "2/2 [==============================] - 0s 5ms/step - loss: nan\n",
            "Epoch 327/500\n",
            "2/2 [==============================] - 0s 5ms/step - loss: nan\n",
            "Epoch 328/500\n",
            "2/2 [==============================] - 0s 5ms/step - loss: nan\n",
            "Epoch 329/500\n",
            "2/2 [==============================] - 0s 5ms/step - loss: nan\n",
            "Epoch 330/500\n",
            "2/2 [==============================] - 0s 5ms/step - loss: nan\n",
            "Epoch 331/500\n",
            "2/2 [==============================] - 0s 5ms/step - loss: nan\n",
            "Epoch 332/500\n",
            "2/2 [==============================] - 0s 5ms/step - loss: nan\n",
            "Epoch 333/500\n",
            "2/2 [==============================] - 0s 5ms/step - loss: nan\n",
            "Epoch 334/500\n",
            "2/2 [==============================] - 0s 5ms/step - loss: nan\n",
            "Epoch 335/500\n",
            "2/2 [==============================] - 0s 5ms/step - loss: nan\n",
            "Epoch 336/500\n",
            "2/2 [==============================] - 0s 4ms/step - loss: nan\n",
            "Epoch 337/500\n",
            "2/2 [==============================] - 0s 4ms/step - loss: nan\n",
            "Epoch 338/500\n",
            "2/2 [==============================] - 0s 5ms/step - loss: nan\n",
            "Epoch 339/500\n",
            "2/2 [==============================] - 0s 5ms/step - loss: nan\n",
            "Epoch 340/500\n",
            "2/2 [==============================] - 0s 5ms/step - loss: nan\n",
            "Epoch 341/500\n",
            "2/2 [==============================] - 0s 5ms/step - loss: nan\n",
            "Epoch 342/500\n",
            "2/2 [==============================] - 0s 5ms/step - loss: nan\n",
            "Epoch 343/500\n",
            "2/2 [==============================] - 0s 5ms/step - loss: nan\n",
            "Epoch 344/500\n",
            "2/2 [==============================] - 0s 5ms/step - loss: nan\n",
            "Epoch 345/500\n",
            "2/2 [==============================] - 0s 4ms/step - loss: nan\n",
            "Epoch 346/500\n",
            "2/2 [==============================] - 0s 5ms/step - loss: nan\n",
            "Epoch 347/500\n",
            "2/2 [==============================] - 0s 5ms/step - loss: nan\n",
            "Epoch 348/500\n",
            "2/2 [==============================] - 0s 5ms/step - loss: nan\n",
            "Epoch 349/500\n",
            "2/2 [==============================] - 0s 5ms/step - loss: nan\n",
            "Epoch 350/500\n",
            "2/2 [==============================] - 0s 5ms/step - loss: nan\n",
            "Epoch 351/500\n",
            "2/2 [==============================] - 0s 5ms/step - loss: nan\n",
            "Epoch 352/500\n",
            "2/2 [==============================] - 0s 5ms/step - loss: nan\n",
            "Epoch 353/500\n",
            "2/2 [==============================] - 0s 5ms/step - loss: nan\n",
            "Epoch 354/500\n",
            "2/2 [==============================] - 0s 5ms/step - loss: nan\n",
            "Epoch 355/500\n",
            "2/2 [==============================] - 0s 5ms/step - loss: nan\n",
            "Epoch 356/500\n",
            "2/2 [==============================] - 0s 5ms/step - loss: nan\n",
            "Epoch 357/500\n",
            "2/2 [==============================] - 0s 5ms/step - loss: nan\n",
            "Epoch 358/500\n",
            "2/2 [==============================] - 0s 5ms/step - loss: nan\n",
            "Epoch 359/500\n",
            "2/2 [==============================] - 0s 5ms/step - loss: nan\n",
            "Epoch 360/500\n",
            "2/2 [==============================] - 0s 5ms/step - loss: nan\n",
            "Epoch 361/500\n",
            "2/2 [==============================] - 0s 5ms/step - loss: nan\n",
            "Epoch 362/500\n",
            "2/2 [==============================] - 0s 9ms/step - loss: nan\n",
            "Epoch 363/500\n",
            "2/2 [==============================] - 0s 5ms/step - loss: nan\n",
            "Epoch 364/500\n",
            "2/2 [==============================] - 0s 5ms/step - loss: nan\n",
            "Epoch 365/500\n",
            "2/2 [==============================] - 0s 5ms/step - loss: nan\n",
            "Epoch 366/500\n",
            "2/2 [==============================] - 0s 7ms/step - loss: nan\n",
            "Epoch 367/500\n",
            "2/2 [==============================] - 0s 7ms/step - loss: nan\n",
            "Epoch 368/500\n",
            "2/2 [==============================] - 0s 5ms/step - loss: nan\n",
            "Epoch 369/500\n",
            "2/2 [==============================] - 0s 7ms/step - loss: nan\n",
            "Epoch 370/500\n",
            "2/2 [==============================] - 0s 7ms/step - loss: nan\n",
            "Epoch 371/500\n",
            "2/2 [==============================] - 0s 6ms/step - loss: nan\n",
            "Epoch 372/500\n",
            "2/2 [==============================] - 0s 8ms/step - loss: nan\n",
            "Epoch 373/500\n",
            "2/2 [==============================] - 0s 7ms/step - loss: nan\n",
            "Epoch 374/500\n",
            "2/2 [==============================] - 0s 5ms/step - loss: nan\n",
            "Epoch 375/500\n",
            "2/2 [==============================] - 0s 6ms/step - loss: nan\n",
            "Epoch 376/500\n",
            "2/2 [==============================] - 0s 13ms/step - loss: nan\n",
            "Epoch 377/500\n",
            "2/2 [==============================] - 0s 5ms/step - loss: nan\n",
            "Epoch 378/500\n",
            "2/2 [==============================] - 0s 5ms/step - loss: nan\n",
            "Epoch 379/500\n",
            "2/2 [==============================] - 0s 8ms/step - loss: nan\n",
            "Epoch 380/500\n",
            "2/2 [==============================] - 0s 5ms/step - loss: nan\n",
            "Epoch 381/500\n",
            "2/2 [==============================] - 0s 7ms/step - loss: nan\n",
            "Epoch 382/500\n",
            "2/2 [==============================] - 0s 6ms/step - loss: nan\n",
            "Epoch 383/500\n",
            "2/2 [==============================] - 0s 5ms/step - loss: nan\n",
            "Epoch 384/500\n",
            "2/2 [==============================] - 0s 5ms/step - loss: nan\n",
            "Epoch 385/500\n",
            "2/2 [==============================] - 0s 6ms/step - loss: nan\n",
            "Epoch 386/500\n",
            "2/2 [==============================] - 0s 5ms/step - loss: nan\n",
            "Epoch 387/500\n",
            "2/2 [==============================] - 0s 5ms/step - loss: nan\n",
            "Epoch 388/500\n",
            "2/2 [==============================] - 0s 5ms/step - loss: nan\n",
            "Epoch 389/500\n",
            "2/2 [==============================] - 0s 5ms/step - loss: nan\n",
            "Epoch 390/500\n",
            "2/2 [==============================] - 0s 5ms/step - loss: nan\n",
            "Epoch 391/500\n",
            "2/2 [==============================] - 0s 4ms/step - loss: nan\n",
            "Epoch 392/500\n",
            "2/2 [==============================] - 0s 5ms/step - loss: nan\n",
            "Epoch 393/500\n",
            "2/2 [==============================] - 0s 5ms/step - loss: nan\n",
            "Epoch 394/500\n",
            "2/2 [==============================] - 0s 5ms/step - loss: nan\n",
            "Epoch 395/500\n",
            "2/2 [==============================] - 0s 5ms/step - loss: nan\n",
            "Epoch 396/500\n",
            "2/2 [==============================] - 0s 8ms/step - loss: nan\n",
            "Epoch 397/500\n",
            "2/2 [==============================] - 0s 9ms/step - loss: nan\n",
            "Epoch 398/500\n",
            "2/2 [==============================] - 0s 8ms/step - loss: nan\n",
            "Epoch 399/500\n",
            "2/2 [==============================] - 0s 5ms/step - loss: nan\n",
            "Epoch 400/500\n",
            "2/2 [==============================] - 0s 9ms/step - loss: nan\n",
            "Epoch 401/500\n",
            "2/2 [==============================] - 0s 5ms/step - loss: nan\n",
            "Epoch 402/500\n",
            "2/2 [==============================] - 0s 9ms/step - loss: nan\n",
            "Epoch 403/500\n",
            "2/2 [==============================] - 0s 5ms/step - loss: nan\n",
            "Epoch 404/500\n",
            "2/2 [==============================] - 0s 5ms/step - loss: nan\n",
            "Epoch 405/500\n",
            "2/2 [==============================] - 0s 6ms/step - loss: nan\n",
            "Epoch 406/500\n",
            "2/2 [==============================] - 0s 6ms/step - loss: nan\n",
            "Epoch 407/500\n",
            "2/2 [==============================] - 0s 5ms/step - loss: nan\n",
            "Epoch 408/500\n",
            "2/2 [==============================] - 0s 7ms/step - loss: nan\n",
            "Epoch 409/500\n",
            "2/2 [==============================] - 0s 7ms/step - loss: nan\n",
            "Epoch 410/500\n",
            "2/2 [==============================] - 0s 4ms/step - loss: nan\n",
            "Epoch 411/500\n",
            "2/2 [==============================] - 0s 6ms/step - loss: nan\n",
            "Epoch 412/500\n",
            "2/2 [==============================] - 0s 6ms/step - loss: nan\n",
            "Epoch 413/500\n",
            "2/2 [==============================] - 0s 5ms/step - loss: nan\n",
            "Epoch 414/500\n",
            "2/2 [==============================] - 0s 5ms/step - loss: nan\n",
            "Epoch 415/500\n",
            "2/2 [==============================] - 0s 4ms/step - loss: nan\n",
            "Epoch 416/500\n",
            "2/2 [==============================] - 0s 10ms/step - loss: nan\n",
            "Epoch 417/500\n",
            "2/2 [==============================] - 0s 4ms/step - loss: nan\n",
            "Epoch 418/500\n",
            "2/2 [==============================] - 0s 5ms/step - loss: nan\n",
            "Epoch 419/500\n",
            "2/2 [==============================] - 0s 5ms/step - loss: nan\n",
            "Epoch 420/500\n",
            "2/2 [==============================] - 0s 4ms/step - loss: nan\n",
            "Epoch 421/500\n",
            "2/2 [==============================] - 0s 7ms/step - loss: nan\n",
            "Epoch 422/500\n",
            "2/2 [==============================] - 0s 10ms/step - loss: nan\n",
            "Epoch 423/500\n",
            "2/2 [==============================] - 0s 8ms/step - loss: nan\n",
            "Epoch 424/500\n",
            "2/2 [==============================] - 0s 5ms/step - loss: nan\n",
            "Epoch 425/500\n",
            "2/2 [==============================] - 0s 4ms/step - loss: nan\n",
            "Epoch 426/500\n",
            "2/2 [==============================] - 0s 5ms/step - loss: nan\n",
            "Epoch 427/500\n",
            "2/2 [==============================] - 0s 8ms/step - loss: nan\n",
            "Epoch 428/500\n",
            "2/2 [==============================] - 0s 8ms/step - loss: nan\n",
            "Epoch 429/500\n",
            "2/2 [==============================] - 0s 8ms/step - loss: nan\n",
            "Epoch 430/500\n",
            "2/2 [==============================] - 0s 7ms/step - loss: nan\n",
            "Epoch 431/500\n",
            "2/2 [==============================] - 0s 6ms/step - loss: nan\n",
            "Epoch 432/500\n",
            "2/2 [==============================] - 0s 5ms/step - loss: nan\n",
            "Epoch 433/500\n",
            "2/2 [==============================] - 0s 5ms/step - loss: nan\n",
            "Epoch 434/500\n",
            "2/2 [==============================] - 0s 6ms/step - loss: nan\n",
            "Epoch 435/500\n",
            "2/2 [==============================] - 0s 5ms/step - loss: nan\n",
            "Epoch 436/500\n",
            "2/2 [==============================] - 0s 5ms/step - loss: nan\n",
            "Epoch 437/500\n",
            "2/2 [==============================] - 0s 8ms/step - loss: nan\n",
            "Epoch 438/500\n",
            "2/2 [==============================] - 0s 6ms/step - loss: nan\n",
            "Epoch 439/500\n",
            "2/2 [==============================] - 0s 5ms/step - loss: nan\n",
            "Epoch 440/500\n",
            "2/2 [==============================] - 0s 4ms/step - loss: nan\n",
            "Epoch 441/500\n",
            "2/2 [==============================] - 0s 5ms/step - loss: nan\n",
            "Epoch 442/500\n",
            "2/2 [==============================] - 0s 5ms/step - loss: nan\n",
            "Epoch 443/500\n",
            "2/2 [==============================] - 0s 5ms/step - loss: nan\n",
            "Epoch 444/500\n",
            "2/2 [==============================] - 0s 5ms/step - loss: nan\n",
            "Epoch 445/500\n",
            "2/2 [==============================] - 0s 5ms/step - loss: nan\n",
            "Epoch 446/500\n",
            "2/2 [==============================] - 0s 7ms/step - loss: nan\n",
            "Epoch 447/500\n",
            "2/2 [==============================] - 0s 7ms/step - loss: nan\n",
            "Epoch 448/500\n",
            "2/2 [==============================] - 0s 5ms/step - loss: nan\n",
            "Epoch 449/500\n",
            "2/2 [==============================] - 0s 5ms/step - loss: nan\n",
            "Epoch 450/500\n",
            "2/2 [==============================] - 0s 5ms/step - loss: nan\n",
            "Epoch 451/500\n",
            "2/2 [==============================] - 0s 7ms/step - loss: nan\n",
            "Epoch 452/500\n",
            "2/2 [==============================] - 0s 8ms/step - loss: nan\n",
            "Epoch 453/500\n",
            "2/2 [==============================] - 0s 7ms/step - loss: nan\n",
            "Epoch 454/500\n",
            "2/2 [==============================] - 0s 8ms/step - loss: nan\n",
            "Epoch 455/500\n",
            "2/2 [==============================] - 0s 7ms/step - loss: nan\n",
            "Epoch 456/500\n",
            "2/2 [==============================] - 0s 6ms/step - loss: nan\n",
            "Epoch 457/500\n",
            "2/2 [==============================] - 0s 7ms/step - loss: nan\n",
            "Epoch 458/500\n",
            "2/2 [==============================] - 0s 5ms/step - loss: nan\n",
            "Epoch 459/500\n",
            "2/2 [==============================] - 0s 7ms/step - loss: nan\n",
            "Epoch 460/500\n",
            "2/2 [==============================] - 0s 5ms/step - loss: nan\n",
            "Epoch 461/500\n",
            "2/2 [==============================] - 0s 6ms/step - loss: nan\n",
            "Epoch 462/500\n",
            "2/2 [==============================] - 0s 5ms/step - loss: nan\n",
            "Epoch 463/500\n",
            "2/2 [==============================] - 0s 5ms/step - loss: nan\n",
            "Epoch 464/500\n",
            "2/2 [==============================] - 0s 5ms/step - loss: nan\n",
            "Epoch 465/500\n",
            "2/2 [==============================] - 0s 5ms/step - loss: nan\n",
            "Epoch 466/500\n",
            "2/2 [==============================] - 0s 5ms/step - loss: nan\n",
            "Epoch 467/500\n",
            "2/2 [==============================] - 0s 5ms/step - loss: nan\n",
            "Epoch 468/500\n",
            "2/2 [==============================] - 0s 5ms/step - loss: nan\n",
            "Epoch 469/500\n",
            "2/2 [==============================] - 0s 5ms/step - loss: nan\n",
            "Epoch 470/500\n",
            "2/2 [==============================] - 0s 5ms/step - loss: nan\n",
            "Epoch 471/500\n",
            "2/2 [==============================] - 0s 5ms/step - loss: nan\n",
            "Epoch 472/500\n",
            "2/2 [==============================] - 0s 5ms/step - loss: nan\n",
            "Epoch 473/500\n",
            "2/2 [==============================] - 0s 5ms/step - loss: nan\n",
            "Epoch 474/500\n",
            "2/2 [==============================] - 0s 4ms/step - loss: nan\n",
            "Epoch 475/500\n",
            "2/2 [==============================] - 0s 4ms/step - loss: nan\n",
            "Epoch 476/500\n",
            "2/2 [==============================] - 0s 5ms/step - loss: nan\n",
            "Epoch 477/500\n",
            "2/2 [==============================] - 0s 5ms/step - loss: nan\n",
            "Epoch 478/500\n",
            "2/2 [==============================] - 0s 7ms/step - loss: nan\n",
            "Epoch 479/500\n",
            "2/2 [==============================] - 0s 5ms/step - loss: nan\n",
            "Epoch 480/500\n",
            "2/2 [==============================] - 0s 5ms/step - loss: nan\n",
            "Epoch 481/500\n",
            "2/2 [==============================] - 0s 5ms/step - loss: nan\n",
            "Epoch 482/500\n",
            "2/2 [==============================] - 0s 4ms/step - loss: nan\n",
            "Epoch 483/500\n",
            "2/2 [==============================] - 0s 4ms/step - loss: nan\n",
            "Epoch 484/500\n",
            "2/2 [==============================] - 0s 5ms/step - loss: nan\n",
            "Epoch 485/500\n",
            "2/2 [==============================] - 0s 5ms/step - loss: nan\n",
            "Epoch 486/500\n",
            "2/2 [==============================] - 0s 5ms/step - loss: nan\n",
            "Epoch 487/500\n",
            "2/2 [==============================] - 0s 5ms/step - loss: nan\n",
            "Epoch 488/500\n",
            "2/2 [==============================] - 0s 5ms/step - loss: nan\n",
            "Epoch 489/500\n",
            "2/2 [==============================] - 0s 5ms/step - loss: nan\n",
            "Epoch 490/500\n",
            "2/2 [==============================] - 0s 5ms/step - loss: nan\n",
            "Epoch 491/500\n",
            "2/2 [==============================] - 0s 5ms/step - loss: nan\n",
            "Epoch 492/500\n",
            "2/2 [==============================] - 0s 4ms/step - loss: nan\n",
            "Epoch 493/500\n",
            "2/2 [==============================] - 0s 5ms/step - loss: nan\n",
            "Epoch 494/500\n",
            "2/2 [==============================] - 0s 5ms/step - loss: nan\n",
            "Epoch 495/500\n",
            "2/2 [==============================] - 0s 5ms/step - loss: nan\n",
            "Epoch 496/500\n",
            "2/2 [==============================] - 0s 5ms/step - loss: nan\n",
            "Epoch 497/500\n",
            "2/2 [==============================] - 0s 5ms/step - loss: nan\n",
            "Epoch 498/500\n",
            "2/2 [==============================] - 0s 5ms/step - loss: nan\n",
            "Epoch 499/500\n",
            "2/2 [==============================] - 0s 4ms/step - loss: nan\n",
            "Epoch 500/500\n",
            "2/2 [==============================] - 0s 5ms/step - loss: nan\n"
          ]
        },
        {
          "output_type": "execute_result",
          "data": {
            "text/plain": [
              "<keras.callbacks.History at 0x7fa7b02a64c0>"
            ]
          },
          "metadata": {},
          "execution_count": 27
        }
      ]
    },
    {
      "cell_type": "code",
      "source": [],
      "metadata": {
        "id": "n2CR5NhW0ly_"
      },
      "execution_count": null,
      "outputs": []
    }
  ]
}