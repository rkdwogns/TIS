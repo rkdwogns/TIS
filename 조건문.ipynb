{
  "nbformat": 4,
  "nbformat_minor": 0,
  "metadata": {
    "colab": {
      "provenance": [],
      "authorship_tag": "ABX9TyMb1n1OGZzo/7vBEnUvfFrJ",
      "include_colab_link": true
    },
    "kernelspec": {
      "name": "python3",
      "display_name": "Python 3"
    },
    "language_info": {
      "name": "python"
    }
  },
  "cells": [
    {
      "cell_type": "markdown",
      "metadata": {
        "id": "view-in-github",
        "colab_type": "text"
      },
      "source": [
        "<a href=\"https://colab.research.google.com/github/rkdwogns/TIS/blob/main/%EC%A1%B0%EA%B1%B4%EB%AC%B8.ipynb\" target=\"_parent\"><img src=\"https://colab.research.google.com/assets/colab-badge.svg\" alt=\"Open In Colab\"/></a>"
      ]
    },
    {
      "cell_type": "code",
      "execution_count": 4,
      "metadata": {
        "colab": {
          "base_uri": "https://localhost:8080/"
        },
        "id": "NTJRHtQAr_aR",
        "outputId": "345c9726-e987-4f31-d499-b98b3a7478c2"
      },
      "outputs": [
        {
          "output_type": "stream",
          "name": "stdout",
          "text": [
            "7\n"
          ]
        }
      ],
      "source": [
        "cond = False\n",
        "\n",
        "if cond:\n",
        "  print(1+2)\n",
        "else:\n",
        "    print(3+4)"
      ]
    },
    {
      "cell_type": "code",
      "source": [
        "cond = 3>1\n",
        "print(cond)\n",
        "if 3>1:\n",
        "  print(\"10분 쉽시다\")\n",
        "else:\n",
        "  print(\"그냥 계속 합시다\")"
      ],
      "metadata": {
        "colab": {
          "base_uri": "https://localhost:8080/"
        },
        "id": "8cozo9antckF",
        "outputId": "393dccf1-d955-434d-a24b-153a5027cb07"
      },
      "execution_count": 6,
      "outputs": [
        {
          "output_type": "stream",
          "name": "stdout",
          "text": [
            "True\n",
            "10분 쉽시다\n"
          ]
        }
      ]
    },
    {
      "cell_type": "code",
      "source": [
        "print(3 < 2)\n",
        "print(3 == 3)\n",
        "print(2+2 != 5)\n",
        "print(len(\"ABC\") >= 2)\n",
        "print(1 in [1,2,3,4])\n",
        "print(1 not in [1,2,3,4])\n",
        "print((3>1) & (3<2))\n",
        "print((3>1) | (3<2))\n",
        "if (3>1) | (3<2):\n",
        "  print(\"집에 갑시다\")\n",
        "else:\n",
        "  print(\"집에 안가고 밤새 코딩 공부합시다.\")"
      ],
      "metadata": {
        "colab": {
          "base_uri": "https://localhost:8080/"
        },
        "id": "bmSEn9e_t3yA",
        "outputId": "af021bd8-450a-4f50-fab9-8264bfeba7ff"
      },
      "execution_count": 12,
      "outputs": [
        {
          "output_type": "stream",
          "name": "stdout",
          "text": [
            "False\n",
            "True\n",
            "True\n",
            "True\n",
            "True\n",
            "False\n",
            "False\n",
            "True\n",
            "집에 갑시다\n"
          ]
        }
      ]
    },
    {
      "cell_type": "code",
      "source": [
        "L = [1, 2, 3]\n",
        "S = \"abcde\"\n",
        "D = {\"A\":1, \"B\":2, \"C\":3}\n",
        "\n",
        "print(1 in L)\n",
        "print(2 not in L)\n",
        "print(\"abc\" in S)\n",
        "print(\"ac\" in S)\n",
        "print(\"A\" in D.keys())"
      ],
      "metadata": {
        "colab": {
          "base_uri": "https://localhost:8080/"
        },
        "id": "fZX7lqKNzAJX",
        "outputId": "0a5fb1b9-8314-4360-8560-15c9722aae7f"
      },
      "execution_count": 13,
      "outputs": [
        {
          "output_type": "stream",
          "name": "stdout",
          "text": [
            "True\n",
            "False\n",
            "True\n",
            "False\n",
            "True\n"
          ]
        }
      ]
    },
    {
      "cell_type": "code",
      "source": [
        "D = {\"B\": 30}\n",
        "if \"A\" not in D.keys():\n",
        "  D[\"A\"] = 0\n",
        "if \"B\" not in D.keys():\n",
        "  D[\"B\"] = 0\n",
        "if \"C\" not in D.keys():\n",
        "  D[\"C\"] = 0\n",
        "print(D)"
      ],
      "metadata": {
        "colab": {
          "base_uri": "https://localhost:8080/"
        },
        "id": "RQ5dtvpJ02go",
        "outputId": "88aadbb7-bf5e-400d-c6e0-1bfba200ff57"
      },
      "execution_count": 14,
      "outputs": [
        {
          "output_type": "stream",
          "name": "stdout",
          "text": [
            "{'B': 30, 'A': 0, 'C': 0}\n"
          ]
        }
      ]
    },
    {
      "cell_type": "code",
      "source": [],
      "metadata": {
        "id": "GKIr7jRR4Heu"
      },
      "execution_count": null,
      "outputs": []
    }
  ]
}