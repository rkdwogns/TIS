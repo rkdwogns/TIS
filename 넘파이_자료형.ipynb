{
  "nbformat": 4,
  "nbformat_minor": 0,
  "metadata": {
    "colab": {
      "provenance": [],
      "authorship_tag": "ABX9TyOkaqOOBCBodnl4T+xETzIo",
      "include_colab_link": true
    },
    "kernelspec": {
      "name": "python3",
      "display_name": "Python 3"
    },
    "language_info": {
      "name": "python"
    }
  },
  "cells": [
    {
      "cell_type": "markdown",
      "metadata": {
        "id": "view-in-github",
        "colab_type": "text"
      },
      "source": [
        "<a href=\"https://colab.research.google.com/github/rkdwogns/TIS/blob/main/%EB%84%98%ED%8C%8C%EC%9D%B4_%EC%9E%90%EB%A3%8C%ED%98%95.ipynb\" target=\"_parent\"><img src=\"https://colab.research.google.com/assets/colab-badge.svg\" alt=\"Open In Colab\"/></a>"
      ]
    },
    {
      "cell_type": "code",
      "execution_count": null,
      "metadata": {
        "colab": {
          "base_uri": "https://localhost:8080/"
        },
        "id": "BMf-zAPjKCLy",
        "outputId": "6762e4ba-8d8a-4c69-b028-abce2c9cd8a0"
      },
      "outputs": [
        {
          "output_type": "execute_result",
          "data": {
            "text/plain": [
              "numpy.ndarray"
            ]
          },
          "metadata": {},
          "execution_count": 2
        }
      ],
      "source": [
        "import numpy as np\n",
        "\n",
        "arr = np.array([1,2,3,4])\n",
        "type(arr)"
      ]
    },
    {
      "cell_type": "code",
      "source": [
        "import numpy as np\n",
        "arr1 = np.array([1, 2, 3])\n",
        "arr2 = np.array([1, 2, 3.0])\n",
        "arr3 = np.array([1, 2, \"3\"])\n",
        "\n",
        "print(arr1, arr1.dtype)\n",
        "print(arr2, arr2.dtype)\n",
        "print(arr3, arr3.dtype)"
      ],
      "metadata": {
        "colab": {
          "base_uri": "https://localhost:8080/"
        },
        "id": "9hb53MalXxwx",
        "outputId": "444f4b12-1176-420d-d231-eee5bff40574"
      },
      "execution_count": null,
      "outputs": [
        {
          "output_type": "stream",
          "name": "stdout",
          "text": [
            "[1 2 3] int64\n",
            "[1. 2. 3.] float64\n",
            "['1' '2' '3'] <U21\n"
          ]
        }
      ]
    },
    {
      "cell_type": "code",
      "source": [
        "# 1차원\n",
        "arr1 = np.array([1, 2, 3])\n",
        "print(arr1)\n",
        "# 2차원\n",
        "arr2 = np.array(([1, 2, 3],[4, 5, 6]))\n",
        "print(arr2)\n",
        "# 3차원\n",
        "arr3 = np.array(([[1, 2], [3, 4]], [[5, 6], [7, 8]]))\n",
        "print(arr3)"
      ],
      "metadata": {
        "colab": {
          "base_uri": "https://localhost:8080/"
        },
        "id": "uCcjY-NLYthr",
        "outputId": "1c6fdad6-2b03-406f-88d6-a5ace27f7d05"
      },
      "execution_count": null,
      "outputs": [
        {
          "output_type": "stream",
          "name": "stdout",
          "text": [
            "[1 2 3]\n",
            "[[1 2 3]\n",
            " [4 5 6]]\n",
            "[[[1 2]\n",
            "  [3 4]]\n",
            "\n",
            " [[5 6]\n",
            "  [7 8]]]\n"
          ]
        }
      ]
    },
    {
      "cell_type": "code",
      "source": [
        "# 1. 크기가 (4,)인 1차원 넘파이 배열을 생성하시고, 차원 및 형태를 출력해 보세요.\n",
        "# 2. 크기가 (4,3)인 2차원 넘파이 배열을 생성하시고, 차원 및 형태를 출력해 보세요.\n",
        "import numpy as np\n",
        "a = np.array([1, 2, 3, 4])\n",
        "b = np.array([[1, 2, 3], [3, 4, 5], [5, 6, 7], [7, 8, 9]])\n",
        "print('형태:', a.shape)\n",
        "print('차원:', a.ndim)\n",
        "print('형태:', b.shape)\n",
        "print('차원:', b.ndim)\n"
      ],
      "metadata": {
        "colab": {
          "base_uri": "https://localhost:8080/"
        },
        "id": "0w_erz_lZc_d",
        "outputId": "69d69be4-25c2-4076-a673-1e690d5679fb"
      },
      "execution_count": null,
      "outputs": [
        {
          "output_type": "stream",
          "name": "stdout",
          "text": [
            "형태: (4,)\n",
            "차원: 1\n",
            "형태: (4, 3)\n",
            "차원: 2\n"
          ]
        }
      ]
    },
    {
      "cell_type": "code",
      "source": [
        "arr1 = np.arange(5)\n",
        "display(arr1)"
      ],
      "metadata": {
        "colab": {
          "base_uri": "https://localhost:8080/",
          "height": 36
        },
        "id": "OHOQTDd5hCvi",
        "outputId": "9795a7a9-f78e-4892-fae9-ee9e38f95e8a"
      },
      "execution_count": null,
      "outputs": [
        {
          "output_type": "display_data",
          "data": {
            "text/plain": [
              "array([0, 1, 2, 3, 4])"
            ]
          },
          "metadata": {}
        }
      ]
    },
    {
      "cell_type": "code",
      "source": [
        "arr2 = np.arange(-1, 4.5, 1.5)\n",
        "display(arr2)"
      ],
      "metadata": {
        "colab": {
          "base_uri": "https://localhost:8080/",
          "height": 36
        },
        "id": "7-FCB8eajlsY",
        "outputId": "3ec676db-71ed-4184-f15d-31d62075c77d"
      },
      "execution_count": null,
      "outputs": [
        {
          "output_type": "display_data",
          "data": {
            "text/plain": [
              "array([-1. ,  0.5,  2. ,  3.5])"
            ]
          },
          "metadata": {}
        }
      ]
    },
    {
      "cell_type": "code",
      "source": [
        "arr3 = np.arange(10, 1, -1)\n",
        "arr3"
      ],
      "metadata": {
        "colab": {
          "base_uri": "https://localhost:8080/"
        },
        "id": "82ihPV8pjyA-",
        "outputId": "71c1eb91-3436-4c75-9727-0ba98bd677da"
      },
      "execution_count": null,
      "outputs": [
        {
          "output_type": "execute_result",
          "data": {
            "text/plain": [
              "array([10,  9,  8,  7,  6,  5,  4,  3,  2])"
            ]
          },
          "metadata": {},
          "execution_count": 17
        }
      ]
    },
    {
      "cell_type": "code",
      "source": [
        "arr4 = np.linspace(0, 1, 11)\n",
        "arr4"
      ],
      "metadata": {
        "colab": {
          "base_uri": "https://localhost:8080/"
        },
        "id": "RpsKpaA1kN_C",
        "outputId": "46d92f24-a349-4637-a5fc-0b4590085071"
      },
      "execution_count": null,
      "outputs": [
        {
          "output_type": "execute_result",
          "data": {
            "text/plain": [
              "array([0. , 0.1, 0.2, 0.3, 0.4, 0.5, 0.6, 0.7, 0.8, 0.9, 1. ])"
            ]
          },
          "metadata": {},
          "execution_count": 19
        }
      ]
    },
    {
      "cell_type": "code",
      "source": [
        "z1 = np.zeros(5)\n",
        "z1"
      ],
      "metadata": {
        "colab": {
          "base_uri": "https://localhost:8080/"
        },
        "id": "DR3dosVhkiqf",
        "outputId": "06a9078c-46c5-401b-c535-69273a395be1"
      },
      "execution_count": null,
      "outputs": [
        {
          "output_type": "execute_result",
          "data": {
            "text/plain": [
              "array([0., 0., 0., 0., 0.])"
            ]
          },
          "metadata": {},
          "execution_count": 20
        }
      ]
    },
    {
      "cell_type": "code",
      "source": [
        "z3 = np.zeros((3,2,4))\n",
        "print(z3.shape)"
      ],
      "metadata": {
        "colab": {
          "base_uri": "https://localhost:8080/"
        },
        "id": "SaT5JVKck_po",
        "outputId": "da9238de-6ca5-4a11-8556-f61d270937de"
      },
      "execution_count": null,
      "outputs": [
        {
          "output_type": "stream",
          "name": "stdout",
          "text": [
            "(3, 2, 4)\n"
          ]
        }
      ]
    },
    {
      "cell_type": "code",
      "source": [
        "c = np.ones((5, 2), dtype='i')\n",
        "c"
      ],
      "metadata": {
        "colab": {
          "base_uri": "https://localhost:8080/"
        },
        "id": "kzLBBUuvlFhM",
        "outputId": "e1250720-c403-4f72-ced8-fa15cde2619c"
      },
      "execution_count": null,
      "outputs": [
        {
          "output_type": "execute_result",
          "data": {
            "text/plain": [
              "array([[1, 1],\n",
              "       [1, 1],\n",
              "       [1, 1],\n",
              "       [1, 1],\n",
              "       [1, 1]], dtype=int32)"
            ]
          },
          "metadata": {},
          "execution_count": 26
        }
      ]
    },
    {
      "cell_type": "code",
      "source": [
        "f = np.ones_like(b, dtype='f')\n",
        "f"
      ],
      "metadata": {
        "colab": {
          "base_uri": "https://localhost:8080/"
        },
        "id": "BK9bvNvxmICN",
        "outputId": "89797ca8-b7e4-4264-badd-04d746a07a13"
      },
      "execution_count": null,
      "outputs": [
        {
          "output_type": "execute_result",
          "data": {
            "text/plain": [
              "array([[1., 1., 1.],\n",
              "       [1., 1., 1.],\n",
              "       [1., 1., 1.],\n",
              "       [1., 1., 1.]], dtype=float32)"
            ]
          },
          "metadata": {},
          "execution_count": 27
        }
      ]
    },
    {
      "cell_type": "code",
      "source": [
        "# 연습문제\n",
        "# 1. 5 크기의 전부 0과 전부 1로 채워진 넘파이 배열을 생성하세요.\n",
        "a = np.zeros(5)\n",
        "b = np.ones(5)\n",
        "print(a,b)\n",
        "# 2. (3,4) 크기의 전부 0과 전부 1로 채워진 넘파이 배열을 생성하고, 차원과 크기를 출력해 보세요. \n",
        "c = np.zeros((3,4))\n",
        "d = np.ones((3,4))\n",
        "print(c,d)\n",
        "print('차원:', c.ndim, '크기:', c.shape)\n",
        "print('차원:', d.ndim, '크기:', d.shape)\n",
        "# 3. 다음 배열(arr1)과 같은 크기를 가지며, 각각 0과 1로만 채워진 두 개의 배열을 생성해 보세요.\n",
        "# arr1 = np.array([[1, 2, 3], [4, 5, 6]])\n",
        "arr1 = np.array([[1, 2, 3], [4, 5, 6]])\n",
        "z3 = np.zeros_like(arr1)\n",
        "o3 = np.ones_like(arr1)\n",
        "print(z3, o3)\n",
        "# 4. 다음 배열(arr2)과 같은 크기를 가지며, 각각 0과 1로만 채워진 두 개의 배열을 생성해 보세요.\n",
        "# arr2 = np.array([[[1, 2], [3, 4]], [[5, 6], [7, 8]]])\n",
        "arr3 = np.zeros((2,2,2))\n",
        "arr4 = np.ones((2,2,2))\n",
        "print(arr3, arr4)"
      ],
      "metadata": {
        "colab": {
          "base_uri": "https://localhost:8080/"
        },
        "id": "OBWM5A_om9a5",
        "outputId": "8a5bc4d1-590b-4619-d2f2-cff059065427"
      },
      "execution_count": null,
      "outputs": [
        {
          "output_type": "stream",
          "name": "stdout",
          "text": [
            "[0. 0. 0. 0. 0.] [1. 1. 1. 1. 1.]\n",
            "[[0. 0. 0. 0.]\n",
            " [0. 0. 0. 0.]\n",
            " [0. 0. 0. 0.]] [[1. 1. 1. 1.]\n",
            " [1. 1. 1. 1.]\n",
            " [1. 1. 1. 1.]]\n",
            "차원: 2 크기: (3, 4)\n",
            "차원: 2 크기: (3, 4)\n",
            "[[0 0 0]\n",
            " [0 0 0]] [[1 1 1]\n",
            " [1 1 1]]\n",
            "[[[0. 0.]\n",
            "  [0. 0.]]\n",
            "\n",
            " [[0. 0.]\n",
            "  [0. 0.]]] [[[1. 1.]\n",
            "  [1. 1.]]\n",
            "\n",
            " [[1. 1.]\n",
            "  [1. 1.]]]\n"
          ]
        }
      ]
    },
    {
      "cell_type": "code",
      "source": [
        "arr1 = np.random.random(5)\n",
        "arr2 = np.random.random((2,2))\n",
        "print(arr1)\n",
        "print(arr2)"
      ],
      "metadata": {
        "colab": {
          "base_uri": "https://localhost:8080/"
        },
        "id": "Fd1wCURsotpL",
        "outputId": "363f8b06-9805-40b6-c2a0-56dee2f8bf97"
      },
      "execution_count": null,
      "outputs": [
        {
          "output_type": "stream",
          "name": "stdout",
          "text": [
            "[0.01287309 0.31385314 0.4514797  0.69792276 0.68942247]\n",
            "[[0.93128697 0.087476  ]\n",
            " [0.77904722 0.5548938 ]]\n"
          ]
        }
      ]
    },
    {
      "cell_type": "code",
      "source": [
        "arr1 = np.random.normal(0, 1, 5)\n",
        "arr2 = np.random.normal(10, 3, (3,3)) # (평균, 표준편차, 배열모양)\n",
        "print(arr1)\n",
        "print(arr2)"
      ],
      "metadata": {
        "colab": {
          "base_uri": "https://localhost:8080/"
        },
        "id": "Uf6aO2hVvnU3",
        "outputId": "9a11bed2-fe3c-4784-8ebd-e730072adf43"
      },
      "execution_count": null,
      "outputs": [
        {
          "output_type": "stream",
          "name": "stdout",
          "text": [
            "[-0.36266101  1.36790215 -0.36357971 -0.77920215 -0.62426805]\n",
            "[[ 6.61566811  7.91808688 16.88592049]\n",
            " [14.17483076  9.17997495 10.82860326]\n",
            " [11.51061589 13.78466104  8.79836836]]\n"
          ]
        }
      ]
    },
    {
      "cell_type": "code",
      "source": [
        "# 요소개수가 7개이고, 평균이 0, 분산이 1인 난수 넘파이 배열을 생성하세요.\n",
        "a = np.random.normal(0, 1, 7)\n",
        "print(a)\n",
        "# 다음 배열(arr)과 같은 크기의 평균 3, 분산 2인 난수 넘파이 배열을 생성하세요.\n",
        "# arr = np.zeros((3,2))\n",
        "arr = np.zeros((3,2))\n",
        "c = np.random.normal(3, 2, arr.shape)\n",
        "print(c)"
      ],
      "metadata": {
        "colab": {
          "base_uri": "https://localhost:8080/"
        },
        "id": "Qwvjhgibw9nU",
        "outputId": "9394aa79-3f88-4dd6-c615-d4f228c5e514"
      },
      "execution_count": null,
      "outputs": [
        {
          "output_type": "stream",
          "name": "stdout",
          "text": [
            "[ 0.29901598 -0.54397261  0.30561714 -2.66455287 -0.12218118 -0.033178\n",
            " -0.62290592]\n",
            "[[1.636759   2.55527352]\n",
            " [0.44591802 5.79922919]\n",
            " [6.18689617 3.72089605]]\n"
          ]
        }
      ]
    },
    {
      "cell_type": "code",
      "source": [
        "# 난수 시드(seed) 설정\n",
        "np.random.seed(42)\n",
        "\n",
        "# 0과 1 사이의 5개의 요소로 구성된 배열 생성\n",
        "# rand() 함수 사용\n",
        "np.random.rand(5)"
      ],
      "metadata": {
        "colab": {
          "base_uri": "https://localhost:8080/"
        },
        "id": "En7CgJxRyHcZ",
        "outputId": "ffa1f6c5-c726-49f0-9eb7-9622c158e8e8"
      },
      "execution_count": null,
      "outputs": [
        {
          "output_type": "execute_result",
          "data": {
            "text/plain": [
              "array([0.37454012, 0.95071431, 0.73199394, 0.59865848, 0.15601864])"
            ]
          },
          "metadata": {},
          "execution_count": 44
        }
      ]
    },
    {
      "cell_type": "code",
      "source": [
        "# np.random.shuffle()\n",
        "x = np.arange(10)\n",
        "x\n",
        "np.random.shuffle(x)\n",
        "x"
      ],
      "metadata": {
        "colab": {
          "base_uri": "https://localhost:8080/"
        },
        "id": "P5jYzl2lHMM_",
        "outputId": "8a8e0f42-fd65-4f80-d776-8c284935e9c4"
      },
      "execution_count": null,
      "outputs": [
        {
          "output_type": "execute_result",
          "data": {
            "text/plain": [
              "array([0, 1, 8, 5, 3, 4, 7, 9, 6, 2])"
            ]
          },
          "metadata": {},
          "execution_count": 46
        }
      ]
    },
    {
      "cell_type": "code",
      "source": [
        "# '오늘 뭐 먹지?'라는 모바일 앱을 만들려고 해요.\n",
        "menu = ['라면', '스파게티', '된장찌게', '파전']\n",
        "menu_arr = np.array(menu)\n",
        "recommended_menu = np.random.choice(menu_arr, 1, replace=True, p=[0.1, 0.1, 0.1, 0.7])\n",
        "recommended_menu"
      ],
      "metadata": {
        "colab": {
          "base_uri": "https://localhost:8080/"
        },
        "id": "gJsG1I_8IuRR",
        "outputId": "488f9aeb-95c5-4588-c04b-44ef2bbbbeaf"
      },
      "execution_count": null,
      "outputs": [
        {
          "output_type": "execute_result",
          "data": {
            "text/plain": [
              "array(['된장찌게'], dtype='<U4')"
            ]
          },
          "metadata": {},
          "execution_count": 50
        }
      ]
    },
    {
      "cell_type": "code",
      "source": [
        "# rand: 0부터 1사이의 균일 분포\n",
        "np.random.rand(10)"
      ],
      "metadata": {
        "colab": {
          "base_uri": "https://localhost:8080/"
        },
        "id": "UHklBpDVKMuM",
        "outputId": "ab2a84c9-f1ac-4ae3-f914-464d1393f02e"
      },
      "execution_count": null,
      "outputs": [
        {
          "output_type": "execute_result",
          "data": {
            "text/plain": [
              "array([0.72960618, 0.63755747, 0.88721274, 0.47221493, 0.11959425,\n",
              "       0.71324479, 0.76078505, 0.5612772 , 0.77096718, 0.4937956 ])"
            ]
          },
          "metadata": {},
          "execution_count": 54
        }
      ]
    },
    {
      "cell_type": "code",
      "source": [
        "# randn: 표준 정규 분포(평균: 0, 분산: 1)\n",
        "np.random.randn(10)"
      ],
      "metadata": {
        "colab": {
          "base_uri": "https://localhost:8080/"
        },
        "id": "EEYRmPYcLNmE",
        "outputId": "97675fe0-4821-407a-cfae-e83a4d10349d"
      },
      "execution_count": null,
      "outputs": [
        {
          "output_type": "execute_result",
          "data": {
            "text/plain": [
              "array([-2.6197451 ,  0.8219025 ,  0.08704707, -0.29900735,  0.09176078,\n",
              "       -1.98756891, -0.21967189,  0.35711257,  1.47789404, -0.51827022])"
            ]
          },
          "metadata": {},
          "execution_count": 55
        }
      ]
    },
    {
      "cell_type": "code",
      "source": [
        "# randint: 균일 분포의 정수 난수\n",
        "# 로또 번호 생성기(1~45의 숫자 중에서 7개의 임의의 숫자 추출)\n",
        "np.random.randint(45, size=7)"
      ],
      "metadata": {
        "colab": {
          "base_uri": "https://localhost:8080/"
        },
        "id": "zO0MBg3CLW5F",
        "outputId": "e5364223-7dca-4451-a885-808b06342002"
      },
      "execution_count": null,
      "outputs": [
        {
          "output_type": "execute_result",
          "data": {
            "text/plain": [
              "array([19, 29, 10, 27, 24, 38, 32])"
            ]
          },
          "metadata": {},
          "execution_count": 58
        }
      ]
    },
    {
      "cell_type": "code",
      "source": [
        "arr1 = np.array([1, 2, 3, 4, 5, 6])\n",
        "arr2 = np.array([[1, 2, 3], [4, 5, 6]])\n",
        "print(arr1.reshape(3, 2)) # (3, 2)로 구조 변경\n",
        "print(arr2.reshape(-1, 2)) # 열 개수를 2개로 구조 변경\n",
        "print(arr1.reshape(-1, 1)) # 열 개수를 1개로 구조 변경"
      ],
      "metadata": {
        "colab": {
          "base_uri": "https://localhost:8080/"
        },
        "id": "huSft-tQMHtS",
        "outputId": "0d0d6622-0705-4a71-fee2-62c1fe3da49a"
      },
      "execution_count": null,
      "outputs": [
        {
          "output_type": "stream",
          "name": "stdout",
          "text": [
            "[[1 2]\n",
            " [3 4]\n",
            " [5 6]]\n",
            "[[1 2]\n",
            " [3 4]\n",
            " [5 6]]\n",
            "[[1]\n",
            " [2]\n",
            " [3]\n",
            " [4]\n",
            " [5]\n",
            " [6]]\n"
          ]
        }
      ]
    },
    {
      "cell_type": "code",
      "source": [
        "# 1. 다음 배열이 주어졌을 때, 이 배열과 구성 요소가 같고 크지만 (3, 8)로 다른 2차원 배열을 생성하시오.\n",
        "arr = np.arange(24)\n",
        "print(arr.reshape(3, 8))\n",
        "# 2. 위 배열을 (6, 4) 크기의 배열로 만들되, reshape() 메서드에서 -1을 첫 번째 인자로 활용하세요.\n",
        "print(arr.reshape(-1, 4))\n",
        "# 3. 위 배열을 (3, 4, 2) 크기의 배열로 만들되, reshape() 메서드에서 -1을 두번째 인자로 활용하세요.\n",
        "print(arr.reshape(3, -1, 2))\n",
        "# 그리고 원하는 형태로 잘 변형되었는 지를 확인해 보세요(shape 속성 활용)."
      ],
      "metadata": {
        "id": "XjZoE30cNK7H",
        "colab": {
          "base_uri": "https://localhost:8080/"
        },
        "outputId": "9f2cd3cc-62ca-4833-b8f7-97faf0130281"
      },
      "execution_count": 62,
      "outputs": [
        {
          "output_type": "stream",
          "name": "stdout",
          "text": [
            "[[ 0  1  2  3  4  5  6  7]\n",
            " [ 8  9 10 11 12 13 14 15]\n",
            " [16 17 18 19 20 21 22 23]]\n",
            "[[ 0  1  2  3]\n",
            " [ 4  5  6  7]\n",
            " [ 8  9 10 11]\n",
            " [12 13 14 15]\n",
            " [16 17 18 19]\n",
            " [20 21 22 23]]\n",
            "[[[ 0  1]\n",
            "  [ 2  3]\n",
            "  [ 4  5]\n",
            "  [ 6  7]]\n",
            "\n",
            " [[ 8  9]\n",
            "  [10 11]\n",
            "  [12 13]\n",
            "  [14 15]]\n",
            "\n",
            " [[16 17]\n",
            "  [18 19]\n",
            "  [20 21]\n",
            "  [22 23]]]\n"
          ]
        }
      ]
    },
    {
      "cell_type": "code",
      "source": [],
      "metadata": {
        "id": "whh4QbPHRadI"
      },
      "execution_count": null,
      "outputs": []
    }
  ]
}