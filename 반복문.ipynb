{
  "nbformat": 4,
  "nbformat_minor": 0,
  "metadata": {
    "colab": {
      "provenance": [],
      "authorship_tag": "ABX9TyNZzg5gQs/nveAQ3QcViZcr",
      "include_colab_link": true
    },
    "kernelspec": {
      "name": "python3",
      "display_name": "Python 3"
    },
    "language_info": {
      "name": "python"
    }
  },
  "cells": [
    {
      "cell_type": "markdown",
      "metadata": {
        "id": "view-in-github",
        "colab_type": "text"
      },
      "source": [
        "<a href=\"https://colab.research.google.com/github/rkdwogns/TIS/blob/main/%EB%B0%98%EB%B3%B5%EB%AC%B8.ipynb\" target=\"_parent\"><img src=\"https://colab.research.google.com/assets/colab-badge.svg\" alt=\"Open In Colab\"/></a>"
      ]
    },
    {
      "cell_type": "code",
      "execution_count": 2,
      "metadata": {
        "id": "T_IVXQEX6C6M",
        "colab": {
          "base_uri": "https://localhost:8080/"
        },
        "outputId": "98b6b151-558f-4c40-bd0c-421c6ba5d805"
      },
      "outputs": [
        {
          "output_type": "stream",
          "name": "stdout",
          "text": [
            "2\n",
            "3\n",
            "4\n",
            "5\n",
            "6\n",
            "7\n",
            "8\n",
            "9\n",
            "10\n",
            "11\n"
          ]
        }
      ],
      "source": [
        "l = [1,2,3,4,5,6,7,8,9,10]\n",
        "for i in l:\n",
        "  print(i+1)"
      ]
    },
    {
      "cell_type": "code",
      "source": [
        "L = [\"A\", \"B\", \"C\"]\n",
        "for i in L: # i가 L을 순회함\n",
        "    print(i)"
      ],
      "metadata": {
        "colab": {
          "base_uri": "https://localhost:8080/"
        },
        "id": "exZHc_tls9gk",
        "outputId": "fe49a642-fa7e-42ae-a96c-e925812b8016"
      },
      "execution_count": 3,
      "outputs": [
        {
          "output_type": "stream",
          "name": "stdout",
          "text": [
            "A\n",
            "B\n",
            "C\n"
          ]
        }
      ]
    },
    {
      "cell_type": "code",
      "source": [
        "T = (1, 2, 3, 4, 5)\n",
        "\n",
        "for t in T:\n",
        "  x = t ** 2\n",
        "  y = t ** 3\n",
        "  print(t, x, y)"
      ],
      "metadata": {
        "colab": {
          "base_uri": "https://localhost:8080/"
        },
        "id": "7f2fLtK1t3mB",
        "outputId": "235c8cf5-b5c0-4f2a-c9eb-231b143b8dc8"
      },
      "execution_count": 4,
      "outputs": [
        {
          "output_type": "stream",
          "name": "stdout",
          "text": [
            "1 1 1\n",
            "2 4 8\n",
            "3 9 27\n",
            "4 16 64\n",
            "5 25 125\n"
          ]
        }
      ]
    },
    {
      "cell_type": "code",
      "source": [
        "# 연습문제\n",
        "# 1부터 10까지 구성된 리스트를 대상으로 각각의 원소를 세제곱하고 3을 더한 다음 2로 나눈 결과값을 출력해 보시오.\n",
        "\n",
        "l = [1,2,3,4,5,6,7,8,9,10]\n",
        "for i in l:\n",
        "  x = (i ** 3 + 3) / 2\n",
        "  print(x)"
      ],
      "metadata": {
        "colab": {
          "base_uri": "https://localhost:8080/"
        },
        "id": "dgJUT1ikuGe8",
        "outputId": "546555e9-b259-4513-e971-769022d11575"
      },
      "execution_count": 7,
      "outputs": [
        {
          "output_type": "stream",
          "name": "stdout",
          "text": [
            "2.0\n",
            "5.5\n",
            "15.0\n",
            "33.5\n",
            "64.0\n",
            "109.5\n",
            "173.0\n",
            "257.5\n",
            "366.0\n",
            "501.5\n"
          ]
        }
      ]
    },
    {
      "cell_type": "code",
      "source": [
        "# n1 = [[1,2,3],[4,5,6],[7,8,9]] 리스트에서 각각의 요소를 반복문으로 출력해 보세요.\n",
        "n1 = [[1,2,3],[4,5,6],[7,8,9]]\n",
        "for a,b,c in n1:\n",
        "  print(a,b,c)"
      ],
      "metadata": {
        "colab": {
          "base_uri": "https://localhost:8080/"
        },
        "id": "iGAfl1QkvKFG",
        "outputId": "82462b07-a53a-420c-c849-43f63537c140"
      },
      "execution_count": 8,
      "outputs": [
        {
          "output_type": "stream",
          "name": "stdout",
          "text": [
            "1 2 3\n",
            "4 5 6\n",
            "7 8 9\n"
          ]
        }
      ]
    },
    {
      "cell_type": "code",
      "source": [
        "# zip\n",
        "A = [1, 2, 3]\n",
        "B = [\"A\", \"B\", \"C\"]\n",
        "\n",
        "for a, b in zip(A, B):\n",
        "  print(a, b)"
      ],
      "metadata": {
        "colab": {
          "base_uri": "https://localhost:8080/"
        },
        "id": "Ru7XbP-HwMh9",
        "outputId": "eeaae82d-2ce0-4360-9d67-e19716120bf9"
      },
      "execution_count": 9,
      "outputs": [
        {
          "output_type": "stream",
          "name": "stdout",
          "text": [
            "1 A\n",
            "2 B\n",
            "3 C\n"
          ]
        }
      ]
    },
    {
      "cell_type": "code",
      "source": [
        "# 두 학급이 있는데 [\"철수\", \"만수\", \"성호\"], [\"영희\", \"영자\", \"순이\"]를 대상으로 \"두 학급의 1번 학생은 철수와 영희입니다\" 출력해 보세요.\n",
        "class1 = [\"철수\", \"만수\", \"성호\"]\n",
        "class2 = [\"영희\", \"영자\", \"순이\"]\n",
        "for a, b in zip(class1, class2):\n",
        "  print(\"두 학급의 학생은 {}와 {}입니다\".format(a, b)) # {}에 끼워 넣을라면 .format()"
      ],
      "metadata": {
        "colab": {
          "base_uri": "https://localhost:8080/"
        },
        "id": "sXixk1CDw9Fd",
        "outputId": "8293a9b3-33e8-41e1-eee1-a300133f303e"
      },
      "execution_count": 13,
      "outputs": [
        {
          "output_type": "stream",
          "name": "stdout",
          "text": [
            "두 학급의 학생은 철수와 영희입니다\n",
            "두 학급의 학생은 만수와 영자입니다\n",
            "두 학급의 학생은 성호와 순이입니다\n"
          ]
        }
      ]
    },
    {
      "cell_type": "code",
      "source": [
        "# range 함수는 시작점, 끝점, 증가폭 (시작점 입력 안하면 0으로, 끝점은 마지막은 불포함, 증가폭 입력 안하면 1로)\n",
        "print(list(range(1, 10, 1)))"
      ],
      "metadata": {
        "colab": {
          "base_uri": "https://localhost:8080/"
        },
        "id": "qqPf7kINyLzq",
        "outputId": "813285c4-df56-4e91-faea-5ff25c38a0ae"
      },
      "execution_count": 15,
      "outputs": [
        {
          "output_type": "stream",
          "name": "stdout",
          "text": [
            "[1, 2, 3, 4, 5, 6, 7, 8, 9]\n"
          ]
        }
      ]
    },
    {
      "cell_type": "code",
      "source": [
        "for i in range(5):\n",
        "  print(i)"
      ],
      "metadata": {
        "colab": {
          "base_uri": "https://localhost:8080/"
        },
        "id": "Q4iHLpQZ2jDJ",
        "outputId": "961a248e-f421-4b11-bfbb-eed55cd8bab3"
      },
      "execution_count": 16,
      "outputs": [
        {
          "output_type": "stream",
          "name": "stdout",
          "text": [
            "0\n",
            "1\n",
            "2\n",
            "3\n",
            "4\n"
          ]
        }
      ]
    },
    {
      "cell_type": "code",
      "source": [
        "A = [1, 2, 3]\n",
        "B = [\"A\", \"B\", \"C\"]\n",
        "\n",
        "for i in range(len(A)):\n",
        "  print(A[i], B[i])"
      ],
      "metadata": {
        "colab": {
          "base_uri": "https://localhost:8080/"
        },
        "id": "x_IqvwJt3yUD",
        "outputId": "ef1a2626-d9b1-4b9e-99de-0b5dca8bf7a8"
      },
      "execution_count": 23,
      "outputs": [
        {
          "output_type": "stream",
          "name": "stdout",
          "text": [
            "1 A\n",
            "2 B\n",
            "3 C\n"
          ]
        }
      ]
    },
    {
      "cell_type": "code",
      "source": [
        "# 연습문제: 아래 두 리스트에 대해서 A에는 각각의 원소를 제곱하시고, B에는 \"입니다용\"을 붙여서 출력해 보시오.\n",
        "for i in range(len(B)):\n",
        "  print(A[i]**2, B[i]+\"입니다용\")"
      ],
      "metadata": {
        "colab": {
          "base_uri": "https://localhost:8080/"
        },
        "id": "Pu_nKGOc4mKR",
        "outputId": "9b344585-aeb5-4d67-b1c1-f4beef320be7"
      },
      "execution_count": 25,
      "outputs": [
        {
          "output_type": "stream",
          "name": "stdout",
          "text": [
            "1 A입니다용\n",
            "4 B입니다용\n",
            "9 C입니다용\n"
          ]
        }
      ]
    },
    {
      "cell_type": "code",
      "source": [
        "L = [\"A\", \"B\", \"C\"]\n",
        "for idx, value in enumerate(L):\n",
        "  print(idx, \"번 인덱스는\" , value , \"입니다용~~~\")"
      ],
      "metadata": {
        "colab": {
          "base_uri": "https://localhost:8080/"
        },
        "id": "watxSfJD5Suv",
        "outputId": "b7188bba-bd6f-4e04-b957-624359462ecf"
      },
      "execution_count": 30,
      "outputs": [
        {
          "output_type": "stream",
          "name": "stdout",
          "text": [
            "0 번 인덱스는 A 입니다용~~~\n",
            "1 번 인덱스는 B 입니다용~~~\n",
            "2 번 인덱스는 C 입니다용~~~\n"
          ]
        }
      ]
    },
    {
      "cell_type": "code",
      "source": [
        "for i in [\"A\", \"B\"]:\n",
        "  print(\"첫 번째 반복문\")\n",
        "  print(i)\n",
        "  for j in [1,2]:\n",
        "    print(i,j)"
      ],
      "metadata": {
        "colab": {
          "base_uri": "https://localhost:8080/"
        },
        "id": "CJiijEoz8lTu",
        "outputId": "05ab7648-7d01-4f42-e1d4-cb7176bcc6c4"
      },
      "execution_count": 31,
      "outputs": [
        {
          "output_type": "stream",
          "name": "stdout",
          "text": [
            "첫 번째 반복문\n",
            "A\n",
            "A 1\n",
            "A 2\n",
            "첫 번째 반복문\n",
            "B\n",
            "B 1\n",
            "B 2\n"
          ]
        }
      ]
    },
    {
      "cell_type": "code",
      "source": [
        "A = [1, 2, 3]\n",
        "B = [\"A\", \"B\", \"C\"]\n",
        "L = [] # 코드의 결과물을 저장할 빈 리스트를 L에 저장. 이 작업을 \"변수 초기화\"라 한다\n",
        "for a in A:\n",
        "  print(a)\n",
        "  for b in B:\n",
        "    L.append((a,b))\n",
        "    print(L)\n",
        "print(\"최종결과:\", L)"
      ],
      "metadata": {
        "colab": {
          "base_uri": "https://localhost:8080/"
        },
        "id": "YveVURAE-0Wv",
        "outputId": "345d8372-b98c-47cb-edea-8829bdfb2c49"
      },
      "execution_count": 38,
      "outputs": [
        {
          "output_type": "stream",
          "name": "stdout",
          "text": [
            "1\n",
            "[(1, 'A')]\n",
            "[(1, 'A'), (1, 'B')]\n",
            "[(1, 'A'), (1, 'B'), (1, 'C')]\n",
            "2\n",
            "[(1, 'A'), (1, 'B'), (1, 'C'), (2, 'A')]\n",
            "[(1, 'A'), (1, 'B'), (1, 'C'), (2, 'A'), (2, 'B')]\n",
            "[(1, 'A'), (1, 'B'), (1, 'C'), (2, 'A'), (2, 'B'), (2, 'C')]\n",
            "3\n",
            "[(1, 'A'), (1, 'B'), (1, 'C'), (2, 'A'), (2, 'B'), (2, 'C'), (3, 'A')]\n",
            "[(1, 'A'), (1, 'B'), (1, 'C'), (2, 'A'), (2, 'B'), (2, 'C'), (3, 'A'), (3, 'B')]\n",
            "[(1, 'A'), (1, 'B'), (1, 'C'), (2, 'A'), (2, 'B'), (2, 'C'), (3, 'A'), (3, 'B'), (3, 'C')]\n",
            "최종결과: [(1, 'A'), (1, 'B'), (1, 'C'), (2, 'A'), (2, 'B'), (2, 'C'), (3, 'A'), (3, 'B'), (3, 'C')]\n"
          ]
        }
      ]
    },
    {
      "cell_type": "code",
      "source": [
        "# 구구단을 만들어 봅시다\n",
        "for a in range(1, 10):\n",
        "  print(a)\n",
        "  for b in range(1, 10):\n",
        "    print(f\"{a} * {b} = {a*b}\")\n",
        "    # print(\"{} * {} = {}\".format(a, b, a*b))도 가능"
      ],
      "metadata": {
        "colab": {
          "base_uri": "https://localhost:8080/"
        },
        "id": "J95uvSBZHL26",
        "outputId": "937ea3ac-36e5-40a1-bc14-6b1f922c5d05"
      },
      "execution_count": 44,
      "outputs": [
        {
          "output_type": "stream",
          "name": "stdout",
          "text": [
            "1\n",
            "1 * 1 = 1\n",
            "1 * 2 = 2\n",
            "1 * 3 = 3\n",
            "1 * 4 = 4\n",
            "1 * 5 = 5\n",
            "1 * 6 = 6\n",
            "1 * 7 = 7\n",
            "1 * 8 = 8\n",
            "1 * 9 = 9\n",
            "2\n",
            "2 * 1 = 2\n",
            "2 * 2 = 4\n",
            "2 * 3 = 6\n",
            "2 * 4 = 8\n",
            "2 * 5 = 10\n",
            "2 * 6 = 12\n",
            "2 * 7 = 14\n",
            "2 * 8 = 16\n",
            "2 * 9 = 18\n",
            "3\n",
            "3 * 1 = 3\n",
            "3 * 2 = 6\n",
            "3 * 3 = 9\n",
            "3 * 4 = 12\n",
            "3 * 5 = 15\n",
            "3 * 6 = 18\n",
            "3 * 7 = 21\n",
            "3 * 8 = 24\n",
            "3 * 9 = 27\n",
            "4\n",
            "4 * 1 = 4\n",
            "4 * 2 = 8\n",
            "4 * 3 = 12\n",
            "4 * 4 = 16\n",
            "4 * 5 = 20\n",
            "4 * 6 = 24\n",
            "4 * 7 = 28\n",
            "4 * 8 = 32\n",
            "4 * 9 = 36\n",
            "5\n",
            "5 * 1 = 5\n",
            "5 * 2 = 10\n",
            "5 * 3 = 15\n",
            "5 * 4 = 20\n",
            "5 * 5 = 25\n",
            "5 * 6 = 30\n",
            "5 * 7 = 35\n",
            "5 * 8 = 40\n",
            "5 * 9 = 45\n",
            "6\n",
            "6 * 1 = 6\n",
            "6 * 2 = 12\n",
            "6 * 3 = 18\n",
            "6 * 4 = 24\n",
            "6 * 5 = 30\n",
            "6 * 6 = 36\n",
            "6 * 7 = 42\n",
            "6 * 8 = 48\n",
            "6 * 9 = 54\n",
            "7\n",
            "7 * 1 = 7\n",
            "7 * 2 = 14\n",
            "7 * 3 = 21\n",
            "7 * 4 = 28\n",
            "7 * 5 = 35\n",
            "7 * 6 = 42\n",
            "7 * 7 = 49\n",
            "7 * 8 = 56\n",
            "7 * 9 = 63\n",
            "8\n",
            "8 * 1 = 8\n",
            "8 * 2 = 16\n",
            "8 * 3 = 24\n",
            "8 * 4 = 32\n",
            "8 * 5 = 40\n",
            "8 * 6 = 48\n",
            "8 * 7 = 56\n",
            "8 * 8 = 64\n",
            "8 * 9 = 72\n",
            "9\n",
            "9 * 1 = 9\n",
            "9 * 2 = 18\n",
            "9 * 3 = 27\n",
            "9 * 4 = 36\n",
            "9 * 5 = 45\n",
            "9 * 6 = 54\n",
            "9 * 7 = 63\n",
            "9 * 8 = 72\n",
            "9 * 9 = 81\n"
          ]
        }
      ]
    },
    {
      "cell_type": "code",
      "source": [
        "for i in range(1,100+1):\n",
        "  result = 0\n",
        "  # result = result+i\n",
        "  result += i\n",
        "print(result)"
      ],
      "metadata": {
        "colab": {
          "base_uri": "https://localhost:8080/"
        },
        "id": "hX_Mz2tKH1Xo",
        "outputId": "2bd13663-2a2a-4b90-ef92-bdbc91fe61b3"
      },
      "execution_count": 46,
      "outputs": [
        {
          "output_type": "stream",
          "name": "stdout",
          "text": [
            "100\n"
          ]
        }
      ]
    },
    {
      "cell_type": "code",
      "source": [
        "even_sum = 0\n",
        "\n",
        "for number in range(1,101):\n",
        "  if number % 2 ==0:\n",
        "    even_sum += number\n",
        "\n",
        "print(even_sum)"
      ],
      "metadata": {
        "colab": {
          "base_uri": "https://localhost:8080/"
        },
        "id": "w2QzJLzKLvmk",
        "outputId": "befc1138-b839-4999-a3f0-9c68861f3246"
      },
      "execution_count": 47,
      "outputs": [
        {
          "output_type": "stream",
          "name": "stdout",
          "text": [
            "2550\n"
          ]
        }
      ]
    },
    {
      "cell_type": "code",
      "source": [
        "i = 1\n",
        "a += i # a = a + i\n",
        "a -= i # a = a - i\n",
        "a *= i # a = a * i\n",
        "a /= i # a = a / i"
      ],
      "metadata": {
        "id": "e2qlDSejN5np"
      },
      "execution_count": 48,
      "outputs": []
    },
    {
      "cell_type": "code",
      "source": [
        "# while문\n",
        "x = 1\n",
        "while x <= 5:\n",
        "  print(x)\n",
        "  x += 1"
      ],
      "metadata": {
        "colab": {
          "base_uri": "https://localhost:8080/"
        },
        "id": "fuD-Y6H8g3ZJ",
        "outputId": "be1cd4c4-502e-4be8-fb9d-bcc29e000413"
      },
      "execution_count": 51,
      "outputs": [
        {
          "output_type": "stream",
          "name": "stdout",
          "text": [
            "1\n",
            "2\n",
            "3\n",
            "4\n",
            "5\n"
          ]
        }
      ]
    },
    {
      "cell_type": "code",
      "source": [
        "for i in range(1,6):\n",
        "  print(i)"
      ],
      "metadata": {
        "colab": {
          "base_uri": "https://localhost:8080/"
        },
        "id": "g491v2RohQS3",
        "outputId": "1d90f85d-dc9f-4296-975f-1a5f4dda04d1"
      },
      "execution_count": 52,
      "outputs": [
        {
          "output_type": "stream",
          "name": "stdout",
          "text": [
            "1\n",
            "2\n",
            "3\n",
            "4\n",
            "5\n"
          ]
        }
      ]
    },
    {
      "cell_type": "code",
      "source": [
        "n = 1\n",
        "while 2**n < 10**8:\n",
        "  n += 1\n",
        "print(n)"
      ],
      "metadata": {
        "colab": {
          "base_uri": "https://localhost:8080/"
        },
        "id": "ZxRTw5f3iPHU",
        "outputId": "ab4b0cab-0fe3-4fab-b849-eea8ef28bc61"
      },
      "execution_count": 53,
      "outputs": [
        {
          "output_type": "stream",
          "name": "stdout",
          "text": [
            "27\n"
          ]
        }
      ]
    },
    {
      "cell_type": "code",
      "source": [
        "n = 1\n",
        "while True:\n",
        "  if 2**n >= 10**8:\n",
        "    break\n",
        "  n += 1\n",
        "print(n)"
      ],
      "metadata": {
        "colab": {
          "base_uri": "https://localhost:8080/"
        },
        "id": "1-Us9Zb3i13T",
        "outputId": "ba94047c-c176-4082-8e32-61bac9182e82"
      },
      "execution_count": 59,
      "outputs": [
        {
          "output_type": "stream",
          "name": "stdout",
          "text": [
            "27\n"
          ]
        }
      ]
    },
    {
      "cell_type": "code",
      "source": [
        "number_list = [number**2 for number in range(1,6)]\n",
        "number_list"
      ],
      "metadata": {
        "colab": {
          "base_uri": "https://localhost:8080/"
        },
        "id": "ribIB-YkjzSn",
        "outputId": "6c835c20-2987-4be5-bba4-fca12eb7332d"
      },
      "execution_count": 60,
      "outputs": [
        {
          "output_type": "execute_result",
          "data": {
            "text/plain": [
              "[1, 4, 9, 16, 25]"
            ]
          },
          "metadata": {},
          "execution_count": 60
        }
      ]
    },
    {
      "cell_type": "code",
      "source": [
        "# 문자열로 구성된 리스트 [\"축구\", \"농구\", \"배구\"]의 각각의 원소에 '좋아해요'를 덧붙여서 리스트를 출력, 단, 리스트 컴프리헨션 사용\n",
        "favorite_sports = [x + \" 좋아해요\" for x in [\"축구\", \"농구\", \"배구\"]]\n",
        "favorite_sports"
      ],
      "metadata": {
        "colab": {
          "base_uri": "https://localhost:8080/"
        },
        "id": "R7Uu-jccl3O_",
        "outputId": "4b4ad29b-07db-4039-eee7-1c546bb0dc34"
      },
      "execution_count": 67,
      "outputs": [
        {
          "output_type": "execute_result",
          "data": {
            "text/plain": [
              "['축구 좋아해요', '농구 좋아해요', '배구 좋아해요']"
            ]
          },
          "metadata": {},
          "execution_count": 67
        }
      ]
    },
    {
      "cell_type": "code",
      "source": [
        "a_list = [number for number in range(1,6) if number % 2 == 1]\n",
        "a_list"
      ],
      "metadata": {
        "colab": {
          "base_uri": "https://localhost:8080/"
        },
        "id": "vmqRD_srmnkm",
        "outputId": "e5084053-ff00-4b55-dd7b-d1ce96ae3d53"
      },
      "execution_count": 68,
      "outputs": [
        {
          "output_type": "execute_result",
          "data": {
            "text/plain": [
              "[1, 3, 5]"
            ]
          },
          "metadata": {},
          "execution_count": 68
        }
      ]
    },
    {
      "cell_type": "code",
      "source": [
        "dict_a = {i:i**2 for i in range(5)}\n",
        "dict_a"
      ],
      "metadata": {
        "colab": {
          "base_uri": "https://localhost:8080/"
        },
        "id": "M8BsyyR4nryn",
        "outputId": "cd7edc39-3fca-4e56-c34e-cf7b1a74d8d6"
      },
      "execution_count": 69,
      "outputs": [
        {
          "output_type": "execute_result",
          "data": {
            "text/plain": [
              "{0: 0, 1: 1, 2: 4, 3: 9, 4: 16}"
            ]
          },
          "metadata": {},
          "execution_count": 69
        }
      ]
    },
    {
      "cell_type": "code",
      "source": [
        "# 문제풀이 : 1부터 10까지의 숫자 리스트를 가지고, 짝수만을 대상으로 하되, 키는 각각의 숫자로, 값은 세제곱하는 딕셔너리를 생성하시오.\n",
        "dict_a = {i:i**3 for i in range(1,11) if i % 2 == 0}\n",
        "print(dict_a)"
      ],
      "metadata": {
        "colab": {
          "base_uri": "https://localhost:8080/"
        },
        "id": "y-KOBPApoio1",
        "outputId": "3eee4a47-95de-4ff6-9a1f-b410bb533baa"
      },
      "execution_count": 70,
      "outputs": [
        {
          "output_type": "stream",
          "name": "stdout",
          "text": [
            "{2: 8, 4: 64, 6: 216, 8: 512, 10: 1000}\n"
          ]
        }
      ]
    },
    {
      "cell_type": "code",
      "source": [],
      "metadata": {
        "id": "1F_bTjeFqCko"
      },
      "execution_count": null,
      "outputs": []
    }
  ]
}