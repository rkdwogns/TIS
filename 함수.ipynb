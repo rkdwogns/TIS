{
  "nbformat": 4,
  "nbformat_minor": 0,
  "metadata": {
    "colab": {
      "provenance": [],
      "authorship_tag": "ABX9TyN2AAdDaWJcWWOE05P27z0r",
      "include_colab_link": true
    },
    "kernelspec": {
      "name": "python3",
      "display_name": "Python 3"
    },
    "language_info": {
      "name": "python"
    }
  },
  "cells": [
    {
      "cell_type": "markdown",
      "metadata": {
        "id": "view-in-github",
        "colab_type": "text"
      },
      "source": [
        "<a href=\"https://colab.research.google.com/github/rkdwogns/TIS/blob/main/%ED%95%A8%EC%88%98.ipynb\" target=\"_parent\"><img src=\"https://colab.research.google.com/assets/colab-badge.svg\" alt=\"Open In Colab\"/></a>"
      ]
    },
    {
      "cell_type": "code",
      "execution_count": null,
      "metadata": {
        "colab": {
          "base_uri": "https://localhost:8080/"
        },
        "id": "E5nDVs-Cs3z0",
        "outputId": "f118a3b2-620d-4d59-a5a0-b3b9cfa3ac66"
      },
      "outputs": [
        {
          "output_type": "stream",
          "name": "stdout",
          "text": [
            "8\n"
          ]
        }
      ],
      "source": [
        "# a = 1\n",
        "# b = a+1\n",
        "# print(b)\n",
        "\n",
        "def add(i):\n",
        "  x = i**3\n",
        "  return x\n",
        "print(add(2))"
      ]
    },
    {
      "cell_type": "code",
      "source": [
        "def f(x):\n",
        "  y = 2 * x - 1\n",
        "  return y\n",
        "print(f(4))"
      ],
      "metadata": {
        "colab": {
          "base_uri": "https://localhost:8080/"
        },
        "id": "YO2JaDZhwX9L",
        "outputId": "87fb84f5-7b58-4295-9432-a89fb5273947"
      },
      "execution_count": null,
      "outputs": [
        {
          "output_type": "stream",
          "name": "stdout",
          "text": [
            "7\n"
          ]
        }
      ]
    },
    {
      "cell_type": "code",
      "source": [
        "# (연습문제1) 숫자 x를 입력하면 제곱이 되도록 하는 함수를 만들어 보세요.\n",
        "def f(x):\n",
        "  y = x**2\n",
        "  return y\n",
        "f(3)\n",
        "# (연습문제2) 짝수가 입력되면 짝수라는 문자열을, 홀수가 입력되면 홀수라는 문자열을 반환하는 함수를 만들어 보세요. 그리고 임의의 짝수와 홀수를 하나씩 인자로 입력하여 함수를 호출해 보세요.\n",
        "def f(x):\n",
        "  if x % 2 == 0:\n",
        "    return \"짝수\"\n",
        "  else:\n",
        "    return \"홀수\"\n",
        "print(f(3), f(4))\n",
        "# (연습문제3) 3개의 인자를 받아 값을 모두 더하여 반환하는 함수를 만들어 보세요.\n",
        "def f(x,y,z):\n",
        "  t = x + y + z\n",
        "  return t\n",
        "print(f(2,3,4))"
      ],
      "metadata": {
        "colab": {
          "base_uri": "https://localhost:8080/"
        },
        "id": "D52g10XnxhUO",
        "outputId": "2ac44897-6137-491c-bbf7-59090f86fc56"
      },
      "execution_count": null,
      "outputs": [
        {
          "output_type": "stream",
          "name": "stdout",
          "text": [
            "홀수 짝수\n",
            "9\n"
          ]
        }
      ]
    },
    {
      "cell_type": "code",
      "source": [
        "# (연습문제 4) 로봇랜드 구내식당 메뉴를 정의하는 함수(이름: r1_caffeteria_menu)를 만들어 봅시다.\n",
        "# 밥 종류(rice_kind), 국 종류(soup_kind), 후식 종류(dessert_kind)를 키로 하는 딕셔너리를 반환하는 함수를 정의하되,\n",
        "# 후식(디저트)의 기본값은 '매실차'로 설정하세요.\n",
        "# 반찬(dish_kind) 추가\n",
        "# 함수를 작성하고, 호출하는 코드도 작성해 보세요.\n",
        "def r1_caffeteria_menu(rice_kinds, soup_kind, dish_kind, dessert_kind=\"매실차\"):\n",
        "  return {\"밥 종류\": rice_kinds, \"국 종류\": soup_kind,\"반찬 종류\": dish_kind, \"후식 종류\": dessert_kind}\n",
        "print(r1_caffeteria_menu(\"흰쌀밥\", \"된장국\", \"계란말이\"))"
      ],
      "metadata": {
        "id": "06_oJ1nqydA_",
        "colab": {
          "base_uri": "https://localhost:8080/"
        },
        "outputId": "b391d497-ca51-4592-9d74-964cbc9ecd01"
      },
      "execution_count": 6,
      "outputs": [
        {
          "output_type": "stream",
          "name": "stdout",
          "text": [
            "{'밥 종류': '흰쌀밥', '국 종류': '된장국', '반찬 종류': '계란말이', '후식 종류': '매실차'}\n"
          ]
        }
      ]
    },
    {
      "cell_type": "code",
      "source": [
        "today_menu = r1_caffeteria_menu(\"흰쌀밥\", \"된장국\", \"계란말이\")\n",
        "# 오늘의 반찬을 출력하시오.\n",
        "today_menu['반찬 종류']"
      ],
      "metadata": {
        "colab": {
          "base_uri": "https://localhost:8080/",
          "height": 35
        },
        "id": "dnKQsndCMDEz",
        "outputId": "2c09f738-6819-406f-f589-473092cc25c6"
      },
      "execution_count": 8,
      "outputs": [
        {
          "output_type": "execute_result",
          "data": {
            "text/plain": [
              "'계란말이'"
            ],
            "application/vnd.google.colaboratory.intrinsic+json": {
              "type": "string"
            }
          },
          "metadata": {},
          "execution_count": 8
        }
      ]
    },
    {
      "cell_type": "code",
      "source": [
        "# lambda 함수(익명함수)\n",
        "simple = lambda x: x+2\n",
        "simple(3)"
      ],
      "metadata": {
        "colab": {
          "base_uri": "https://localhost:8080/"
        },
        "id": "8I_VugNMNi6F",
        "outputId": "f70dab43-703c-47fb-a3ca-cfeb7f3efc47"
      },
      "execution_count": 9,
      "outputs": [
        {
          "output_type": "execute_result",
          "data": {
            "text/plain": [
              "5"
            ]
          },
          "metadata": {},
          "execution_count": 9
        }
      ]
    },
    {
      "cell_type": "code",
      "source": [
        "def minus(x, y):\n",
        "  return x-y"
      ],
      "metadata": {
        "id": "ZSbAd5AbPZdi"
      },
      "execution_count": 10,
      "outputs": []
    },
    {
      "cell_type": "code",
      "source": [
        "# 문제1:\n",
        "# 본인의 이름과 좋아하는 동물을 입력하면\n",
        "# 해당 이름과 동물이 튜플 형태로 반환되는 함수(my_favorite_animal)를 작성하시오.\n",
        "# 동물의 기본값은 '동물은 다 좋아요'로 하세요.\n",
        "def my_favorite_animal(name, animal='동물은 다 좋아요'):\n",
        "  return name, animal\n",
        "print(my_favorite_animal(\"재훈\"))\n",
        "# 문제2:\n",
        "# 어떤 숫자를 입력하면 그 숫자에 1000을 더하여 반환하는 함수를 만들고 호출해 보세요.\n",
        "def plus_1000(x):\n",
        "  return x+1000\n",
        "print(plus_1000(1))\n",
        "# 문제3:\n",
        "# 좋아하는 숫자 2개를 입력하면, 그 두 숫자를 \"리스트\" 형태로 반환하는 함수를 만들고 호출해 보세요\n",
        "def return_list(x,y):\n",
        "  return[x,y]\n",
        "print(return_list(7,77))\n",
        "# 문제4\n",
        "# 본인의 이름과 거주지를 입력하면 \"딕셔너리\" 형태로 반환되는 함수를 만들고 호출하시오\n",
        "def name_and_residence(name, residence):\n",
        "  return {\"이름\": name, \"거주지\": residence}\n",
        "print(name_and_residence(\"재훈\", \"인천\"))\n",
        "# 문제5:\n",
        "# 본인의 이름을 입력하면 '이름은 멋져요~'라고 반환되는 함수를 만들고 호출해 보세요\n",
        "def i_am_awesome(name):\n",
        "  return name+'은(는) 멋져요~'\n",
        "print(i_am_awesome('재훈'))"
      ],
      "metadata": {
        "colab": {
          "base_uri": "https://localhost:8080/"
        },
        "id": "KoRSmXx-PnrP",
        "outputId": "e7d46dee-d949-4ca5-bfce-428bd560807a"
      },
      "execution_count": 20,
      "outputs": [
        {
          "output_type": "stream",
          "name": "stdout",
          "text": [
            "('재훈', '동물은 다 좋아요')\n",
            "1001\n",
            "[7, 77]\n",
            "{'이름': '재훈', '거주지': '인천'}\n",
            "재훈은(는) 멋져요~\n"
          ]
        }
      ]
    },
    {
      "cell_type": "code",
      "source": [],
      "metadata": {
        "id": "wByR4tr0Sjjo"
      },
      "execution_count": null,
      "outputs": []
    }
  ]
}