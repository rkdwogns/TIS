{
  "nbformat": 4,
  "nbformat_minor": 0,
  "metadata": {
    "colab": {
      "provenance": [],
      "authorship_tag": "ABX9TyOtczrGZ+70MZ4kxXKh74pt",
      "include_colab_link": true
    },
    "kernelspec": {
      "name": "python3",
      "display_name": "Python 3"
    },
    "language_info": {
      "name": "python"
    }
  },
  "cells": [
    {
      "cell_type": "markdown",
      "metadata": {
        "id": "view-in-github",
        "colab_type": "text"
      },
      "source": [
        "<a href=\"https://colab.research.google.com/github/rkdwogns/TIS/blob/main/%EB%A7%88%ED%81%AC%EB%8B%A4%EC%9A%B4%EC%97%B0%EC%8A%B52.ipynb\" target=\"_parent\"><img src=\"https://colab.research.google.com/assets/colab-badge.svg\" alt=\"Open In Colab\"/></a>"
      ]
    },
    {
      "cell_type": "code",
      "execution_count": null,
      "metadata": {
        "id": "mKPbeKdCY_Mu"
      },
      "outputs": [],
      "source": []
    },
    {
      "cell_type": "markdown",
      "source": [
        "<img src=\"https://camo.githubusercontent.com/aeb4f612bd9b40d81c62fcbebd6db44a5d4344b8b962be0138817e18c9c06963/68747470733a2f2f7777772e74656e736f72666c6f772e6f72672f696d616765732f74665f6c6f676f5f686f72697a6f6e74616c2e706e67\" data-canonical-src=\"https://www.tensorflow.org/images/tf_logo_horizontal.png\" style=\"max-width: 100%;\">\n",
        "\n",
        "TensorFlow is an end-to-end open source platform for machine learning. It has a comprehensive, flexible ecosystem of tools, libraries, and community resources that lets researchers push the state-of-the-art in ML and developers easily build and deploy ML-powered applications.\n",
        "\n",
        "TensorFlow was originally developed by researchers and engineers working on the Google Brain team within Google's Machine Intelligence Research organization to conduct machine learning and deep neural networks research. The system is general enough to be applicable in a wide variety of other domains, as well.\n",
        "\n",
        "TensorFlow provides stable Python and C++ APIs, as well as non-guaranteed backward compatible API for other languages.\n",
        "\n",
        "Keep up-to-date with release announcements and security updates by subscribing to announce@tensorflow.org. See all the mailing lists.\n",
        "\n",
        "## Install\n",
        "\n",
        "---\n",
        "\n",
        "See the TensorFlow install guide for the pip package, to enable GPU support, use a Docker container, and build from source.\n",
        "\n",
        "To install the current release, which includes support for CUDA-enabled GPU cards (Ubuntu and Windows):\n",
        "\n",
        "```shell\n",
        "$ pip install tensorflow\n",
        "```\n",
        "\n",
        "Other devices (DirectX and MacOS-metal) are supported using Device plugins.\n",
        "\n",
        "A smaller CPU-only package is also available:\n",
        "\n",
        "```shell\n",
        "$ pip install tensorflow-cpu\n",
        "```\n",
        "\n",
        "To update TensorFlow to the latest version, add `--upgrade` flag to the above commands.\n",
        "\n",
        "_Nightly binaries are available for testing using the tf-nightly and tf-nightly-cpu packages on PyPi._\n",
        "\n",
        "_**Try your first TensorFlow program**_\n",
        "\n",
        "```shell\n",
        "$ python\n",
        "```\n",
        "\n",
        "```python\n",
        ">>> import tensorflow as tf\n",
        ">>> tf.add(1, 2).numpy()\n",
        "3\n",
        ">>> hello = tf.constant('Hello, TensorFlow!')\n",
        ">>> hello.numpy()\n",
        "b'Hello, TensorFlow!'\n",
        "```\n",
        "\n",
        "For more examples, see the TensorFlow tutorials.\n",
        "\n",
        "## Contribution guidelines\n",
        "\n",
        "---\n",
        "\n",
        "If you want to contribute to TensorFlow, be sure to review the contribution guidelines. This project adheres to TensorFlow's code of conduct. By participating, you are expected to uphold this code.\n",
        "\n",
        "We use GitHub issues for tracking requests and bugs, please see TensorFlow Discuss for general questions and discussion, and please direct specific questions to Stack Overflow.\n",
        "\n",
        "The TensorFlow project strives to abide by generally accepted best practices in open-source software development.\n",
        "\n",
        "## Patching guidelines\n",
        "\n",
        "---\n",
        "\n",
        "Follow these steps to patch a specific version of TensorFlow, for example, to apply fixes to bugs or security vulnerabilities:\n",
        "\n",
        "- Clone the TensorFlow repo and switch to the corresponding branch for your desired TensorFlow version, for example, branch `r2.8` for version 2.8.\n",
        "- Apply (that is, cherry pick) the desired changes and resolve any code conflicts.\n",
        "- Run TensorFlow tests and ensure they pass.\n",
        "- Build the TensorFlow pip package from source.\n",
        "\n",
        "## Continuous build status\n",
        "\n",
        "---\n",
        "\n",
        "You can find more community-supported platforms and configurations in the TensorFlow SIG Build community builds table.\n",
        "\n",
        "## Official Builds\n",
        "\n",
        "Build Type | Status| Artifacts\n",
        "--|--|--\n"
      ],
      "metadata": {
        "id": "ec4dWuZXZCof"
      }
    }
  ]
}