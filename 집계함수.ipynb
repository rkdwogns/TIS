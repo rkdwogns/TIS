{
  "nbformat": 4,
  "nbformat_minor": 0,
  "metadata": {
    "colab": {
      "provenance": [],
      "authorship_tag": "ABX9TyMltcbV+0cwKMFqQtQbEpS4",
      "include_colab_link": true
    },
    "kernelspec": {
      "name": "python3",
      "display_name": "Python 3"
    },
    "language_info": {
      "name": "python"
    }
  },
  "cells": [
    {
      "cell_type": "markdown",
      "metadata": {
        "id": "view-in-github",
        "colab_type": "text"
      },
      "source": [
        "<a href=\"https://colab.research.google.com/github/rkdwogns/TIS/blob/main/%EC%A7%91%EA%B3%84%ED%95%A8%EC%88%98.ipynb\" target=\"_parent\"><img src=\"https://colab.research.google.com/assets/colab-badge.svg\" alt=\"Open In Colab\"/></a>"
      ]
    },
    {
      "cell_type": "code",
      "execution_count": 3,
      "metadata": {
        "colab": {
          "base_uri": "https://localhost:8080/"
        },
        "id": "lKbP8XH0X7C-",
        "outputId": "25abc54e-705f-4fae-ca50-181cd4ae0579"
      },
      "outputs": [
        {
          "output_type": "stream",
          "name": "stdout",
          "text": [
            "[30 35 40]\n",
            "[30 35 40]\n",
            "[ 3 12 21 30 39]\n",
            "[ 3 12 21 30 39]\n"
          ]
        }
      ],
      "source": [
        "import numpy as np\n",
        "x = np.arange(15).reshape(5, 3)\n",
        "# 행 방향 계산\n",
        "print(np.sum(x, axis=0))\n",
        "print(x.sum(axis=0))\n",
        "# 열 방향 계산\n",
        "print(np.sum(x, axis=1))\n",
        "print(x.sum(axis=1))"
      ]
    },
    {
      "cell_type": "code",
      "source": [
        "# 다음 리스트를 넘파이 배열로 전환하고, 평균과 중앙값을 구하시오.\n",
        "import numpy as np\n",
        "a_list = [1, 3, 5, 7, 100]\n",
        "arr = np.array(a_list)\n",
        "print(arr)"
      ],
      "metadata": {
        "colab": {
          "base_uri": "https://localhost:8080/"
        },
        "id": "v9lah5PXcfHf",
        "outputId": "dcef6823-5e95-4c9b-8e0d-ee1c602f5c15"
      },
      "execution_count": 4,
      "outputs": [
        {
          "output_type": "stream",
          "name": "stdout",
          "text": [
            "[  1   3   5   7 100]\n"
          ]
        }
      ]
    },
    {
      "cell_type": "code",
      "source": [
        "print(np.mean(arr), np.median(arr))"
      ],
      "metadata": {
        "colab": {
          "base_uri": "https://localhost:8080/"
        },
        "id": "57b0lCD3eCvW",
        "outputId": "63546f22-69a1-463e-d305-669a5fa50e36"
      },
      "execution_count": 8,
      "outputs": [
        {
          "output_type": "stream",
          "name": "stdout",
          "text": [
            "23.2 5.0\n"
          ]
        }
      ]
    },
    {
      "cell_type": "code",
      "source": [
        "# quantile(4분위수)\n",
        "\n",
        "arr = np.arange(1,101)\n",
        "np.quantile(arr, 0.75)"
      ],
      "metadata": {
        "colab": {
          "base_uri": "https://localhost:8080/"
        },
        "id": "RheU-TG1eFVW",
        "outputId": "8ab0f70d-02f8-4d26-85d8-ffff20bc16fb"
      },
      "execution_count": 9,
      "outputs": [
        {
          "output_type": "execute_result",
          "data": {
            "text/plain": [
              "75.25"
            ]
          },
          "metadata": {},
          "execution_count": 9
        }
      ]
    },
    {
      "cell_type": "code",
      "source": [
        "# 연습문제\n",
        "# 다음 배열에 unique() 함수를 적용해 보시오.\n",
        "arr = np.array([1,3,5,7,9,3,5,100])\n",
        "np.unique(arr)"
      ],
      "metadata": {
        "colab": {
          "base_uri": "https://localhost:8080/"
        },
        "id": "eu-TPgk5fZKf",
        "outputId": "cb70c87d-b7b5-47f3-beb5-ac1da2cf6de0"
      },
      "execution_count": 11,
      "outputs": [
        {
          "output_type": "execute_result",
          "data": {
            "text/plain": [
              "array([  1,   3,   5,   7,   9, 100])"
            ]
          },
          "metadata": {},
          "execution_count": 11
        }
      ]
    },
    {
      "cell_type": "code",
      "source": [
        "# 연습문제1\n",
        "# 다음과 같은 리스트 자료가 있다. 넘파이 배열로 전환하고, 다음 통계량들을 구하시오.\n",
        "# 평균, 표준편차, 중앙값, 최대값, 최소값\n",
        "a_list = list(range(30))\n",
        "arr = np.array(a_list)\n",
        "print(np.mean(arr), np.std(arr), np.median(arr), np.max(arr), np.min(arr))"
      ],
      "metadata": {
        "colab": {
          "base_uri": "https://localhost:8080/"
        },
        "id": "HEZOBoUMf-L6",
        "outputId": "2261b1a8-8669-4ee8-a519-c71207b071ed"
      },
      "execution_count": 14,
      "outputs": [
        {
          "output_type": "stream",
          "name": "stdout",
          "text": [
            "14.5 8.65544144839919 14.5 29 0\n"
          ]
        }
      ]
    },
    {
      "cell_type": "code",
      "source": [
        "# 연습문제2\n",
        "# 위 리스트를 (5,6) 크기의 넘파이 배열로 전환하고, 열별, 행별 통계량을 구하시오.\n",
        "a_list = list(range(30))\n",
        "x = arr.reshape(5, 6)\n",
        "# 열별: axis=0\n",
        "print(f'열별 평균: {np.mean(x, axis=0)}')\n",
        "print(f'열별 표준편차: {np.std(x, axis=0)}')\n",
        "print(f'열별 중위수: {np.median(x, axis=0)}')\n",
        "print(f'열별 최대: {np.max(x, axis=0)}')\n",
        "print(f'열별 최소: {np.min(x, axis=0)}')\n",
        "print(\"==== 행별 통계량 ====\")\n",
        "# 행별: axis=1 (열방향)\n",
        "print(f'행별 평균: {np.mean(x, axis=1)}')\n",
        "print(f'행별 표준편차: {np.std(x, axis=1)}')\n",
        "print(f'행별 중위수: {np.median(x, axis=1)}')\n",
        "print(f'행별 최대: {np.max(x, axis=1)}')\n",
        "print(f'행별 최소: {np.min(x, axis=1)}')"
      ],
      "metadata": {
        "colab": {
          "base_uri": "https://localhost:8080/"
        },
        "id": "geckgnJmgtvq",
        "outputId": "541bc010-3e6f-45f5-e673-dce7f8aa4181"
      },
      "execution_count": 28,
      "outputs": [
        {
          "output_type": "stream",
          "name": "stdout",
          "text": [
            "열별 평균: [12. 13. 14. 15. 16. 17.]\n",
            "열별 표준편차: [8.48528137 8.48528137 8.48528137 8.48528137 8.48528137 8.48528137]\n",
            "열별 중위수: [12. 13. 14. 15. 16. 17.]\n",
            "열별 최대: [24 25 26 27 28 29]\n",
            "열별 최소: [0 1 2 3 4 5]\n",
            "==== 행별 통계량 ====\n",
            "행별 평균: [ 2.5  8.5 14.5 20.5 26.5]\n",
            "행별 표준편차: [1.70782513 1.70782513 1.70782513 1.70782513 1.70782513]\n",
            "행별 중위수: [ 2.5  8.5 14.5 20.5 26.5]\n",
            "행별 최대: [ 5 11 17 23 29]\n",
            "행별 최소: [ 0  6 12 18 24]\n"
          ]
        }
      ]
    },
    {
      "cell_type": "code",
      "source": [],
      "metadata": {
        "id": "QBxML9-Ih4qH"
      },
      "execution_count": null,
      "outputs": []
    }
  ]
}