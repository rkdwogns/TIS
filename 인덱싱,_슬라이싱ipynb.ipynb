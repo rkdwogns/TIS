{
  "nbformat": 4,
  "nbformat_minor": 0,
  "metadata": {
    "colab": {
      "provenance": [],
      "authorship_tag": "ABX9TyN4mYw31GujC2oeZSLLxHhi",
      "include_colab_link": true
    },
    "kernelspec": {
      "name": "python3",
      "display_name": "Python 3"
    },
    "language_info": {
      "name": "python"
    }
  },
  "cells": [
    {
      "cell_type": "markdown",
      "metadata": {
        "id": "view-in-github",
        "colab_type": "text"
      },
      "source": [
        "<a href=\"https://colab.research.google.com/github/rkdwogns/TIS/blob/main/%EC%9D%B8%EB%8D%B1%EC%8B%B1%2C_%EC%8A%AC%EB%9D%BC%EC%9D%B4%EC%8B%B1ipynb.ipynb\" target=\"_parent\"><img src=\"https://colab.research.google.com/assets/colab-badge.svg\" alt=\"Open In Colab\"/></a>"
      ]
    },
    {
      "cell_type": "code",
      "execution_count": 3,
      "metadata": {
        "colab": {
          "base_uri": "https://localhost:8080/"
        },
        "id": "3nq2IeZDoVH0",
        "outputId": "dea40dfe-a9a1-40ba-a6b7-6b1ac66fd085"
      },
      "outputs": [
        {
          "output_type": "stream",
          "name": "stdout",
          "text": [
            "[[1 2]\n",
            " [3 4]]\n",
            "2\n"
          ]
        }
      ],
      "source": [
        "import numpy as np\n",
        "X = [[1, 2],[3, 4]]\n",
        "X = np.array(X)\n",
        "print(X)\n",
        "print(X[0,1])"
      ]
    },
    {
      "cell_type": "code",
      "source": [
        "X = np.array([[1, 2, 3], [3, 4, 5], [5, 6, 7]])\n",
        "# print(X)\n",
        "display('X배열:',X)\n",
        "print('='*20)\n",
        "print(X[1, 1]) # 0행 1열에 있는 값 출력\n",
        "print(X[:,2]) # 모든 행, 2번째 열"
      ],
      "metadata": {
        "colab": {
          "base_uri": "https://localhost:8080/",
          "height": 150
        },
        "id": "_9VSHqgjsFSL",
        "outputId": "251988ff-723a-4714-e963-f66530f10a15"
      },
      "execution_count": 12,
      "outputs": [
        {
          "output_type": "display_data",
          "data": {
            "text/plain": [
              "'X배열:'"
            ],
            "application/vnd.google.colaboratory.intrinsic+json": {
              "type": "string"
            }
          },
          "metadata": {}
        },
        {
          "output_type": "display_data",
          "data": {
            "text/plain": [
              "array([[1, 2, 3],\n",
              "       [3, 4, 5],\n",
              "       [5, 6, 7]])"
            ]
          },
          "metadata": {}
        },
        {
          "output_type": "stream",
          "name": "stdout",
          "text": [
            "====================\n",
            "4\n",
            "[3 5 7]\n"
          ]
        }
      ]
    },
    {
      "cell_type": "code",
      "source": [
        "# 다음 넘파이 배열 대상으로 요구하는 행과 열을 추출하시오.\n",
        "arr = np.arange(30).reshape(5,6)\n",
        "# 1번째 행 추출\n",
        "# 0번째 열 추출\n",
        "# 1번째~3번쨰 행, 0번째~2번째 열 추출\n",
        "# 2번째 행, 3번째~5번째 열 추출\n",
        "# 2번째~4번째 행, 3번째 열 추출\n",
        "print(arr[1])\n",
        "print(arr[:,0])\n",
        "print(arr[1:4, 0:3])\n",
        "print(arr[2,3:6])\n",
        "print(arr[2:5,3])"
      ],
      "metadata": {
        "colab": {
          "base_uri": "https://localhost:8080/"
        },
        "id": "p-ou9CTjtg8n",
        "outputId": "6e16c181-2c61-4738-d2ec-da9e86f3b69f"
      },
      "execution_count": 15,
      "outputs": [
        {
          "output_type": "stream",
          "name": "stdout",
          "text": [
            "[ 6  7  8  9 10 11]\n",
            "[ 0  6 12 18 24]\n",
            "[[ 6  7  8]\n",
            " [12 13 14]\n",
            " [18 19 20]]\n",
            "[15 16 17]\n",
            "[15 21 27]\n"
          ]
        }
      ]
    },
    {
      "cell_type": "code",
      "source": [
        "# 오늘의 메뉴를 넘파이 인덱싱 및 슬라이싱 활용하여 추출하기\n",
        "weekly_menu = [['백미밥/잡곡밥', '육개장', '두부양념조림', '할라마요함박스테이크', '시금치고추장무침', '콩나물볶음/포기김치'],\n",
        "               ['백미밥/잡곡밥', '김치수제비', '부대햄야채볶음', '야채계란찜', '수제양념깻잎지', '건파래볶음/포기김치'] ,\n",
        "               ['백미밥/잡곡밥','배추된장국','닭볶음탕(김치)','사각어묵야채볶음','브로콜리,물미역&초장','상추겉절이/포기김치'],\n",
        "               ['백미밥/잡곡밥', '돈육김치찌개', '김치스파게티', '청파래생선까스 & 어니언소스', '느타리', '미역줄기볶음/포기김치'],\n",
        "               ['백미밥/잡곡밥', '콩나물김치국', '간장불고기', '야채비빔만두', '도토리묵&달래장', '부추겉절이']]\n",
        "weekly_menu\n",
        "weekly_menu_arr = np.array(weekly_menu)\n",
        "print(weekly_menu_arr.shape)"
      ],
      "metadata": {
        "colab": {
          "base_uri": "https://localhost:8080/"
        },
        "id": "t-fJ5u9xvs5p",
        "outputId": "f7e9658a-f7e9-4b6d-f225-45830d613c80"
      },
      "execution_count": 28,
      "outputs": [
        {
          "output_type": "stream",
          "name": "stdout",
          "text": [
            "(5, 6)\n"
          ]
        }
      ]
    },
    {
      "cell_type": "code",
      "source": [
        "# 인덱싱이나 슬라이싱을 이용하여 오늘(수요일)의 메뉴들을 출력하시오\n",
        "print(weekly_menu_arr[2,:])\n",
        "# 인덱싱이나 슬라이싱을 이용하여 오늘(수요일)의 국을 출력하시오\n",
        "print(weekly_menu_arr[2,1])\n",
        "# 인덱싱이나 슬라이싱을 이용하여 이번 주의 국을 모두 출력하시오\n",
        "print(weekly_menu_arr[:,1])"
      ],
      "metadata": {
        "colab": {
          "base_uri": "https://localhost:8080/"
        },
        "id": "nEePBD1u2yzp",
        "outputId": "a5dbbfb3-9aea-457f-bf69-a347f9e95241"
      },
      "execution_count": 32,
      "outputs": [
        {
          "output_type": "stream",
          "name": "stdout",
          "text": [
            "['백미밥/잡곡밥' '배추된장국' '닭볶음탕(김치)' '사각어묵야채볶음' '브로콜리,물미역&초장' '상추겉절이/포기김치']\n",
            "배추된장국\n",
            "['육개장' '김치수제비' '배추된장국' '돈육김치찌개' '콩나물김치국']\n"
          ]
        }
      ]
    },
    {
      "cell_type": "code",
      "source": [
        "# 전치(transpose): 행과 열을 서로 바꿈\n",
        "weekly_menu_arr_transposed = weekly_menu_arr.T\n",
        "print(weekly_menu_arr_transposed.shape)"
      ],
      "metadata": {
        "colab": {
          "base_uri": "https://localhost:8080/"
        },
        "id": "-iuXzjIp4kVf",
        "outputId": "5436dd0e-ccc2-4ca6-ae1b-0603a6278734"
      },
      "execution_count": 33,
      "outputs": [
        {
          "output_type": "stream",
          "name": "stdout",
          "text": [
            "(6, 5)\n"
          ]
        }
      ]
    },
    {
      "cell_type": "code",
      "source": [
        "x = np.array([1,2,3,4,5])\n",
        "b = [True, False, True, True, False]\n",
        "print(x[b])"
      ],
      "metadata": {
        "colab": {
          "base_uri": "https://localhost:8080/"
        },
        "id": "xY8bj_DT52eH",
        "outputId": "e6191944-7bc5-4566-978d-3c5da64ed07c"
      },
      "execution_count": 34,
      "outputs": [
        {
          "output_type": "stream",
          "name": "stdout",
          "text": [
            "[1 3 4]\n"
          ]
        }
      ]
    },
    {
      "cell_type": "code",
      "source": [
        "# 연습문제1\n",
        "# 다음 배열에서 5보다 작은 요소들만 추출하시오.\n",
        "a = np.arange(10)\n",
        "print(a[a < 5])\n",
        "# 위 배열에서 짝수인 요소들만 추출하시오.\n",
        "# 힌트: % 연산자 활용 (a % 2 == 0)\n",
        "print(a[a % 2 == 0])"
      ],
      "metadata": {
        "colab": {
          "base_uri": "https://localhost:8080/"
        },
        "id": "Kr_r0a4w6rOn",
        "outputId": "d293a090-c151-4495-ee00-4a0cccacf563"
      },
      "execution_count": 38,
      "outputs": [
        {
          "output_type": "stream",
          "name": "stdout",
          "text": [
            "[0 1 2 3 4]\n",
            "[0 2 4 6 8]\n"
          ]
        }
      ]
    },
    {
      "cell_type": "code",
      "source": [
        "# 연습문제2\n",
        "import numpy as np\n",
        "x = np.array([1, 2, 3, 4, 5, 6, 7, 8, 9, 10, 11, 12, 13, 14, 15, 16, 17, 18, 19, 20])\n",
        "# 이 배열에서 3의 배수를 찾아라\n",
        "print(x[x % 3 == 0])\n",
        "# 이 배열에서 3으로 나누면 나누어지고 4로 나누면 1이 남는 수를 찾아라\n",
        "print(x[(x % 3 == 0) & (x % 4 == 1)])"
      ],
      "metadata": {
        "colab": {
          "base_uri": "https://localhost:8080/"
        },
        "id": "79uFMhub78Up",
        "outputId": "62cc2760-a649-4088-9ce5-1dc153423f55"
      },
      "execution_count": 7,
      "outputs": [
        {
          "output_type": "stream",
          "name": "stdout",
          "text": [
            "[ 3  6  9 12 15 18]\n",
            "[9]\n"
          ]
        }
      ]
    },
    {
      "cell_type": "code",
      "source": [],
      "metadata": {
        "id": "aoQUSdGQQXbn"
      },
      "execution_count": null,
      "outputs": []
    }
  ]
}