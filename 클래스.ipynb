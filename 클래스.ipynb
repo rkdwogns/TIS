{
  "nbformat": 4,
  "nbformat_minor": 0,
  "metadata": {
    "colab": {
      "provenance": [],
      "authorship_tag": "ABX9TyPJUEH2nTnKWr3t8SkqEK4l",
      "include_colab_link": true
    },
    "kernelspec": {
      "name": "python3",
      "display_name": "Python 3"
    },
    "language_info": {
      "name": "python"
    }
  },
  "cells": [
    {
      "cell_type": "markdown",
      "metadata": {
        "id": "view-in-github",
        "colab_type": "text"
      },
      "source": [
        "<a href=\"https://colab.research.google.com/github/rkdwogns/TIS/blob/main/%ED%81%B4%EB%9E%98%EC%8A%A4.ipynb\" target=\"_parent\"><img src=\"https://colab.research.google.com/assets/colab-badge.svg\" alt=\"Open In Colab\"/></a>"
      ]
    },
    {
      "cell_type": "code",
      "execution_count": 1,
      "metadata": {
        "id": "53IZRElHZ6H9"
      },
      "outputs": [],
      "source": [
        "class Ourclass:\n",
        "  pass # pass는 코드 블록에서 아무런 작업도 수행하지 않고 빈칸으로 남겨둘 수 없을때 사용"
      ]
    },
    {
      "cell_type": "code",
      "source": [
        "A = Ourclass()\n",
        "B = Ourclass()\n",
        "C = Ourclass()"
      ],
      "metadata": {
        "id": "9v6rFd5xbXx5"
      },
      "execution_count": 2,
      "outputs": []
    },
    {
      "cell_type": "code",
      "source": [
        "class 클래스이름:\n",
        "  def __init__(self, 속성값1, 속성값2):\n",
        "    self.속성이름1 = 속성값1\n",
        "    self.속성이름2 = 속성값2"
      ],
      "metadata": {
        "id": "i_1Qt1eTbmxN"
      },
      "execution_count": 3,
      "outputs": []
    },
    {
      "cell_type": "code",
      "source": [
        "# 클래스 정의(클래스 이름: House)\n",
        "class House:\n",
        "  # 생성자 정의 --> 객체의 속성(attribute) 정의하는 녀석이에요!\n",
        "  def __init__(self, 방수, 화장실수, 거실수, 부엌):\n",
        "    self.방수 = 방수\n",
        "    self.화장실수 = 화장실수\n",
        "    self.거실수 = 거실수\n",
        "    self.부엌 = 부엌"
      ],
      "metadata": {
        "id": "gwZSh3SHdInI"
      },
      "execution_count": 11,
      "outputs": []
    },
    {
      "cell_type": "code",
      "source": [
        "# 인스턴스(객체) 생성\n",
        "a_house = House(3, 2, 1, 1)\n",
        "b_house = House(3, 2, 1, 1)\n",
        "my_rich_house = House(100, 20, 33, 40)"
      ],
      "metadata": {
        "id": "D7SutYgSdZOu"
      },
      "execution_count": 13,
      "outputs": []
    },
    {
      "cell_type": "code",
      "source": [
        "# 속성 확인(추출): 인스턴스.속성명\n",
        "print(my_rich_house.방수)"
      ],
      "metadata": {
        "colab": {
          "base_uri": "https://localhost:8080/"
        },
        "id": "JKv9TNMKd99P",
        "outputId": "6df69d31-c4d9-4173-d3cd-67a2b0ad7730"
      },
      "execution_count": 16,
      "outputs": [
        {
          "output_type": "stream",
          "name": "stdout",
          "text": [
            "100\n"
          ]
        }
      ]
    },
    {
      "cell_type": "code",
      "source": [
        "# 연습: 여러분의 드림 하우스의 부엌 수를 출력해 보세요\n",
        "print(my_rich_house.부엌)"
      ],
      "metadata": {
        "colab": {
          "base_uri": "https://localhost:8080/"
        },
        "id": "ZiNXTctbeP7n",
        "outputId": "1ca59415-617f-4bfe-c30f-33227e941de8"
      },
      "execution_count": 17,
      "outputs": [
        {
          "output_type": "stream",
          "name": "stdout",
          "text": [
            "40\n"
          ]
        }
      ]
    },
    {
      "cell_type": "code",
      "source": [
        "class Stock:\n",
        "  def __init__(self, name, market = \"코스피\"): # __init__이라는 이름의 함수(생성자)를 정의\n",
        "     self.name = name # 속성 정의1\n",
        "     self.market = market # 속성 정의2\n",
        "\n",
        "kakao_games = Stock(\"카카오게임즈\", \"코스닥\") #  객체 생성\n",
        "print(kakao_games.name, kakao_games.market)"
      ],
      "metadata": {
        "colab": {
          "base_uri": "https://localhost:8080/"
        },
        "id": "KXK6NHnYkPUC",
        "outputId": "6d9fcbd3-0860-4824-d3bb-3cae22195429"
      },
      "execution_count": 19,
      "outputs": [
        {
          "output_type": "stream",
          "name": "stdout",
          "text": [
            "카카오게임즈 코스닥\n"
          ]
        }
      ]
    },
    {
      "cell_type": "code",
      "source": [
        "# 문제1: Stock 클래스를 활용하여 카카오의 인스턴스를 생성하고, 이름과 소속 시장을 출력하세요\n",
        "# 문제2: 카카오 인스턴스 생성시 주가를 반영하도록 클래스를 정의하시고, 인스턴스를 다시 만들고,\n",
        "# 이름과 소속시장과 가격(65,000)을 출력해 보세요.\n",
        "kakao = Stock(\"카카오\", \"코스피\")\n",
        "class Stock_with_price:\n",
        "  def __init__(self, name, price, market = \"코스피\"):\n",
        "    self.name = name # 속성 정의1\n",
        "    self.market = market\n",
        "    self.price = price\n",
        "kakao = Stock_with_price(\"카카오\", 65000, \"코스피\")\n",
        "print(kakao.name, kakao.market, kakao.price)"
      ],
      "metadata": {
        "colab": {
          "base_uri": "https://localhost:8080/"
        },
        "id": "_N0vM9k8ldoo",
        "outputId": "6395318c-52ae-46a3-add7-3f42d33e3b24"
      },
      "execution_count": 24,
      "outputs": [
        {
          "output_type": "stream",
          "name": "stdout",
          "text": [
            "카카오 코스피 65000\n"
          ]
        }
      ]
    },
    {
      "cell_type": "code",
      "source": [
        "kakao.price = 64800\n",
        "print(kakao.price)"
      ],
      "metadata": {
        "colab": {
          "base_uri": "https://localhost:8080/"
        },
        "id": "AzPgWeFimb0z",
        "outputId": "3fc6bc96-95ae-4623-8130-b253b6dcf895"
      },
      "execution_count": 25,
      "outputs": [
        {
          "output_type": "stream",
          "name": "stdout",
          "text": [
            "64800\n"
          ]
        }
      ]
    },
    {
      "cell_type": "code",
      "source": [
        "class Rectangle(object):\n",
        "\n",
        "    def __init__(self, h, v):\n",
        "        self.h = h\n",
        "        self.v = v\n",
        "\n",
        "    def area(self): # 면적을 구하는 함수(메서드) 정의\n",
        "        return self.h * self.v"
      ],
      "metadata": {
        "id": "44EI2v6BoXZi"
      },
      "execution_count": 26,
      "outputs": []
    },
    {
      "cell_type": "code",
      "source": [
        "a = Rectangle(2, 5) # 객체 생성\n",
        "print(a.area()) # 인스턴스,메서드명()"
      ],
      "metadata": {
        "colab": {
          "base_uri": "https://localhost:8080/"
        },
        "id": "9tRblYr2pwTS",
        "outputId": "acb20a66-b158-4f3e-ed88-7aa1964f394d"
      },
      "execution_count": 27,
      "outputs": [
        {
          "output_type": "stream",
          "name": "stdout",
          "text": [
            "10\n"
          ]
        }
      ]
    },
    {
      "cell_type": "code",
      "source": [
        "# 연습문제\n",
        "\n",
        "# 삼각형의 넓이를 계산하기 위한 \"클래스\"(Triangle)를 만든다. 이 클래스는 다음과 같은 속성을 가진다.\n",
        "# 밑변의 길이 b와 높이 h\n",
        "# 삼각형의 넓이를 계산하는 메서드 area(밑변*높이*(1/2))\n",
        "# 인스턴스 생성 후 밑변 10, 높이 5인 어떤 삼각형이 밑변, 높이, 면적을 출력하시오\n",
        "class Triangle(object):\n",
        "  def __init__(self, h, b):\n",
        "    self.h = h\n",
        "    self.b = b\n",
        "  def area(self):\n",
        "    return self.h * self.b * (1/2)\n",
        "x = Triangle(5, 10)\n",
        "print(\"높이:\", x.h)\n",
        "print(\"밑변:\", x.b)\n",
        "print(\"면적:\", x.area())"
      ],
      "metadata": {
        "colab": {
          "base_uri": "https://localhost:8080/"
        },
        "id": "gxJMOPDpp2Bu",
        "outputId": "79321393-d7f8-42f8-9b38-00391842f9b2"
      },
      "execution_count": 38,
      "outputs": [
        {
          "output_type": "stream",
          "name": "stdout",
          "text": [
            "높이: 5\n",
            "밑변: 10\n",
            "면적: 25.0\n"
          ]
        }
      ]
    },
    {
      "cell_type": "code",
      "source": [
        "# 위 코드를 왈용해서 윗사람일 경우(older_is) 이름(한글로)에 '님'을 붙여서 출력하는 클래스를 만들어 보세요.\n",
        "class Greeter(object):\n",
        "  def __init__(self, name):\n",
        "    self.name = name\n",
        "  def greet(self, older_is=True):\n",
        "    if older_is:\n",
        "      print(f'안녕하세요, {self.name}님')\n",
        "    else:\n",
        "      print(f'안녕, {self.name}')\n",
        "g = Greeter('재훈')\n",
        "g.greet()\n",
        "g.greet(older_is=False)"
      ],
      "metadata": {
        "colab": {
          "base_uri": "https://localhost:8080/"
        },
        "id": "0ZJ6IBJ9-2DV",
        "outputId": "c459c975-ebd1-4e65-fca7-0126a143256b"
      },
      "execution_count": 51,
      "outputs": [
        {
          "output_type": "stream",
          "name": "stdout",
          "text": [
            "안녕하세요, 재훈님\n",
            "안녕, 재훈\n"
          ]
        }
      ]
    },
    {
      "cell_type": "code",
      "source": [],
      "metadata": {
        "id": "Lx2vkCL7EFPa"
      },
      "execution_count": null,
      "outputs": []
    }
  ]
}