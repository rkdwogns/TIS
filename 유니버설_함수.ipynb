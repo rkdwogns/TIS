{
  "nbformat": 4,
  "nbformat_minor": 0,
  "metadata": {
    "colab": {
      "provenance": [],
      "authorship_tag": "ABX9TyO1L2PludF5IEPVxskKZHuK",
      "include_colab_link": true
    },
    "kernelspec": {
      "name": "python3",
      "display_name": "Python 3"
    },
    "language_info": {
      "name": "python"
    }
  },
  "cells": [
    {
      "cell_type": "markdown",
      "metadata": {
        "id": "view-in-github",
        "colab_type": "text"
      },
      "source": [
        "<a href=\"https://colab.research.google.com/github/rkdwogns/TIS/blob/main/%EC%9C%A0%EB%8B%88%EB%B2%84%EC%84%A4_%ED%95%A8%EC%88%98.ipynb\" target=\"_parent\"><img src=\"https://colab.research.google.com/assets/colab-badge.svg\" alt=\"Open In Colab\"/></a>"
      ]
    },
    {
      "cell_type": "code",
      "execution_count": 3,
      "metadata": {
        "colab": {
          "base_uri": "https://localhost:8080/"
        },
        "id": "tEQzkEChXu7s",
        "outputId": "af6209bc-915a-4e28-bd1a-1096a0ecb435"
      },
      "outputs": [
        {
          "output_type": "execute_result",
          "data": {
            "text/plain": [
              "array([5, 7, 9])"
            ]
          },
          "metadata": {},
          "execution_count": 3
        }
      ],
      "source": [
        "import numpy as np\n",
        "a = np.array([1,2,3])\n",
        "b = np.array([4,5,6])\n",
        "a + b"
      ]
    },
    {
      "cell_type": "code",
      "source": [
        "import numpy as np\n",
        "x1 = np.random.random(10 ** 6)\n",
        "x2 = np.random.random(10 ** 6)"
      ],
      "metadata": {
        "id": "eb3dVqYzY5Bo"
      },
      "execution_count": 4,
      "outputs": []
    },
    {
      "cell_type": "code",
      "source": [
        "%%timeit\n",
        "a = x1 + x2 # ms = 1/1000 second"
      ],
      "metadata": {
        "colab": {
          "base_uri": "https://localhost:8080/"
        },
        "id": "nR5AccWaZZhv",
        "outputId": "f3e1ab99-3122-4319-b21f-c9b000ef3574"
      },
      "execution_count": 5,
      "outputs": [
        {
          "output_type": "stream",
          "name": "stdout",
          "text": [
            "1.4 ms ± 267 µs per loop (mean ± std. dev. of 7 runs, 1000 loops each)\n"
          ]
        }
      ]
    },
    {
      "cell_type": "code",
      "source": [
        "x = np.arange(4)\n",
        "y = np.linspace(1, 10, 4)\n",
        "print(\"x     =\", x)\n",
        "print(\"y     =\", y)\n",
        "print(\"x + 5 =\", x + 5)\n",
        "print(\"x + y =\", x + y)\n",
        "print(\"x - 5 =\", x - 5)\n",
        "print(\"x * 2 =\", x * 2)\n",
        "print(\"x * y =\", x * y)\n",
        "print(\"x / 2 =\", x / 2)\n",
        "print(\"-x     = \", -x)\n",
        "print(\"x ** 2 = \", x ** 2)\n",
        "print(\"x % 2  = \", x % 2)"
      ],
      "metadata": {
        "colab": {
          "base_uri": "https://localhost:8080/"
        },
        "id": "ACNh-h1fZgR9",
        "outputId": "2e24129f-6f2e-4ce3-ddb3-bfaecdc508cf"
      },
      "execution_count": 7,
      "outputs": [
        {
          "output_type": "stream",
          "name": "stdout",
          "text": [
            "x     = [0 1 2 3]\n",
            "y     = [ 1.  4.  7. 10.]\n",
            "x + 5 = [5 6 7 8]\n",
            "x + y = [ 1.  5.  9. 13.]\n",
            "x - 5 = [-5 -4 -3 -2]\n",
            "x * 2 = [0 2 4 6]\n",
            "x * y = [ 0.  4. 14. 30.]\n",
            "x / 2 = [0.  0.5 1.  1.5]\n",
            "-x     =  [ 0 -1 -2 -3]\n",
            "x ** 2 =  [0 1 4 9]\n",
            "x % 2  =  [0 1 0 1]\n"
          ]
        }
      ]
    },
    {
      "cell_type": "code",
      "source": [
        "# 연습문제 : 1~100까지 1씩 증가하는 원소(요소)로 구성된 넘파이 배열이 있다.\n",
        "# 1. 각각의 요소에 3제곱한 새로운 배열을 생성하시오.\n",
        "# 힌트: arange(1,101)\n",
        "x = np.arange(1, 101)\n",
        "print(\"x ** 3 =\", x ** 3)\n",
        "# 2. 각각의 요소를 제곱근을 취한 새로운 배열을 생성하시오.\n",
        "# 힌트: 제곱근 구하는 함수는 np.sqrt()\n",
        "a = np.sqrt(x)\n",
        "print(\"a = \", a)\n",
        "# 3. 각각의 원소에 10을 더한 새로운 배열 생성하시오.\n",
        "print('x + 10 =', x + 10)"
      ],
      "metadata": {
        "colab": {
          "base_uri": "https://localhost:8080/"
        },
        "id": "6QyGAO7pamav",
        "outputId": "b12a3577-5048-4d3e-8354-2fb0544fae5c"
      },
      "execution_count": 10,
      "outputs": [
        {
          "output_type": "stream",
          "name": "stdout",
          "text": [
            "x ** 3 = [      1       8      27      64     125     216     343     512     729\n",
            "    1000    1331    1728    2197    2744    3375    4096    4913    5832\n",
            "    6859    8000    9261   10648   12167   13824   15625   17576   19683\n",
            "   21952   24389   27000   29791   32768   35937   39304   42875   46656\n",
            "   50653   54872   59319   64000   68921   74088   79507   85184   91125\n",
            "   97336  103823  110592  117649  125000  132651  140608  148877  157464\n",
            "  166375  175616  185193  195112  205379  216000  226981  238328  250047\n",
            "  262144  274625  287496  300763  314432  328509  343000  357911  373248\n",
            "  389017  405224  421875  438976  456533  474552  493039  512000  531441\n",
            "  551368  571787  592704  614125  636056  658503  681472  704969  729000\n",
            "  753571  778688  804357  830584  857375  884736  912673  941192  970299\n",
            " 1000000]\n",
            "a =  [ 1.          1.41421356  1.73205081  2.          2.23606798  2.44948974\n",
            "  2.64575131  2.82842712  3.          3.16227766  3.31662479  3.46410162\n",
            "  3.60555128  3.74165739  3.87298335  4.          4.12310563  4.24264069\n",
            "  4.35889894  4.47213595  4.58257569  4.69041576  4.79583152  4.89897949\n",
            "  5.          5.09901951  5.19615242  5.29150262  5.38516481  5.47722558\n",
            "  5.56776436  5.65685425  5.74456265  5.83095189  5.91607978  6.\n",
            "  6.08276253  6.164414    6.244998    6.32455532  6.40312424  6.4807407\n",
            "  6.55743852  6.63324958  6.70820393  6.78232998  6.8556546   6.92820323\n",
            "  7.          7.07106781  7.14142843  7.21110255  7.28010989  7.34846923\n",
            "  7.41619849  7.48331477  7.54983444  7.61577311  7.68114575  7.74596669\n",
            "  7.81024968  7.87400787  7.93725393  8.          8.06225775  8.1240384\n",
            "  8.18535277  8.24621125  8.30662386  8.36660027  8.42614977  8.48528137\n",
            "  8.54400375  8.60232527  8.66025404  8.71779789  8.77496439  8.83176087\n",
            "  8.88819442  8.94427191  9.          9.05538514  9.11043358  9.16515139\n",
            "  9.21954446  9.2736185   9.32737905  9.38083152  9.43398113  9.48683298\n",
            "  9.53939201  9.59166305  9.64365076  9.69535971  9.74679434  9.79795897\n",
            "  9.8488578   9.89949494  9.94987437 10.        ]\n",
            "x + 10 = [ 11  12  13  14  15  16  17  18  19  20  21  22  23  24  25  26  27  28\n",
            "  29  30  31  32  33  34  35  36  37  38  39  40  41  42  43  44  45  46\n",
            "  47  48  49  50  51  52  53  54  55  56  57  58  59  60  61  62  63  64\n",
            "  65  66  67  68  69  70  71  72  73  74  75  76  77  78  79  80  81  82\n",
            "  83  84  85  86  87  88  89  90  91  92  93  94  95  96  97  98  99 100\n",
            " 101 102 103 104 105 106 107 108 109 110]\n"
          ]
        }
      ]
    },
    {
      "cell_type": "code",
      "source": [
        "x = np.array([-2, -1, 0, 1, 2])\n",
        "print('abs(x) = ', abs(x))"
      ],
      "metadata": {
        "colab": {
          "base_uri": "https://localhost:8080/"
        },
        "id": "S3u_TEabcyWO",
        "outputId": "e15f1925-112a-4e58-9f2d-702e5402051a"
      },
      "execution_count": 12,
      "outputs": [
        {
          "output_type": "stream",
          "name": "stdout",
          "text": [
            "abs(x) =  [2 1 0 1 2]\n"
          ]
        }
      ]
    },
    {
      "cell_type": "code",
      "source": [
        "# 연습\n",
        "# 다음 배열의 각각의 3을 곱하고 1을 뺀 함수를 정의하여 배열에 적용하시오.\n",
        "arr = np.arange(10)\n",
        "def plus_three_minus_one(x):\n",
        "  return x * 3 - 1\n",
        "print(plus_three_minus_one(arr))"
      ],
      "metadata": {
        "colab": {
          "base_uri": "https://localhost:8080/"
        },
        "id": "nOCnXZj3hgM0",
        "outputId": "8ca557b1-31b9-4951-cf4f-2d8159a4375f"
      },
      "execution_count": 19,
      "outputs": [
        {
          "output_type": "stream",
          "name": "stdout",
          "text": [
            "[-1  2  5  8 11 14 17 20 23 26]\n"
          ]
        }
      ]
    },
    {
      "cell_type": "code",
      "source": [
        "x = np.array([1, 2, 3])\n",
        "y = np.array([1, 3, -2])\n",
        "print(\"x == y: \", x == y)"
      ],
      "metadata": {
        "colab": {
          "base_uri": "https://localhost:8080/"
        },
        "id": "mqFuEqJ5ic69",
        "outputId": "56aecf3e-5314-433d-a183-ba9069545382"
      },
      "execution_count": 20,
      "outputs": [
        {
          "output_type": "stream",
          "name": "stdout",
          "text": [
            "x == y:  [ True False False]\n"
          ]
        }
      ]
    },
    {
      "cell_type": "code",
      "source": [
        "print(sum(x >= 2))"
      ],
      "metadata": {
        "colab": {
          "base_uri": "https://localhost:8080/"
        },
        "id": "doHuWPL7kMBS",
        "outputId": "f62eb39f-03b3-483b-9849-ed3c1590416b"
      },
      "execution_count": 21,
      "outputs": [
        {
          "output_type": "stream",
          "name": "stdout",
          "text": [
            "2\n"
          ]
        }
      ]
    },
    {
      "cell_type": "code",
      "source": [
        "# 연습문제\n",
        "# 다음 배열에서 짝수인 요소의 개수를 출력하는 코드를 작성하세요.\n",
        "arr = np.arange(45)\n",
        "print('개수:',sum(arr % 2 == 0))"
      ],
      "metadata": {
        "colab": {
          "base_uri": "https://localhost:8080/"
        },
        "id": "di4IyzcGkoub",
        "outputId": "dcb34820-9519-49a5-f4a0-4a530d14854e"
      },
      "execution_count": 29,
      "outputs": [
        {
          "output_type": "stream",
          "name": "stdout",
          "text": [
            "개수: 23\n"
          ]
        }
      ]
    },
    {
      "cell_type": "code",
      "source": [
        "a = np.array([[1, 2], [3, 4]]) # 2차원 배열, 즉 행렬\n",
        "b = np.array([-1, -2]) # 1차원 배열, 즉 벡터\n",
        "print(a + b)"
      ],
      "metadata": {
        "colab": {
          "base_uri": "https://localhost:8080/"
        },
        "id": "19g7kZZPk5r5",
        "outputId": "63972e19-fc26-4126-c257-52361aca2b23"
      },
      "execution_count": 30,
      "outputs": [
        {
          "output_type": "stream",
          "name": "stdout",
          "text": [
            "[[0 0]\n",
            " [2 2]]\n"
          ]
        }
      ]
    },
    {
      "cell_type": "code",
      "source": [],
      "metadata": {
        "id": "VsAS1vsmohyB"
      },
      "execution_count": null,
      "outputs": []
    }
  ]
}