{
  "nbformat": 4,
  "nbformat_minor": 0,
  "metadata": {
    "colab": {
      "provenance": [],
      "authorship_tag": "ABX9TyPsy+UgEQIIPRHaVtmGak3Q",
      "include_colab_link": true
    },
    "kernelspec": {
      "name": "python3",
      "display_name": "Python 3"
    },
    "language_info": {
      "name": "python"
    }
  },
  "cells": [
    {
      "cell_type": "markdown",
      "metadata": {
        "id": "view-in-github",
        "colab_type": "text"
      },
      "source": [
        "<a href=\"https://colab.research.google.com/github/rkdwogns/TIS/blob/main/%EB%AA%A8%EB%8D%B8%ED%8C%8C%EC%9D%BC_%EC%A0%80%EC%9E%A5.ipynb\" target=\"_parent\"><img src=\"https://colab.research.google.com/assets/colab-badge.svg\" alt=\"Open In Colab\"/></a>"
      ]
    },
    {
      "cell_type": "code",
      "execution_count": 1,
      "metadata": {
        "id": "jGmx5ZEiDdIv"
      },
      "outputs": [],
      "source": [
        "from sklearn import datasets\n",
        "from sklearn.neighbors import KNeighborsClassifier"
      ]
    },
    {
      "cell_type": "code",
      "source": [
        "import joblib"
      ],
      "metadata": {
        "id": "dlt-dZViDpdL"
      },
      "execution_count": 2,
      "outputs": []
    },
    {
      "cell_type": "code",
      "source": [
        "# 붓꽃 데이터 가져오기\n",
        "dataset = datasets.load_iris()"
      ],
      "metadata": {
        "id": "9lrbBq9YDsd3"
      },
      "execution_count": 3,
      "outputs": []
    },
    {
      "cell_type": "code",
      "source": [
        "# 입력 데이터와 타깃 데이터 준비\n",
        "X, y = dataset['data'], dataset['target']"
      ],
      "metadata": {
        "id": "733D53jSDwDe"
      },
      "execution_count": 4,
      "outputs": []
    },
    {
      "cell_type": "code",
      "source": [
        "# K 최근접 이웃 모델 객체\n",
        "model = KNeighborsClassifier()"
      ],
      "metadata": {
        "id": "kU9efrHIDzDm"
      },
      "execution_count": 5,
      "outputs": []
    },
    {
      "cell_type": "code",
      "source": [
        "# 학습\n",
        "model.fit(X, y)"
      ],
      "metadata": {
        "colab": {
          "base_uri": "https://localhost:8080/"
        },
        "id": "ADlE9sEBD3N2",
        "outputId": "e2b3f9a0-64ed-4b19-c64c-fd1e359b10a8"
      },
      "execution_count": 6,
      "outputs": [
        {
          "output_type": "execute_result",
          "data": {
            "text/plain": [
              "KNeighborsClassifier()"
            ]
          },
          "metadata": {},
          "execution_count": 6
        }
      ]
    },
    {
      "cell_type": "code",
      "source": [
        "# 학습시킨 모델을 현재 경로에 knn_model.pkl 파일로 저장 (피클파일, pickle file)\n",
        "# joblib의 dump() 함수 이용\n",
        "joblib.dump(model, './knn_model.pkl')"
      ],
      "metadata": {
        "colab": {
          "base_uri": "https://localhost:8080/"
        },
        "id": "5DZq3gCsD4hs",
        "outputId": "5715f432-19a2-41e8-e65a-41dc51dc7755"
      },
      "execution_count": 7,
      "outputs": [
        {
          "output_type": "execute_result",
          "data": {
            "text/plain": [
              "['./knn_model.pkl']"
            ]
          },
          "metadata": {},
          "execution_count": 7
        }
      ]
    },
    {
      "cell_type": "code",
      "source": [
        "import joblib"
      ],
      "metadata": {
        "id": "etK4TAhdEKrj"
      },
      "execution_count": 8,
      "outputs": []
    },
    {
      "cell_type": "code",
      "source": [
        "# joblib의 load() 함수로 모델 파일 불러오기\n",
        "loaded_model = joblib.load('./knn_model.pkl')"
      ],
      "metadata": {
        "id": "DuTq4L0DEqT6"
      },
      "execution_count": 9,
      "outputs": []
    },
    {
      "cell_type": "code",
      "source": [
        "score = loaded_model.score(X, y)"
      ],
      "metadata": {
        "id": "E7llidv8Es0u"
      },
      "execution_count": 10,
      "outputs": []
    },
    {
      "cell_type": "code",
      "source": [
        "print(score)"
      ],
      "metadata": {
        "colab": {
          "base_uri": "https://localhost:8080/"
        },
        "id": "Zd711nHqExtO",
        "outputId": "249ce915-c02b-45a7-a97a-fbb22a956215"
      },
      "execution_count": 11,
      "outputs": [
        {
          "output_type": "stream",
          "name": "stdout",
          "text": [
            "0.9666666666666667\n"
          ]
        }
      ]
    },
    {
      "cell_type": "code",
      "source": [],
      "metadata": {
        "id": "AREjLp-PE0x4"
      },
      "execution_count": null,
      "outputs": []
    }
  ]
}