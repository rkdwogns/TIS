{
  "nbformat": 4,
  "nbformat_minor": 0,
  "metadata": {
    "colab": {
      "provenance": [],
      "authorship_tag": "ABX9TyNQbKPHFz1TEQGFY9DZReIa",
      "include_colab_link": true
    },
    "kernelspec": {
      "name": "python3",
      "display_name": "Python 3"
    },
    "language_info": {
      "name": "python"
    }
  },
  "cells": [
    {
      "cell_type": "markdown",
      "metadata": {
        "id": "view-in-github",
        "colab_type": "text"
      },
      "source": [
        "<a href=\"https://colab.research.google.com/github/rkdwogns/TIS/blob/main/%EB%A7%88%ED%81%AC%EB%8B%A4%EC%9A%B4(Markdown)%EC%97%B0%EC%8A%B5.ipynb\" target=\"_parent\"><img src=\"https://colab.research.google.com/assets/colab-badge.svg\" alt=\"Open In Colab\"/></a>"
      ]
    },
    {
      "cell_type": "code",
      "execution_count": null,
      "metadata": {
        "id": "AQcVjrctEvqP"
      },
      "outputs": [],
      "source": []
    },
    {
      "cell_type": "markdown",
      "source": [
        "# 제목1\n",
        "## 제목2\n",
        "### 제목3\n",
        "#### 제목4\n",
        "##### 제목5\n",
        "###### 제목6"
      ],
      "metadata": {
        "id": "iJrxauEFE2qC"
      }
    },
    {
      "cell_type": "markdown",
      "source": [
        "# 텍스트 적기\n",
        "텍스트는 그냥 쭉 치시면 됩니다.\n",
        "\n",
        "# 줄바꿈\n",
        "그냥 치면 된다면서요..  \n",
        "엔터 쳤잖아요\n",
        "줄바꿈 안되요. 꼭 스페이스바를 2번 치셔야 줄바꿈 됩니다.\n",
        "\n",
        "\n",
        "줄바꿈"
      ],
      "metadata": {
        "id": "cEwgHBOVG65l"
      }
    },
    {
      "cell_type": "markdown",
      "source": [
        "# 강조\n",
        "\n",
        "_이텔릭체_로 변합니다.  \n",
        "**두껍게**는 별표 2개로 감싸주시면 됩니다.  \n",
        "**두껍게 + 이텔릭**_  \n",
        "\n",
        "~취소선~\n",
        "\n",
        "<u>밑줄</u>\n",
        "\n",
        "**`Documentation`**\n"
      ],
      "metadata": {
        "id": "7yeTbOeUHqs8"
      }
    },
    {
      "cell_type": "markdown",
      "source": [
        "# 목록(LIST)\n",
        "\n",
        "## 순서가 있는 목록\n",
        "\n",
        "1. 순서가 있는 목록\n",
        "1. 순서가 있는 목록\n",
        "1. 순서가 있는 목록\n",
        "  1. 순서가 있는 목록\n",
        "  1. 순서가 있는 목록\n",
        "\n",
        "## 순서가 없는 목록\n",
        "\n",
        "- 순서가 없는 목록\n",
        "- 순서가 없는 목록\n",
        "  - 순서가 없는 목록\n",
        "  - 순서가 없는 목록\n",
        "    - 순서가 없는 목록\n",
        "    - 순서가 없는 목록"
      ],
      "metadata": {
        "id": "Rxh-3GOQLOec"
      }
    },
    {
      "cell_type": "markdown",
      "source": [
        "# 링크\n",
        "\n",
        "\n",
        "* [네이버](https://www.naver.com)\n",
        "* [오픈AI](https://openai.com)\n",
        "\n",
        "# 이미지 넣기\n",
        "![chatGPT 방법론](https://cdn.openai.com/chatgpt/draft-20221129c/ChatGPT_Diagram.svg)\n",
        "\n",
        "> (참고) 예수님 가라사대: \"이웃을 사랑하라\"\n",
        "\n",
        "파이썬에서 문자열을 출력할 때는 `print`를 쓰면 된다.\n",
        "```python\n",
        "from tensorflow as tf\n",
        "print(__tf.version__)\n",
        "```\n",
        "\n",
        "다음은 자바 스크립트입니다.\n",
        "\n",
        "```javascript\n",
        "const a = 1 ;\n",
        "console.log(a)\n",
        "```\n",
        "\n",
        "터미널\n",
        "```shell\n",
        "$ ls -al\n",
        "```\n",
        "\n",
        "```plaintext\n",
        "이것은 보통 문장입니다.\n",
        "```\n",
        "\n",
        "# 표만들기\n",
        "\n",
        "주차 | 주제 | 완료여부 | 기간\n",
        ":--:|:--:|:--:|--:\n",
        "1주차 | 파이선 | x | 몰라\n",
        "2주차 | 데이터분석 | x | 잘 몰라\n",
        "3주차 | 머신러닝 | o | 진짜 몰라\n",
        "\n",
        "<u>강조하고 싶은 내용</u>\n",
        "\n",
        "<img width=\"100\" src=\"https://cdn.openai.com/chatgpt/draft-20221129c/ChatGPT_Diagram.svg\"></img>\n",
        "\n",
        "# 수평선\n",
        "\n",
        "제목\n",
        "\n",
        "---\n",
        "\n",
        "수평선 잘 들어간 거야?"
      ],
      "metadata": {
        "id": "LRyMDjoMMoYH"
      }
    },
    {
      "cell_type": "code",
      "source": [
        "import tensorflow as tf\n",
        "print(tf.__version__)"
      ],
      "metadata": {
        "colab": {
          "base_uri": "https://localhost:8080/"
        },
        "id": "vioJdDjGG4Le",
        "outputId": "f373af19-1aac-4c0d-a2c3-bd5aec26580a"
      },
      "execution_count": null,
      "outputs": [
        {
          "output_type": "stream",
          "name": "stdout",
          "text": [
            "2.9.2\n"
          ]
        }
      ]
    },
    {
      "cell_type": "code",
      "source": [],
      "metadata": {
        "id": "HXpho8zaTWX2"
      },
      "execution_count": null,
      "outputs": []
    }
  ]
}