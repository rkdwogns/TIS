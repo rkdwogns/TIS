{
  "nbformat": 4,
  "nbformat_minor": 0,
  "metadata": {
    "colab": {
      "provenance": [],
      "authorship_tag": "ABX9TyNmJ15eQVbOZytmM5tHTi9Z",
      "include_colab_link": true
    },
    "kernelspec": {
      "name": "python3",
      "display_name": "Python 3"
    },
    "language_info": {
      "name": "python"
    }
  },
  "cells": [
    {
      "cell_type": "markdown",
      "metadata": {
        "id": "view-in-github",
        "colab_type": "text"
      },
      "source": [
        "<a href=\"https://colab.research.google.com/github/rkdwogns/TIS/blob/main/%EB%B0%B0%EC%97%B4%EC%9E%90%EB%A3%8C%ED%98%95.ipynb\" target=\"_parent\"><img src=\"https://colab.research.google.com/assets/colab-badge.svg\" alt=\"Open In Colab\"/></a>"
      ]
    },
    {
      "cell_type": "code",
      "execution_count": 1,
      "metadata": {
        "colab": {
          "base_uri": "https://localhost:8080/"
        },
        "id": "8AkAWgmvgDHi",
        "outputId": "e6ae25a0-ec9e-4efe-fc13-72f5d41938a7"
      },
      "outputs": [
        {
          "output_type": "stream",
          "name": "stdout",
          "text": [
            "[1, 2, 3, 4] [5, 6, 7, 8]\n",
            "(1, 2, 3, 4) (5, 6, 7, 8)\n"
          ]
        }
      ],
      "source": [
        "#리스트\n",
        "L = [1, 2, 3, 4]\n",
        "L2 = [5, 6, 7, 8]\n",
        "#튜플\n",
        "T = (1, 2, 3, 4)\n",
        "T2 = (5, 6, 7, 8)\n",
        "\n",
        "print(L, L2)\n",
        "print(T, T2)"
      ]
    },
    {
      "cell_type": "code",
      "source": [
        "L = [\"abc\", 10, [\"A\", \"B\"], (1, 2, 3)]\n",
        "L"
      ],
      "metadata": {
        "colab": {
          "base_uri": "https://localhost:8080/"
        },
        "id": "ouiBpLm5h2eu",
        "outputId": "4dc8c8a6-4017-415c-8a16-1c507249d4f4"
      },
      "execution_count": 3,
      "outputs": [
        {
          "output_type": "execute_result",
          "data": {
            "text/plain": [
              "['abc', 10, ['A', 'B'], (1, 2, 3)]"
            ]
          },
          "metadata": {},
          "execution_count": 3
        }
      ]
    },
    {
      "cell_type": "code",
      "source": [
        "print(type(L))"
      ],
      "metadata": {
        "colab": {
          "base_uri": "https://localhost:8080/"
        },
        "id": "Yc3hlvoEiiLL",
        "outputId": "2dd91e24-a819-4a2b-e4ba-4f64d624fa4e"
      },
      "execution_count": 4,
      "outputs": [
        {
          "output_type": "stream",
          "name": "stdout",
          "text": [
            "<class 'list'>\n"
          ]
        }
      ]
    },
    {
      "cell_type": "code",
      "source": [
        "# 인덱싱\n",
        "print(L[0], L[1], L[2], L[-1])\n",
        "\n",
        "# 리스트\n",
        "L = [\"A\", \"B\", \"C\", \"D\", \"E\"]\n",
        "print('0번째 요소: {}, 3번째 요소: {}'.format(L[0], L[3]))"
      ],
      "metadata": {
        "colab": {
          "base_uri": "https://localhost:8080/"
        },
        "id": "byL2h4fGjDQg",
        "outputId": "01104271-85d1-475c-af76-beba87885aa6"
      },
      "execution_count": 6,
      "outputs": [
        {
          "output_type": "stream",
          "name": "stdout",
          "text": [
            "abc 10 ['A', 'B'] (1, 2, 3)\n",
            "0번째 요소: A, 3번째 요소: D\n"
          ]
        }
      ]
    },
    {
      "cell_type": "code",
      "source": [
        "# 다음 리스트 변수 [1,2,3,\"A\", \"B\", True, [4,5,6]]의 첫번째, 세번째, 마지막번째 요소를 추출해 보세요.\n",
        "# True는 L변수의 몇번째 인덱스인가? # 5번째 인덱스\n",
        "L = [1,2,3,\"A\", \"B\", True, [4,5,6]]\n",
        "print('첫번째 요소: {}, 세번째 요소: {}, 마지막번째 요소: {}'.format(L[0],L[2],L[-1]))\n",
        "print(L.index(True, 1))"
      ],
      "metadata": {
        "colab": {
          "base_uri": "https://localhost:8080/"
        },
        "id": "nILrsb8NkJy7",
        "outputId": "81ecf87a-5632-4bdf-94a9-e88a1c4ade90"
      },
      "execution_count": 21,
      "outputs": [
        {
          "output_type": "stream",
          "name": "stdout",
          "text": [
            "첫번째 요소: 1, 세번째 요소: 3, 마지막번째 요소: [4, 5, 6]\n",
            "5\n"
          ]
        }
      ]
    },
    {
      "cell_type": "code",
      "source": [
        "# 슬라이싱\n",
        "# 마지막 요소는 포함시키지 않음\n",
        "print(L[1:3])"
      ],
      "metadata": {
        "colab": {
          "base_uri": "https://localhost:8080/"
        },
        "id": "UxG6tHA0lPkH",
        "outputId": "1030c03d-8c4a-43ce-8846-17883b77def9"
      },
      "execution_count": 13,
      "outputs": [
        {
          "output_type": "stream",
          "name": "stdout",
          "text": [
            "[2, 3]\n"
          ]
        }
      ]
    },
    {
      "cell_type": "code",
      "source": [
        "# 1. L을 대상으로 \"B\", \"C\", \"D\"를 슬라이싱을 이용하여 추출하시오\n",
        "# 2. T를 대상으로 \"C\", \"D\"를 슬라이싱을 이용하여 추출하시오\n",
        "\n",
        "L = [\"A\", \"B\", \"C\", \"D\", \"E\"]\n",
        "T = [\"A\", \"B\", \"C\", \"D\", \"E\"]\n",
        "print(L[1:-1])\n",
        "print(T[2:4])"
      ],
      "metadata": {
        "colab": {
          "base_uri": "https://localhost:8080/"
        },
        "id": "SC5R1ZFSona2",
        "outputId": "b55c0ab7-a338-43bf-e17a-e7f35529528b"
      },
      "execution_count": 16,
      "outputs": [
        {
          "output_type": "stream",
          "name": "stdout",
          "text": [
            "['B', 'C', 'D']\n",
            "['C', 'D']\n"
          ]
        }
      ]
    },
    {
      "cell_type": "code",
      "source": [
        "A = [[1,2,3],[4,5,6]]\n",
        "print(A[0][1])"
      ],
      "metadata": {
        "colab": {
          "base_uri": "https://localhost:8080/"
        },
        "id": "vKPmx-9ppmqG",
        "outputId": "910774ec-ffed-4941-d3fe-c36ae92be844"
      },
      "execution_count": 22,
      "outputs": [
        {
          "output_type": "stream",
          "name": "stdout",
          "text": [
            "2\n"
          ]
        }
      ]
    },
    {
      "cell_type": "code",
      "source": [
        "# A 리스트의 1번째 요소의 2번째 요소를 추출하시오.\n",
        "\n",
        "A = [[1,2,3],[4,5,6]]\n",
        "print(A[1][2])"
      ],
      "metadata": {
        "colab": {
          "base_uri": "https://localhost:8080/"
        },
        "id": "oGZkMw5yyA6H",
        "outputId": "01ed86ea-91d9-456b-be6a-565a397078d5"
      },
      "execution_count": 23,
      "outputs": [
        {
          "output_type": "stream",
          "name": "stdout",
          "text": [
            "6\n"
          ]
        }
      ]
    },
    {
      "cell_type": "code",
      "source": [
        "# 리스트 연산자\n",
        "[1,2,3]+[4,5]"
      ],
      "metadata": {
        "colab": {
          "base_uri": "https://localhost:8080/"
        },
        "id": "u0Q3oiE8yMr9",
        "outputId": "61fe88b5-d84b-490c-abbb-23471822cb16"
      },
      "execution_count": 24,
      "outputs": [
        {
          "output_type": "execute_result",
          "data": {
            "text/plain": [
              "[1, 2, 3, 4, 5]"
            ]
          },
          "metadata": {},
          "execution_count": 24
        }
      ]
    },
    {
      "cell_type": "code",
      "source": [
        "# 리스트는 요소 변경이 가능하다.\n",
        "L = [\"A\", \"B\", \"C\", \"D\", \"E\"]\n",
        "L[0] = \"X\"\n",
        "print(L)"
      ],
      "metadata": {
        "colab": {
          "base_uri": "https://localhost:8080/"
        },
        "id": "mIqd4nCLz5vA",
        "outputId": "5b1d3b40-b41b-4000-a1e6-8f4dcac0dd4c"
      },
      "execution_count": 29,
      "outputs": [
        {
          "output_type": "stream",
          "name": "stdout",
          "text": [
            "['X', 'B', 'C', 'D', 'E']\n"
          ]
        }
      ]
    },
    {
      "cell_type": "code",
      "source": [
        "# 반면 튜플은 요소 변경이 불가능하다\n",
        "T = (\"A\", \"B\", \"C\", \"D\", \"E\")\n",
        "T[0] = \"Y\""
      ],
      "metadata": {
        "colab": {
          "base_uri": "https://localhost:8080/",
          "height": 215
        },
        "id": "-ndL3uW60Uzn",
        "outputId": "dfc89fd0-73b9-4c55-cd10-2228620e524b"
      },
      "execution_count": 30,
      "outputs": [
        {
          "output_type": "error",
          "ename": "TypeError",
          "evalue": "ignored",
          "traceback": [
            "\u001b[0;31m---------------------------------------------------------------------------\u001b[0m",
            "\u001b[0;31mTypeError\u001b[0m                                 Traceback (most recent call last)",
            "\u001b[0;32m<ipython-input-30-492d34ca98a9>\u001b[0m in \u001b[0;36m<module>\u001b[0;34m\u001b[0m\n\u001b[1;32m      1\u001b[0m \u001b[0;31m# 반면 튜플은 요소 변경이 불가능하다\u001b[0m\u001b[0;34m\u001b[0m\u001b[0;34m\u001b[0m\u001b[0;34m\u001b[0m\u001b[0m\n\u001b[1;32m      2\u001b[0m \u001b[0mT\u001b[0m \u001b[0;34m=\u001b[0m \u001b[0;34m(\u001b[0m\u001b[0;34m\"A\"\u001b[0m\u001b[0;34m,\u001b[0m \u001b[0;34m\"B\"\u001b[0m\u001b[0;34m,\u001b[0m \u001b[0;34m\"C\"\u001b[0m\u001b[0;34m,\u001b[0m \u001b[0;34m\"D\"\u001b[0m\u001b[0;34m,\u001b[0m \u001b[0;34m\"E\"\u001b[0m\u001b[0;34m)\u001b[0m\u001b[0;34m\u001b[0m\u001b[0;34m\u001b[0m\u001b[0m\n\u001b[0;32m----> 3\u001b[0;31m \u001b[0mT\u001b[0m\u001b[0;34m[\u001b[0m\u001b[0;36m0\u001b[0m\u001b[0;34m]\u001b[0m \u001b[0;34m=\u001b[0m \u001b[0;34m\"Y\"\u001b[0m\u001b[0;34m\u001b[0m\u001b[0;34m\u001b[0m\u001b[0m\n\u001b[0m",
            "\u001b[0;31mTypeError\u001b[0m: 'tuple' object does not support item assignment"
          ]
        }
      ]
    },
    {
      "cell_type": "code",
      "source": [
        "# append 메서드는 맨 마지막에 요소 추가한다.\n",
        "X = [1, 2, 3]\n",
        "X.append(4)\n",
        "print(X)"
      ],
      "metadata": {
        "colab": {
          "base_uri": "https://localhost:8080/"
        },
        "id": "WJRYS3E42Y13",
        "outputId": "a67979cc-850b-4c98-ea00-2a94719813ea"
      },
      "execution_count": 31,
      "outputs": [
        {
          "output_type": "stream",
          "name": "stdout",
          "text": [
            "[1, 2, 3, 4]\n"
          ]
        }
      ]
    },
    {
      "cell_type": "code",
      "source": [
        "# 예제\n",
        "# 기존 학급(class)이 \"영희\", \"철수\", \"만수\" 3명으로 구성된 학급이 있습니다.\n",
        "# \"영자\"가 전학을 왔어요. 이 학급 리스트에 영자를 가장 끝에 추가해 보세요.\n",
        "class1 = [\"영희\", \"철수\", \"만수\"]\n",
        "class1.append(\"영자\")\n",
        "print(class1)"
      ],
      "metadata": {
        "colab": {
          "base_uri": "https://localhost:8080/"
        },
        "id": "u021XENu3PcF",
        "outputId": "2b6a8fa2-e8c4-421f-fb4a-263b7d294183"
      },
      "execution_count": 33,
      "outputs": [
        {
          "output_type": "stream",
          "name": "stdout",
          "text": [
            "['영희', '철수', '만수', '영자']\n"
          ]
        }
      ]
    },
    {
      "cell_type": "code",
      "source": [
        "# 순서대로 인덱스(=삽입할 위치)와 삽입할 값을 입력\n",
        "L = [1, 3, 4, 5]\n",
        "L.insert(1, 2)\n",
        "print(L)"
      ],
      "metadata": {
        "colab": {
          "base_uri": "https://localhost:8080/"
        },
        "id": "pD1Zf9Mz3zbq",
        "outputId": "1b2773df-7b81-4752-b1fa-1921a1160fea"
      },
      "execution_count": 34,
      "outputs": [
        {
          "output_type": "stream",
          "name": "stdout",
          "text": [
            "[1, 2, 3, 4, 5]\n"
          ]
        }
      ]
    },
    {
      "cell_type": "code",
      "source": [
        "# \"영자\"를 \"영희\" 뒤에 끼워넣기\n",
        "\n",
        "class1 = [\"영희\", \"철수\", \"민수\"]\n",
        "class1.insert(1, \"영자\")\n",
        "print(class1)"
      ],
      "metadata": {
        "colab": {
          "base_uri": "https://localhost:8080/"
        },
        "id": "xeUV8g2A5yXs",
        "outputId": "e85e0b4d-5344-46d7-de75-8c09708f4111"
      },
      "execution_count": 35,
      "outputs": [
        {
          "output_type": "stream",
          "name": "stdout",
          "text": [
            "['영희', '영자', '철수', '민수']\n"
          ]
        }
      ]
    },
    {
      "cell_type": "code",
      "source": [
        "# 가장 최근꺼만 제거됨\n",
        "L = [3, 1, 2, 3, 2, 3]\n",
        "L.remove(3)\n",
        "print(L)"
      ],
      "metadata": {
        "colab": {
          "base_uri": "https://localhost:8080/"
        },
        "id": "eIR4JQZY6Ei4",
        "outputId": "ab84d020-3137-4e9a-a616-5c3d96367f35"
      },
      "execution_count": 36,
      "outputs": [
        {
          "output_type": "stream",
          "name": "stdout",
          "text": [
            "[1, 2, 3, 2, 3]\n"
          ]
        }
      ]
    },
    {
      "cell_type": "code",
      "source": [
        "# pop은 인덱스를 입력받아 해당 인덱스에 있는 요소를 제거합니다.\n",
        "L = [1, 2, 3]\n",
        "L.pop(0)\n",
        "print(L)"
      ],
      "metadata": {
        "colab": {
          "base_uri": "https://localhost:8080/"
        },
        "id": "sXMbzCH488lp",
        "outputId": "05e77d92-53a7-4094-bc58-d89de3515712"
      },
      "execution_count": 38,
      "outputs": [
        {
          "output_type": "stream",
          "name": "stdout",
          "text": [
            "[2, 3]\n"
          ]
        }
      ]
    },
    {
      "cell_type": "code",
      "source": [
        "# 아무것도 입력하지 않으면 맨 마지막 요소가 제거됩니다.\n",
        "L = [1, 2, 3]\n",
        "L.pop()\n",
        "print(L)"
      ],
      "metadata": {
        "colab": {
          "base_uri": "https://localhost:8080/"
        },
        "id": "v-Huu9pN9iBS",
        "outputId": "e56b6bdf-3764-4266-b7b1-5830e73af99c"
      },
      "execution_count": 39,
      "outputs": [
        {
          "output_type": "stream",
          "name": "stdout",
          "text": [
            "[1, 2]\n"
          ]
        }
      ]
    },
    {
      "cell_type": "code",
      "source": [
        "A = [\"a\", \"b\", \"c\", \"d\"]\n",
        "i = 1\n",
        "print(A[:i] + A[i+1:])"
      ],
      "metadata": {
        "colab": {
          "base_uri": "https://localhost:8080/"
        },
        "id": "IvP5EUfK90dX",
        "outputId": "be728e50-57f1-4100-97e3-aaac15e52e0c"
      },
      "execution_count": 40,
      "outputs": [
        {
          "output_type": "stream",
          "name": "stdout",
          "text": [
            "['a', 'c', 'd']\n"
          ]
        }
      ]
    },
    {
      "cell_type": "code",
      "source": [
        "L = [\"a\", \"b\", 1, 2]\n",
        "T = (1, 2, 3)\n",
        "print(len(L), len(T))"
      ],
      "metadata": {
        "colab": {
          "base_uri": "https://localhost:8080/"
        },
        "id": "P-6aMFkV_Qec",
        "outputId": "711dcd95-f80e-4ed2-9157-e54faeb40606"
      },
      "execution_count": 41,
      "outputs": [
        {
          "output_type": "stream",
          "name": "stdout",
          "text": [
            "4 3\n"
          ]
        }
      ]
    },
    {
      "cell_type": "code",
      "source": [
        "# 퀴즈: L의 0번째 요소의 길이를 구하시오\n",
        "L = [[1, 2, 3],[4, 5, 6]]\n",
        "print(len(L[0]))"
      ],
      "metadata": {
        "colab": {
          "base_uri": "https://localhost:8080/"
        },
        "id": "Y9YzxuqM_eD2",
        "outputId": "5960d4fa-9996-4a85-9835-6cc10c90255e"
      },
      "execution_count": 43,
      "outputs": [
        {
          "output_type": "stream",
          "name": "stdout",
          "text": [
            "3\n"
          ]
        }
      ]
    },
    {
      "cell_type": "code",
      "source": [
        "L = [[1, 2, 3, [10, 20, 30, 40, 50]], [4, 5, 6]]\n",
        "print(len(L[0][3]))"
      ],
      "metadata": {
        "colab": {
          "base_uri": "https://localhost:8080/"
        },
        "id": "hmcwSkqEABYk",
        "outputId": "e4c74fbe-1eae-497e-cd91-2f3661732553"
      },
      "execution_count": 50,
      "outputs": [
        {
          "output_type": "stream",
          "name": "stdout",
          "text": [
            "5\n"
          ]
        }
      ]
    },
    {
      "cell_type": "code",
      "source": [
        "L[0][3][:4]"
      ],
      "metadata": {
        "colab": {
          "base_uri": "https://localhost:8080/"
        },
        "id": "CEQjbs0UA0CK",
        "outputId": "14b643c6-4a3d-4797-8a82-7173e6625b59"
      },
      "execution_count": 51,
      "outputs": [
        {
          "output_type": "execute_result",
          "data": {
            "text/plain": [
              "[10, 20, 30, 40]"
            ]
          },
          "metadata": {},
          "execution_count": 51
        }
      ]
    },
    {
      "cell_type": "code",
      "source": [
        "(a, b, c) = (1, 2, 3)\n",
        "print(a, b, c)"
      ],
      "metadata": {
        "colab": {
          "base_uri": "https://localhost:8080/"
        },
        "id": "jX4XXVtfB-Sx",
        "outputId": "9bf1d706-a70a-4c29-ecec-2f984e66eaae"
      },
      "execution_count": 52,
      "outputs": [
        {
          "output_type": "stream",
          "name": "stdout",
          "text": [
            "1 2 3\n"
          ]
        }
      ]
    },
    {
      "cell_type": "code",
      "source": [
        "(a, b) = (b, a)\n",
        "print(a, b)"
      ],
      "metadata": {
        "colab": {
          "base_uri": "https://localhost:8080/"
        },
        "id": "R9UkDI-mCpg6",
        "outputId": "e445ad6e-c2f6-4fd6-cc8e-eb8825f7a3ea"
      },
      "execution_count": 55,
      "outputs": [
        {
          "output_type": "stream",
          "name": "stdout",
          "text": [
            "2 1\n"
          ]
        }
      ]
    },
    {
      "cell_type": "code",
      "source": [
        "T = 1, 2, 3\n",
        "\n",
        "print(type(T))\n",
        "print(T)"
      ],
      "metadata": {
        "colab": {
          "base_uri": "https://localhost:8080/"
        },
        "id": "PqzRpjmpDIe9",
        "outputId": "b2bfe61f-80d3-48c3-883b-42a76fa36391"
      },
      "execution_count": 56,
      "outputs": [
        {
          "output_type": "stream",
          "name": "stdout",
          "text": [
            "<class 'tuple'>\n",
            "(1, 2, 3)\n"
          ]
        }
      ]
    },
    {
      "cell_type": "code",
      "source": [
        "# 리스트 정렬 sort\n",
        "a = [1, 4, 3, 2]\n",
        "a.sort()\n",
        "a"
      ],
      "metadata": {
        "colab": {
          "base_uri": "https://localhost:8080/"
        },
        "id": "nrEXzqbMDUB-",
        "outputId": "e5f2db11-b93a-4a3d-cef0-bc65e37f3adb"
      },
      "execution_count": 57,
      "outputs": [
        {
          "output_type": "execute_result",
          "data": {
            "text/plain": [
              "[1, 2, 3, 4]"
            ]
          },
          "metadata": {},
          "execution_count": 57
        }
      ]
    },
    {
      "cell_type": "code",
      "source": [
        "a.reverse()\n",
        "a"
      ],
      "metadata": {
        "colab": {
          "base_uri": "https://localhost:8080/"
        },
        "id": "n0gww7M2WwNP",
        "outputId": "7b6ddc31-7ee6-4dde-da0e-1e83dd2897ab"
      },
      "execution_count": 58,
      "outputs": [
        {
          "output_type": "execute_result",
          "data": {
            "text/plain": [
              "[4, 3, 2, 1]"
            ]
          },
          "metadata": {},
          "execution_count": 58
        }
      ]
    },
    {
      "cell_type": "code",
      "source": [
        "# 요소 개수 세기 count\n",
        "a.count(3)"
      ],
      "metadata": {
        "colab": {
          "base_uri": "https://localhost:8080/"
        },
        "id": "dYqDbnwRXRId",
        "outputId": "4de4d1df-d1e6-4419-f76f-1eec9c0ba905"
      },
      "execution_count": 60,
      "outputs": [
        {
          "output_type": "execute_result",
          "data": {
            "text/plain": [
              "1"
            ]
          },
          "metadata": {},
          "execution_count": 60
        }
      ]
    },
    {
      "cell_type": "code",
      "source": [
        "a = [1, 2, 3]\n",
        "a.extend([4,5,6])\n",
        "a"
      ],
      "metadata": {
        "colab": {
          "base_uri": "https://localhost:8080/"
        },
        "id": "oxBTHxlJXnKS",
        "outputId": "2a6957c4-2adb-4eef-9df1-1a89130cb6ef"
      },
      "execution_count": 62,
      "outputs": [
        {
          "output_type": "execute_result",
          "data": {
            "text/plain": [
              "[1, 2, 3, 4, 5, 6]"
            ]
          },
          "metadata": {},
          "execution_count": 62
        }
      ]
    },
    {
      "cell_type": "code",
      "source": [
        "# 딕셔너리\n",
        "x = {\"A\": 1, \"B\": 2, \"C\": 3}\n",
        "print(x[\"C\"])"
      ],
      "metadata": {
        "colab": {
          "base_uri": "https://localhost:8080/"
        },
        "id": "t2xmQ52DX_zT",
        "outputId": "21fe5a06-727d-4ea4-8382-99aa02a7781d"
      },
      "execution_count": 63,
      "outputs": [
        {
          "output_type": "stream",
          "name": "stdout",
          "text": [
            "3\n"
          ]
        }
      ]
    },
    {
      "cell_type": "code",
      "source": [
        "x[\"D\"] = 4\n",
        "print(x)"
      ],
      "metadata": {
        "colab": {
          "base_uri": "https://localhost:8080/"
        },
        "id": "uF--uE4Yc4TW",
        "outputId": "ceb19f6f-abe3-4295-c64f-e4b75dadd00a"
      },
      "execution_count": 64,
      "outputs": [
        {
          "output_type": "stream",
          "name": "stdout",
          "text": [
            "{'A': 1, 'B': 2, 'C': 3, 'D': 4}\n"
          ]
        }
      ]
    },
    {
      "cell_type": "code",
      "source": [
        "# 여러분의 이름과 거주하는 동이름과 좋아하는 색깔을 딕셔너리 변수로 만들어 보세요.\n",
        "my_profile = {\"name\": \"jaehuuuuuuun\", \"dong\": \"hyosung\", \"color\": \"green\"}\n",
        "print(my_profile)\n",
        "\n",
        "# 기존 프로필에 좋아하는 숫자로 추가해 보세요.\n",
        "my_profile[\"number\"] = 3\n",
        "print(my_profile)\n",
        "\n",
        "# 잘못 기입한 이름을 옳게 수정해 보세요\n",
        "my_profile[\"name\"] = \"jaehun\"\n",
        "print(my_profile)\n",
        "\n",
        "# 이름은 민감한 개인 정보라서 삭제해 달라는 요청을 받았습니다. 삭제해 보세요.\n",
        "del my_profile[\"name\"]\n",
        "print(my_profile)\n",
        "\n",
        "# 좋아하는 운동 2가지를 \"favorite_sports\"라는 키로 추가해 보세요\n",
        "my_profile[\"favorite_sport\"] = {1:\"basketball\", 2:\"soccer\"}\n",
        "print(my_profile)"
      ],
      "metadata": {
        "colab": {
          "base_uri": "https://localhost:8080/"
        },
        "id": "WXzKfw9idLlZ",
        "outputId": "d69556cf-ef1b-4d13-fd02-257400f924d1"
      },
      "execution_count": 77,
      "outputs": [
        {
          "output_type": "stream",
          "name": "stdout",
          "text": [
            "{'name': 'jaehuuuuuuun', 'dong': 'hyosung', 'color': 'green'}\n",
            "{'name': 'jaehuuuuuuun', 'dong': 'hyosung', 'color': 'green', 'number': 3}\n",
            "{'name': 'jaehun', 'dong': 'hyosung', 'color': 'green', 'number': 3}\n",
            "{'dong': 'hyosung', 'color': 'green', 'number': 3}\n",
            "{'dong': 'hyosung', 'color': 'green', 'number': 3, 'favorite_sport': {1: 'basketball', 2: 'soccer'}}\n"
          ]
        }
      ]
    },
    {
      "cell_type": "code",
      "source": [
        "X = {\"A\": 1, \"B\": 2, \"C\": 3}\n",
        "print(X.keys())\n",
        "print(X.values())\n",
        "print(X.items())"
      ],
      "metadata": {
        "colab": {
          "base_uri": "https://localhost:8080/"
        },
        "id": "jy85dZbBeNYg",
        "outputId": "8897ff7b-eab5-4d0b-f8c0-d04e6160b208"
      },
      "execution_count": 79,
      "outputs": [
        {
          "output_type": "stream",
          "name": "stdout",
          "text": [
            "dict_keys(['A', 'B', 'C'])\n",
            "dict_values([1, 2, 3])\n",
            "dict_items([('A', 1), ('B', 2), ('C', 3)])\n"
          ]
        }
      ]
    },
    {
      "cell_type": "code",
      "source": [
        "# set 함수는 중복을 허락하지 않는다.\n",
        "S1 = {1, 2, 3, 2, 1}\n",
        "S2 = set([1, 2, 3, 2, 1])\n",
        "print(S1, S2)"
      ],
      "metadata": {
        "colab": {
          "base_uri": "https://localhost:8080/"
        },
        "id": "hbRWku2blOye",
        "outputId": "37c4c0d3-5288-4318-ab95-786a8ef45e1c"
      },
      "execution_count": 80,
      "outputs": [
        {
          "output_type": "stream",
          "name": "stdout",
          "text": [
            "{1, 2, 3} {1, 2, 3}\n"
          ]
        }
      ]
    },
    {
      "cell_type": "code",
      "source": [
        "L = [1, 2, 3, 1, 2, 3]\n",
        "print(set(L))"
      ],
      "metadata": {
        "colab": {
          "base_uri": "https://localhost:8080/"
        },
        "id": "qn_pIjqam2kl",
        "outputId": "b0567c7c-c7e6-4fd3-9d4e-d2fbf58ef705"
      },
      "execution_count": 81,
      "outputs": [
        {
          "output_type": "stream",
          "name": "stdout",
          "text": [
            "{1, 2, 3}\n"
          ]
        }
      ]
    },
    {
      "cell_type": "code",
      "source": [
        "# 형변환(자료형 변환)\n",
        "a = 1\n",
        "b = 2.0\n",
        "\n",
        "a_float = float(a)\n",
        "print(a_float)\n",
        "\n",
        "b_int = int(b)\n",
        "print(b_int)\n",
        "\n",
        "# 튜플 --> list\n",
        "t = 1, 2, 3\n",
        "t_list = list(t)\n",
        "print(t_list)\n",
        "\n",
        "# 리스트 --> 튜플\n",
        "t_again = tuple(t_list)\n",
        "print(t_again)"
      ],
      "metadata": {
        "colab": {
          "base_uri": "https://localhost:8080/"
        },
        "id": "SQk2WynNoNM-",
        "outputId": "7e859511-58db-4420-9285-17d17223ee49"
      },
      "execution_count": 85,
      "outputs": [
        {
          "output_type": "stream",
          "name": "stdout",
          "text": [
            "1.0\n",
            "2\n",
            "[1, 2, 3]\n",
            "(1, 2, 3)\n"
          ]
        }
      ]
    },
    {
      "cell_type": "code",
      "source": [],
      "metadata": {
        "id": "DGS4MhXTo4EX"
      },
      "execution_count": null,
      "outputs": []
    }
  ]
}